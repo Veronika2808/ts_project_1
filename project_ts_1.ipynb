{
 "cells": [
  {
   "cell_type": "code",
   "execution_count": 121,
   "metadata": {},
   "outputs": [],
   "source": [
    "import pandas as pd\n",
    "import matplotlib.pyplot as plt\n",
    "pd.set_option('display.max_colwidth', None)\n",
    "from sklearn.model_selection import train_test_split\n",
    "import numpy as np\n",
    "from sklearn.metrics import mean_absolute_error\n",
    "\n",
    "from sklearn.svm import SVR\n",
    "from sklearn.feature_selection import RFE, SelectFromModel\n",
    "from sklearn.utils import resample\n",
    "import stability as st\n",
    "\n",
    "from sklearn.linear_model import LinearRegression\n",
    "\n",
    "pd.DataFrame.iteritems=pd.DataFrame.items\n",
    "import catboost\n",
    "from catboost import Pool, CatBoostRegressor\n",
    "\n",
    "from sklearn.linear_model import Ridge, Lasso\n",
    "\n",
    "\n",
    "from scipy import stats\n",
    "\n",
    "import seaborn as sns \n",
    "from tsfresh import extract_features, extract_relevant_features, select_features\n",
    "from tsfresh.utilities.dataframe_functions import impute\n",
    "from tsfresh.feature_extraction import settings\n",
    "\n",
    "\n",
    "import optuna\n",
    "\n",
    "\n",
    "from prophet import Prophet\n",
    "from prophet.diagnostics import cross_validation"
   ]
  },
  {
   "cell_type": "code",
   "execution_count": null,
   "metadata": {},
   "outputs": [],
   "source": [
    "!pip freeze -> requirements.txt"
   ]
  },
  {
   "cell_type": "markdown",
   "metadata": {},
   "source": [
    "## EDA"
   ]
  },
  {
   "cell_type": "code",
   "execution_count": 2,
   "metadata": {},
   "outputs": [],
   "source": [
    "data = pd.read_excel('Project 1_2024.xlsx', sheet_name=0)"
   ]
  },
  {
   "cell_type": "code",
   "execution_count": 3,
   "metadata": {},
   "outputs": [
    {
     "data": {
      "text/html": [
       "<div>\n",
       "<style scoped>\n",
       "    .dataframe tbody tr th:only-of-type {\n",
       "        vertical-align: middle;\n",
       "    }\n",
       "\n",
       "    .dataframe tbody tr th {\n",
       "        vertical-align: top;\n",
       "    }\n",
       "\n",
       "    .dataframe thead th {\n",
       "        text-align: right;\n",
       "    }\n",
       "</style>\n",
       "<table border=\"1\" class=\"dataframe\">\n",
       "  <thead>\n",
       "    <tr style=\"text-align: right;\">\n",
       "      <th></th>\n",
       "      <th>Date</th>\n",
       "      <th>Income</th>\n",
       "      <th>Outcome</th>\n",
       "      <th>Balance</th>\n",
       "    </tr>\n",
       "  </thead>\n",
       "  <tbody>\n",
       "    <tr>\n",
       "      <th>0</th>\n",
       "      <td>2017-01-09 00:00:00.000</td>\n",
       "      <td>1.343028</td>\n",
       "      <td>1.487865</td>\n",
       "      <td>-0.155904</td>\n",
       "    </tr>\n",
       "    <tr>\n",
       "      <th>1</th>\n",
       "      <td>2017-01-10 00:00:00.000</td>\n",
       "      <td>1.068610</td>\n",
       "      <td>1.194182</td>\n",
       "      <td>-0.125572</td>\n",
       "    </tr>\n",
       "    <tr>\n",
       "      <th>2</th>\n",
       "      <td>2017-01-11 00:00:00.000</td>\n",
       "      <td>0.944429</td>\n",
       "      <td>0.936663</td>\n",
       "      <td>0.007767</td>\n",
       "    </tr>\n",
       "    <tr>\n",
       "      <th>3</th>\n",
       "      <td>2017-01-12 00:00:00.000</td>\n",
       "      <td>1.672202</td>\n",
       "      <td>0.875379</td>\n",
       "      <td>0.800391</td>\n",
       "    </tr>\n",
       "    <tr>\n",
       "      <th>4</th>\n",
       "      <td>2017-01-13 00:00:00.000</td>\n",
       "      <td>0.955924</td>\n",
       "      <td>0.975645</td>\n",
       "      <td>-0.019721</td>\n",
       "    </tr>\n",
       "    <tr>\n",
       "      <th>...</th>\n",
       "      <td>...</td>\n",
       "      <td>...</td>\n",
       "      <td>...</td>\n",
       "      <td>...</td>\n",
       "    </tr>\n",
       "    <tr>\n",
       "      <th>1538</th>\n",
       "      <td>2021-03-27 00:00:00.000</td>\n",
       "      <td>0.000000</td>\n",
       "      <td>0.000000</td>\n",
       "      <td>0.000000</td>\n",
       "    </tr>\n",
       "    <tr>\n",
       "      <th>1539</th>\n",
       "      <td>2021-03-28 00:00:00.000</td>\n",
       "      <td>0.000000</td>\n",
       "      <td>0.000000</td>\n",
       "      <td>0.000000</td>\n",
       "    </tr>\n",
       "    <tr>\n",
       "      <th>1540</th>\n",
       "      <td>2021-03-29 00:00:00.000</td>\n",
       "      <td>2.356883</td>\n",
       "      <td>3.370738</td>\n",
       "      <td>-1.017679</td>\n",
       "    </tr>\n",
       "    <tr>\n",
       "      <th>1541</th>\n",
       "      <td>2021-03-30 00:00:00.000</td>\n",
       "      <td>2.317382</td>\n",
       "      <td>2.567554</td>\n",
       "      <td>-0.259687</td>\n",
       "    </tr>\n",
       "    <tr>\n",
       "      <th>1542</th>\n",
       "      <td>2021-03-31 00:00:00.000</td>\n",
       "      <td>2.528054</td>\n",
       "      <td>2.528054</td>\n",
       "      <td>-0.004878</td>\n",
       "    </tr>\n",
       "  </tbody>\n",
       "</table>\n",
       "<p>1543 rows × 4 columns</p>\n",
       "</div>"
      ],
      "text/plain": [
       "                         Date    Income   Outcome   Balance\n",
       "0     2017-01-09 00:00:00.000  1.343028  1.487865 -0.155904\n",
       "1     2017-01-10 00:00:00.000  1.068610  1.194182 -0.125572\n",
       "2     2017-01-11 00:00:00.000  0.944429  0.936663  0.007767\n",
       "3     2017-01-12 00:00:00.000  1.672202  0.875379  0.800391\n",
       "4     2017-01-13 00:00:00.000  0.955924  0.975645 -0.019721\n",
       "...                       ...       ...       ...       ...\n",
       "1538  2021-03-27 00:00:00.000  0.000000  0.000000  0.000000\n",
       "1539  2021-03-28 00:00:00.000  0.000000  0.000000  0.000000\n",
       "1540  2021-03-29 00:00:00.000  2.356883  3.370738 -1.017679\n",
       "1541  2021-03-30 00:00:00.000  2.317382  2.567554 -0.259687\n",
       "1542  2021-03-31 00:00:00.000  2.528054  2.528054 -0.004878\n",
       "\n",
       "[1543 rows x 4 columns]"
      ]
     },
     "execution_count": 3,
     "metadata": {},
     "output_type": "execute_result"
    }
   ],
   "source": [
    "data"
   ]
  },
  {
   "cell_type": "code",
   "execution_count": 4,
   "metadata": {},
   "outputs": [
    {
     "name": "stdout",
     "output_type": "stream",
     "text": [
      "min date: 2017-01-09 00:00:00.000\n",
      "max date: 2021-03-31 00:00:00.000\n",
      "total num days: 1543\n"
     ]
    }
   ],
   "source": [
    "print(f\"min date: {data['Date'].min()}\")\n",
    "print(f\"max date: {data['Date'].max()}\")\n",
    "print(f\"total num days: {data.shape[0]}\")\n"
   ]
  },
  {
   "cell_type": "code",
   "execution_count": 5,
   "metadata": {},
   "outputs": [
    {
     "name": "stdout",
     "output_type": "stream",
     "text": [
      "min balance: -2.514886598357007\n",
      "max balance: 1.4088631729015693\n",
      "median balance: 0.0\n"
     ]
    }
   ],
   "source": [
    "print(f\"min balance: {data['Balance'].min()}\")\n",
    "print(f\"max balance: {data['Balance'].max()}\")\n",
    "print(f\"median balance: {data['Balance'].median()}\")"
   ]
  },
  {
   "cell_type": "markdown",
   "metadata": {},
   "source": [
    "## Add features"
   ]
  },
  {
   "cell_type": "markdown",
   "metadata": {},
   "source": [
    "### macro features"
   ]
  },
  {
   "cell_type": "code",
   "execution_count": 6,
   "metadata": {},
   "outputs": [],
   "source": [
    "data['Date_short'] =  data['Date'].apply(lambda x: x[:7])"
   ]
  },
  {
   "cell_type": "code",
   "execution_count": 7,
   "metadata": {},
   "outputs": [],
   "source": [
    "macro_data1 = pd.read_excel('/Users/veronikayashina/Desktop/мага/временные ряды/project 1/Инфляция и ключевая ставка Банка России_F27_07_2013_T23_01_2023.xlsx'\n",
    "                            , sheet_name=0, converters={'Дата': str})\\\n",
    "                            .rename(columns={'Ключевая ставка, % годовых': 'key_rate', 'Инфляция, % г/г': 'infl_rate'})\n",
    "macro_data1['Date_short'] = macro_data1['Дата'].apply(lambda x: x.split('.')[1]+'-'+ x.split('.')[0] if len(x.split('.')[0]) == 2 else x.split('.')[1]+'-0'+ x.split('.')[0])"
   ]
  },
  {
   "cell_type": "code",
   "execution_count": 8,
   "metadata": {},
   "outputs": [],
   "source": [
    "data_with_macro= data.merge(macro_data1.drop(['Дата', 'Цель по инфляции'], axis=1), on='Date_short', how='left')\n"
   ]
  },
  {
   "cell_type": "code",
   "execution_count": 9,
   "metadata": {},
   "outputs": [
    {
     "data": {
      "text/plain": [
       "Date          0\n",
       "Income        0\n",
       "Outcome       0\n",
       "Balance       0\n",
       "Date_short    0\n",
       "key_rate      0\n",
       "infl_rate     0\n",
       "dtype: int64"
      ]
     },
     "execution_count": 9,
     "metadata": {},
     "output_type": "execute_result"
    }
   ],
   "source": [
    "data_with_macro.isnull().sum()"
   ]
  },
  {
   "cell_type": "markdown",
   "metadata": {},
   "source": [
    "### taxes "
   ]
  },
  {
   "cell_type": "code",
   "execution_count": 10,
   "metadata": {},
   "outputs": [],
   "source": [
    "data_with_macro['day']= data_with_macro['Date'].apply(lambda x: int(x[8:10]))"
   ]
  },
  {
   "cell_type": "code",
   "execution_count": 11,
   "metadata": {},
   "outputs": [],
   "source": [
    "data_with_macro['tax_day'] = 0\n",
    "data_with_macro.loc[data_with_macro['day'] == 28, 'tax_day'] = 1"
   ]
  },
  {
   "cell_type": "code",
   "execution_count": 12,
   "metadata": {},
   "outputs": [
    {
     "data": {
      "text/html": [
       "<div>\n",
       "<style scoped>\n",
       "    .dataframe tbody tr th:only-of-type {\n",
       "        vertical-align: middle;\n",
       "    }\n",
       "\n",
       "    .dataframe tbody tr th {\n",
       "        vertical-align: top;\n",
       "    }\n",
       "\n",
       "    .dataframe thead th {\n",
       "        text-align: right;\n",
       "    }\n",
       "</style>\n",
       "<table border=\"1\" class=\"dataframe\">\n",
       "  <thead>\n",
       "    <tr style=\"text-align: right;\">\n",
       "      <th></th>\n",
       "      <th>Date</th>\n",
       "      <th>Income</th>\n",
       "      <th>Outcome</th>\n",
       "      <th>Balance</th>\n",
       "      <th>Date_short</th>\n",
       "      <th>key_rate</th>\n",
       "      <th>infl_rate</th>\n",
       "      <th>day</th>\n",
       "      <th>tax_day</th>\n",
       "    </tr>\n",
       "  </thead>\n",
       "  <tbody>\n",
       "    <tr>\n",
       "      <th>0</th>\n",
       "      <td>2017-01-09 00:00:00.000</td>\n",
       "      <td>1.343028</td>\n",
       "      <td>1.487865</td>\n",
       "      <td>-0.155904</td>\n",
       "      <td>2017-01</td>\n",
       "      <td>10.0</td>\n",
       "      <td>5.0</td>\n",
       "      <td>9</td>\n",
       "      <td>0</td>\n",
       "    </tr>\n",
       "    <tr>\n",
       "      <th>1</th>\n",
       "      <td>2017-01-10 00:00:00.000</td>\n",
       "      <td>1.068610</td>\n",
       "      <td>1.194182</td>\n",
       "      <td>-0.125572</td>\n",
       "      <td>2017-01</td>\n",
       "      <td>10.0</td>\n",
       "      <td>5.0</td>\n",
       "      <td>10</td>\n",
       "      <td>0</td>\n",
       "    </tr>\n",
       "    <tr>\n",
       "      <th>2</th>\n",
       "      <td>2017-01-11 00:00:00.000</td>\n",
       "      <td>0.944429</td>\n",
       "      <td>0.936663</td>\n",
       "      <td>0.007767</td>\n",
       "      <td>2017-01</td>\n",
       "      <td>10.0</td>\n",
       "      <td>5.0</td>\n",
       "      <td>11</td>\n",
       "      <td>0</td>\n",
       "    </tr>\n",
       "    <tr>\n",
       "      <th>3</th>\n",
       "      <td>2017-01-12 00:00:00.000</td>\n",
       "      <td>1.672202</td>\n",
       "      <td>0.875379</td>\n",
       "      <td>0.800391</td>\n",
       "      <td>2017-01</td>\n",
       "      <td>10.0</td>\n",
       "      <td>5.0</td>\n",
       "      <td>12</td>\n",
       "      <td>0</td>\n",
       "    </tr>\n",
       "    <tr>\n",
       "      <th>4</th>\n",
       "      <td>2017-01-13 00:00:00.000</td>\n",
       "      <td>0.955924</td>\n",
       "      <td>0.975645</td>\n",
       "      <td>-0.019721</td>\n",
       "      <td>2017-01</td>\n",
       "      <td>10.0</td>\n",
       "      <td>5.0</td>\n",
       "      <td>13</td>\n",
       "      <td>0</td>\n",
       "    </tr>\n",
       "    <tr>\n",
       "      <th>...</th>\n",
       "      <td>...</td>\n",
       "      <td>...</td>\n",
       "      <td>...</td>\n",
       "      <td>...</td>\n",
       "      <td>...</td>\n",
       "      <td>...</td>\n",
       "      <td>...</td>\n",
       "      <td>...</td>\n",
       "      <td>...</td>\n",
       "    </tr>\n",
       "    <tr>\n",
       "      <th>1538</th>\n",
       "      <td>2021-03-27 00:00:00.000</td>\n",
       "      <td>0.000000</td>\n",
       "      <td>0.000000</td>\n",
       "      <td>0.000000</td>\n",
       "      <td>2021-03</td>\n",
       "      <td>4.5</td>\n",
       "      <td>5.8</td>\n",
       "      <td>27</td>\n",
       "      <td>0</td>\n",
       "    </tr>\n",
       "    <tr>\n",
       "      <th>1539</th>\n",
       "      <td>2021-03-28 00:00:00.000</td>\n",
       "      <td>0.000000</td>\n",
       "      <td>0.000000</td>\n",
       "      <td>0.000000</td>\n",
       "      <td>2021-03</td>\n",
       "      <td>4.5</td>\n",
       "      <td>5.8</td>\n",
       "      <td>28</td>\n",
       "      <td>1</td>\n",
       "    </tr>\n",
       "    <tr>\n",
       "      <th>1540</th>\n",
       "      <td>2021-03-29 00:00:00.000</td>\n",
       "      <td>2.356883</td>\n",
       "      <td>3.370738</td>\n",
       "      <td>-1.017679</td>\n",
       "      <td>2021-03</td>\n",
       "      <td>4.5</td>\n",
       "      <td>5.8</td>\n",
       "      <td>29</td>\n",
       "      <td>0</td>\n",
       "    </tr>\n",
       "    <tr>\n",
       "      <th>1541</th>\n",
       "      <td>2021-03-30 00:00:00.000</td>\n",
       "      <td>2.317382</td>\n",
       "      <td>2.567554</td>\n",
       "      <td>-0.259687</td>\n",
       "      <td>2021-03</td>\n",
       "      <td>4.5</td>\n",
       "      <td>5.8</td>\n",
       "      <td>30</td>\n",
       "      <td>0</td>\n",
       "    </tr>\n",
       "    <tr>\n",
       "      <th>1542</th>\n",
       "      <td>2021-03-31 00:00:00.000</td>\n",
       "      <td>2.528054</td>\n",
       "      <td>2.528054</td>\n",
       "      <td>-0.004878</td>\n",
       "      <td>2021-03</td>\n",
       "      <td>4.5</td>\n",
       "      <td>5.8</td>\n",
       "      <td>31</td>\n",
       "      <td>0</td>\n",
       "    </tr>\n",
       "  </tbody>\n",
       "</table>\n",
       "<p>1543 rows × 9 columns</p>\n",
       "</div>"
      ],
      "text/plain": [
       "                         Date    Income   Outcome   Balance Date_short  \\\n",
       "0     2017-01-09 00:00:00.000  1.343028  1.487865 -0.155904    2017-01   \n",
       "1     2017-01-10 00:00:00.000  1.068610  1.194182 -0.125572    2017-01   \n",
       "2     2017-01-11 00:00:00.000  0.944429  0.936663  0.007767    2017-01   \n",
       "3     2017-01-12 00:00:00.000  1.672202  0.875379  0.800391    2017-01   \n",
       "4     2017-01-13 00:00:00.000  0.955924  0.975645 -0.019721    2017-01   \n",
       "...                       ...       ...       ...       ...        ...   \n",
       "1538  2021-03-27 00:00:00.000  0.000000  0.000000  0.000000    2021-03   \n",
       "1539  2021-03-28 00:00:00.000  0.000000  0.000000  0.000000    2021-03   \n",
       "1540  2021-03-29 00:00:00.000  2.356883  3.370738 -1.017679    2021-03   \n",
       "1541  2021-03-30 00:00:00.000  2.317382  2.567554 -0.259687    2021-03   \n",
       "1542  2021-03-31 00:00:00.000  2.528054  2.528054 -0.004878    2021-03   \n",
       "\n",
       "      key_rate  infl_rate  day  tax_day  \n",
       "0         10.0        5.0    9        0  \n",
       "1         10.0        5.0   10        0  \n",
       "2         10.0        5.0   11        0  \n",
       "3         10.0        5.0   12        0  \n",
       "4         10.0        5.0   13        0  \n",
       "...        ...        ...  ...      ...  \n",
       "1538       4.5        5.8   27        0  \n",
       "1539       4.5        5.8   28        1  \n",
       "1540       4.5        5.8   29        0  \n",
       "1541       4.5        5.8   30        0  \n",
       "1542       4.5        5.8   31        0  \n",
       "\n",
       "[1543 rows x 9 columns]"
      ]
     },
     "execution_count": 12,
     "metadata": {},
     "output_type": "execute_result"
    }
   ],
   "source": [
    "data_with_macro"
   ]
  },
  {
   "cell_type": "markdown",
   "metadata": {},
   "source": [
    "## TSFresh"
   ]
  },
  {
   "cell_type": "code",
   "execution_count": 13,
   "metadata": {},
   "outputs": [
    {
     "data": {
      "text/plain": [
       "{'variance_larger_than_standard_deviation': None, 'has_duplicate_max': None, 'has_duplicate_min': None, 'has_duplicate': None, 'sum_values': None, 'abs_energy': None, 'mean_abs_change': None, 'mean_change': None, 'mean_second_derivative_central': None, 'median': None, 'mean': None, 'length': None, 'standard_deviation': None, 'variation_coefficient': None, 'variance': None, 'skewness': None, 'kurtosis': None, 'root_mean_square': None, 'absolute_sum_of_changes': None, 'longest_strike_below_mean': None, 'longest_strike_above_mean': None, 'count_above_mean': None, 'count_below_mean': None, 'last_location_of_maximum': None, 'first_location_of_maximum': None, 'last_location_of_minimum': None, 'first_location_of_minimum': None, 'percentage_of_reoccurring_values_to_all_values': None, 'percentage_of_reoccurring_datapoints_to_all_datapoints': None, 'sum_of_reoccurring_values': None, 'sum_of_reoccurring_data_points': None, 'ratio_value_number_to_time_series_length': None, 'maximum': None, 'absolute_maximum': None, 'minimum': None, 'benford_correlation': None, 'time_reversal_asymmetry_statistic': [{'lag': 1}, {'lag': 2}, {'lag': 3}], 'c3': [{'lag': 1}, {'lag': 2}, {'lag': 3}], 'cid_ce': [{'normalize': True}, {'normalize': False}], 'symmetry_looking': [{'r': 0.0}, {'r': 0.05}, {'r': 0.1}, {'r': 0.15000000000000002}, {'r': 0.2}, {'r': 0.25}, {'r': 0.30000000000000004}, {'r': 0.35000000000000003}, {'r': 0.4}, {'r': 0.45}, {'r': 0.5}, {'r': 0.55}, {'r': 0.6000000000000001}, {'r': 0.65}, {'r': 0.7000000000000001}, {'r': 0.75}, {'r': 0.8}, {'r': 0.8500000000000001}, {'r': 0.9}, {'r': 0.9500000000000001}], 'large_standard_deviation': [{'r': 0.05}, {'r': 0.1}, {'r': 0.15000000000000002}, {'r': 0.2}, {'r': 0.25}, {'r': 0.30000000000000004}, {'r': 0.35000000000000003}, {'r': 0.4}, {'r': 0.45}, {'r': 0.5}, {'r': 0.55}, {'r': 0.6000000000000001}, {'r': 0.65}, {'r': 0.7000000000000001}, {'r': 0.75}, {'r': 0.8}, {'r': 0.8500000000000001}, {'r': 0.9}, {'r': 0.9500000000000001}], 'quantile': [{'q': 0.1}, {'q': 0.2}, {'q': 0.3}, {'q': 0.4}, {'q': 0.6}, {'q': 0.7}, {'q': 0.8}, {'q': 0.9}], 'autocorrelation': [{'lag': 0}, {'lag': 1}, {'lag': 2}, {'lag': 3}, {'lag': 4}, {'lag': 5}, {'lag': 6}, {'lag': 7}, {'lag': 8}, {'lag': 9}], 'agg_autocorrelation': [{'f_agg': 'mean', 'maxlag': 40}, {'f_agg': 'median', 'maxlag': 40}, {'f_agg': 'var', 'maxlag': 40}], 'partial_autocorrelation': [{'lag': 0}, {'lag': 1}, {'lag': 2}, {'lag': 3}, {'lag': 4}, {'lag': 5}, {'lag': 6}, {'lag': 7}, {'lag': 8}, {'lag': 9}], 'number_cwt_peaks': [{'n': 1}, {'n': 5}], 'number_peaks': [{'n': 1}, {'n': 3}, {'n': 5}, {'n': 10}, {'n': 50}], 'binned_entropy': [{'max_bins': 10}], 'index_mass_quantile': [{'q': 0.1}, {'q': 0.2}, {'q': 0.3}, {'q': 0.4}, {'q': 0.6}, {'q': 0.7}, {'q': 0.8}, {'q': 0.9}], 'cwt_coefficients': [{'widths': (2, 5, 10, 20), 'coeff': 0, 'w': 2}, {'widths': (2, 5, 10, 20), 'coeff': 0, 'w': 5}, {'widths': (2, 5, 10, 20), 'coeff': 0, 'w': 10}, {'widths': (2, 5, 10, 20), 'coeff': 0, 'w': 20}, {'widths': (2, 5, 10, 20), 'coeff': 1, 'w': 2}, {'widths': (2, 5, 10, 20), 'coeff': 1, 'w': 5}, {'widths': (2, 5, 10, 20), 'coeff': 1, 'w': 10}, {'widths': (2, 5, 10, 20), 'coeff': 1, 'w': 20}, {'widths': (2, 5, 10, 20), 'coeff': 2, 'w': 2}, {'widths': (2, 5, 10, 20), 'coeff': 2, 'w': 5}, {'widths': (2, 5, 10, 20), 'coeff': 2, 'w': 10}, {'widths': (2, 5, 10, 20), 'coeff': 2, 'w': 20}, {'widths': (2, 5, 10, 20), 'coeff': 3, 'w': 2}, {'widths': (2, 5, 10, 20), 'coeff': 3, 'w': 5}, {'widths': (2, 5, 10, 20), 'coeff': 3, 'w': 10}, {'widths': (2, 5, 10, 20), 'coeff': 3, 'w': 20}, {'widths': (2, 5, 10, 20), 'coeff': 4, 'w': 2}, {'widths': (2, 5, 10, 20), 'coeff': 4, 'w': 5}, {'widths': (2, 5, 10, 20), 'coeff': 4, 'w': 10}, {'widths': (2, 5, 10, 20), 'coeff': 4, 'w': 20}, {'widths': (2, 5, 10, 20), 'coeff': 5, 'w': 2}, {'widths': (2, 5, 10, 20), 'coeff': 5, 'w': 5}, {'widths': (2, 5, 10, 20), 'coeff': 5, 'w': 10}, {'widths': (2, 5, 10, 20), 'coeff': 5, 'w': 20}, {'widths': (2, 5, 10, 20), 'coeff': 6, 'w': 2}, {'widths': (2, 5, 10, 20), 'coeff': 6, 'w': 5}, {'widths': (2, 5, 10, 20), 'coeff': 6, 'w': 10}, {'widths': (2, 5, 10, 20), 'coeff': 6, 'w': 20}, {'widths': (2, 5, 10, 20), 'coeff': 7, 'w': 2}, {'widths': (2, 5, 10, 20), 'coeff': 7, 'w': 5}, {'widths': (2, 5, 10, 20), 'coeff': 7, 'w': 10}, {'widths': (2, 5, 10, 20), 'coeff': 7, 'w': 20}, {'widths': (2, 5, 10, 20), 'coeff': 8, 'w': 2}, {'widths': (2, 5, 10, 20), 'coeff': 8, 'w': 5}, {'widths': (2, 5, 10, 20), 'coeff': 8, 'w': 10}, {'widths': (2, 5, 10, 20), 'coeff': 8, 'w': 20}, {'widths': (2, 5, 10, 20), 'coeff': 9, 'w': 2}, {'widths': (2, 5, 10, 20), 'coeff': 9, 'w': 5}, {'widths': (2, 5, 10, 20), 'coeff': 9, 'w': 10}, {'widths': (2, 5, 10, 20), 'coeff': 9, 'w': 20}, {'widths': (2, 5, 10, 20), 'coeff': 10, 'w': 2}, {'widths': (2, 5, 10, 20), 'coeff': 10, 'w': 5}, {'widths': (2, 5, 10, 20), 'coeff': 10, 'w': 10}, {'widths': (2, 5, 10, 20), 'coeff': 10, 'w': 20}, {'widths': (2, 5, 10, 20), 'coeff': 11, 'w': 2}, {'widths': (2, 5, 10, 20), 'coeff': 11, 'w': 5}, {'widths': (2, 5, 10, 20), 'coeff': 11, 'w': 10}, {'widths': (2, 5, 10, 20), 'coeff': 11, 'w': 20}, {'widths': (2, 5, 10, 20), 'coeff': 12, 'w': 2}, {'widths': (2, 5, 10, 20), 'coeff': 12, 'w': 5}, {'widths': (2, 5, 10, 20), 'coeff': 12, 'w': 10}, {'widths': (2, 5, 10, 20), 'coeff': 12, 'w': 20}, {'widths': (2, 5, 10, 20), 'coeff': 13, 'w': 2}, {'widths': (2, 5, 10, 20), 'coeff': 13, 'w': 5}, {'widths': (2, 5, 10, 20), 'coeff': 13, 'w': 10}, {'widths': (2, 5, 10, 20), 'coeff': 13, 'w': 20}, {'widths': (2, 5, 10, 20), 'coeff': 14, 'w': 2}, {'widths': (2, 5, 10, 20), 'coeff': 14, 'w': 5}, {'widths': (2, 5, 10, 20), 'coeff': 14, 'w': 10}, {'widths': (2, 5, 10, 20), 'coeff': 14, 'w': 20}], 'spkt_welch_density': [{'coeff': 2}, {'coeff': 5}, {'coeff': 8}], 'ar_coefficient': [{'coeff': 0, 'k': 10}, {'coeff': 1, 'k': 10}, {'coeff': 2, 'k': 10}, {'coeff': 3, 'k': 10}, {'coeff': 4, 'k': 10}, {'coeff': 5, 'k': 10}, {'coeff': 6, 'k': 10}, {'coeff': 7, 'k': 10}, {'coeff': 8, 'k': 10}, {'coeff': 9, 'k': 10}, {'coeff': 10, 'k': 10}], 'change_quantiles': [{'ql': 0.0, 'qh': 0.2, 'isabs': False, 'f_agg': 'mean'}, {'ql': 0.0, 'qh': 0.2, 'isabs': False, 'f_agg': 'var'}, {'ql': 0.0, 'qh': 0.2, 'isabs': True, 'f_agg': 'mean'}, {'ql': 0.0, 'qh': 0.2, 'isabs': True, 'f_agg': 'var'}, {'ql': 0.0, 'qh': 0.4, 'isabs': False, 'f_agg': 'mean'}, {'ql': 0.0, 'qh': 0.4, 'isabs': False, 'f_agg': 'var'}, {'ql': 0.0, 'qh': 0.4, 'isabs': True, 'f_agg': 'mean'}, {'ql': 0.0, 'qh': 0.4, 'isabs': True, 'f_agg': 'var'}, {'ql': 0.0, 'qh': 0.6, 'isabs': False, 'f_agg': 'mean'}, {'ql': 0.0, 'qh': 0.6, 'isabs': False, 'f_agg': 'var'}, {'ql': 0.0, 'qh': 0.6, 'isabs': True, 'f_agg': 'mean'}, {'ql': 0.0, 'qh': 0.6, 'isabs': True, 'f_agg': 'var'}, {'ql': 0.0, 'qh': 0.8, 'isabs': False, 'f_agg': 'mean'}, {'ql': 0.0, 'qh': 0.8, 'isabs': False, 'f_agg': 'var'}, {'ql': 0.0, 'qh': 0.8, 'isabs': True, 'f_agg': 'mean'}, {'ql': 0.0, 'qh': 0.8, 'isabs': True, 'f_agg': 'var'}, {'ql': 0.0, 'qh': 1.0, 'isabs': False, 'f_agg': 'mean'}, {'ql': 0.0, 'qh': 1.0, 'isabs': False, 'f_agg': 'var'}, {'ql': 0.0, 'qh': 1.0, 'isabs': True, 'f_agg': 'mean'}, {'ql': 0.0, 'qh': 1.0, 'isabs': True, 'f_agg': 'var'}, {'ql': 0.2, 'qh': 0.4, 'isabs': False, 'f_agg': 'mean'}, {'ql': 0.2, 'qh': 0.4, 'isabs': False, 'f_agg': 'var'}, {'ql': 0.2, 'qh': 0.4, 'isabs': True, 'f_agg': 'mean'}, {'ql': 0.2, 'qh': 0.4, 'isabs': True, 'f_agg': 'var'}, {'ql': 0.2, 'qh': 0.6, 'isabs': False, 'f_agg': 'mean'}, {'ql': 0.2, 'qh': 0.6, 'isabs': False, 'f_agg': 'var'}, {'ql': 0.2, 'qh': 0.6, 'isabs': True, 'f_agg': 'mean'}, {'ql': 0.2, 'qh': 0.6, 'isabs': True, 'f_agg': 'var'}, {'ql': 0.2, 'qh': 0.8, 'isabs': False, 'f_agg': 'mean'}, {'ql': 0.2, 'qh': 0.8, 'isabs': False, 'f_agg': 'var'}, {'ql': 0.2, 'qh': 0.8, 'isabs': True, 'f_agg': 'mean'}, {'ql': 0.2, 'qh': 0.8, 'isabs': True, 'f_agg': 'var'}, {'ql': 0.2, 'qh': 1.0, 'isabs': False, 'f_agg': 'mean'}, {'ql': 0.2, 'qh': 1.0, 'isabs': False, 'f_agg': 'var'}, {'ql': 0.2, 'qh': 1.0, 'isabs': True, 'f_agg': 'mean'}, {'ql': 0.2, 'qh': 1.0, 'isabs': True, 'f_agg': 'var'}, {'ql': 0.4, 'qh': 0.6, 'isabs': False, 'f_agg': 'mean'}, {'ql': 0.4, 'qh': 0.6, 'isabs': False, 'f_agg': 'var'}, {'ql': 0.4, 'qh': 0.6, 'isabs': True, 'f_agg': 'mean'}, {'ql': 0.4, 'qh': 0.6, 'isabs': True, 'f_agg': 'var'}, {'ql': 0.4, 'qh': 0.8, 'isabs': False, 'f_agg': 'mean'}, {'ql': 0.4, 'qh': 0.8, 'isabs': False, 'f_agg': 'var'}, {'ql': 0.4, 'qh': 0.8, 'isabs': True, 'f_agg': 'mean'}, {'ql': 0.4, 'qh': 0.8, 'isabs': True, 'f_agg': 'var'}, {'ql': 0.4, 'qh': 1.0, 'isabs': False, 'f_agg': 'mean'}, {'ql': 0.4, 'qh': 1.0, 'isabs': False, 'f_agg': 'var'}, {'ql': 0.4, 'qh': 1.0, 'isabs': True, 'f_agg': 'mean'}, {'ql': 0.4, 'qh': 1.0, 'isabs': True, 'f_agg': 'var'}, {'ql': 0.6, 'qh': 0.8, 'isabs': False, 'f_agg': 'mean'}, {'ql': 0.6, 'qh': 0.8, 'isabs': False, 'f_agg': 'var'}, {'ql': 0.6, 'qh': 0.8, 'isabs': True, 'f_agg': 'mean'}, {'ql': 0.6, 'qh': 0.8, 'isabs': True, 'f_agg': 'var'}, {'ql': 0.6, 'qh': 1.0, 'isabs': False, 'f_agg': 'mean'}, {'ql': 0.6, 'qh': 1.0, 'isabs': False, 'f_agg': 'var'}, {'ql': 0.6, 'qh': 1.0, 'isabs': True, 'f_agg': 'mean'}, {'ql': 0.6, 'qh': 1.0, 'isabs': True, 'f_agg': 'var'}, {'ql': 0.8, 'qh': 1.0, 'isabs': False, 'f_agg': 'mean'}, {'ql': 0.8, 'qh': 1.0, 'isabs': False, 'f_agg': 'var'}, {'ql': 0.8, 'qh': 1.0, 'isabs': True, 'f_agg': 'mean'}, {'ql': 0.8, 'qh': 1.0, 'isabs': True, 'f_agg': 'var'}], 'fft_coefficient': [{'coeff': 0, 'attr': 'real'}, {'coeff': 1, 'attr': 'real'}, {'coeff': 2, 'attr': 'real'}, {'coeff': 3, 'attr': 'real'}, {'coeff': 4, 'attr': 'real'}, {'coeff': 5, 'attr': 'real'}, {'coeff': 6, 'attr': 'real'}, {'coeff': 7, 'attr': 'real'}, {'coeff': 8, 'attr': 'real'}, {'coeff': 9, 'attr': 'real'}, {'coeff': 10, 'attr': 'real'}, {'coeff': 11, 'attr': 'real'}, {'coeff': 12, 'attr': 'real'}, {'coeff': 13, 'attr': 'real'}, {'coeff': 14, 'attr': 'real'}, {'coeff': 15, 'attr': 'real'}, {'coeff': 16, 'attr': 'real'}, {'coeff': 17, 'attr': 'real'}, {'coeff': 18, 'attr': 'real'}, {'coeff': 19, 'attr': 'real'}, {'coeff': 20, 'attr': 'real'}, {'coeff': 21, 'attr': 'real'}, {'coeff': 22, 'attr': 'real'}, {'coeff': 23, 'attr': 'real'}, {'coeff': 24, 'attr': 'real'}, {'coeff': 25, 'attr': 'real'}, {'coeff': 26, 'attr': 'real'}, {'coeff': 27, 'attr': 'real'}, {'coeff': 28, 'attr': 'real'}, {'coeff': 29, 'attr': 'real'}, {'coeff': 30, 'attr': 'real'}, {'coeff': 31, 'attr': 'real'}, {'coeff': 32, 'attr': 'real'}, {'coeff': 33, 'attr': 'real'}, {'coeff': 34, 'attr': 'real'}, {'coeff': 35, 'attr': 'real'}, {'coeff': 36, 'attr': 'real'}, {'coeff': 37, 'attr': 'real'}, {'coeff': 38, 'attr': 'real'}, {'coeff': 39, 'attr': 'real'}, {'coeff': 40, 'attr': 'real'}, {'coeff': 41, 'attr': 'real'}, {'coeff': 42, 'attr': 'real'}, {'coeff': 43, 'attr': 'real'}, {'coeff': 44, 'attr': 'real'}, {'coeff': 45, 'attr': 'real'}, {'coeff': 46, 'attr': 'real'}, {'coeff': 47, 'attr': 'real'}, {'coeff': 48, 'attr': 'real'}, {'coeff': 49, 'attr': 'real'}, {'coeff': 50, 'attr': 'real'}, {'coeff': 51, 'attr': 'real'}, {'coeff': 52, 'attr': 'real'}, {'coeff': 53, 'attr': 'real'}, {'coeff': 54, 'attr': 'real'}, {'coeff': 55, 'attr': 'real'}, {'coeff': 56, 'attr': 'real'}, {'coeff': 57, 'attr': 'real'}, {'coeff': 58, 'attr': 'real'}, {'coeff': 59, 'attr': 'real'}, {'coeff': 60, 'attr': 'real'}, {'coeff': 61, 'attr': 'real'}, {'coeff': 62, 'attr': 'real'}, {'coeff': 63, 'attr': 'real'}, {'coeff': 64, 'attr': 'real'}, {'coeff': 65, 'attr': 'real'}, {'coeff': 66, 'attr': 'real'}, {'coeff': 67, 'attr': 'real'}, {'coeff': 68, 'attr': 'real'}, {'coeff': 69, 'attr': 'real'}, {'coeff': 70, 'attr': 'real'}, {'coeff': 71, 'attr': 'real'}, {'coeff': 72, 'attr': 'real'}, {'coeff': 73, 'attr': 'real'}, {'coeff': 74, 'attr': 'real'}, {'coeff': 75, 'attr': 'real'}, {'coeff': 76, 'attr': 'real'}, {'coeff': 77, 'attr': 'real'}, {'coeff': 78, 'attr': 'real'}, {'coeff': 79, 'attr': 'real'}, {'coeff': 80, 'attr': 'real'}, {'coeff': 81, 'attr': 'real'}, {'coeff': 82, 'attr': 'real'}, {'coeff': 83, 'attr': 'real'}, {'coeff': 84, 'attr': 'real'}, {'coeff': 85, 'attr': 'real'}, {'coeff': 86, 'attr': 'real'}, {'coeff': 87, 'attr': 'real'}, {'coeff': 88, 'attr': 'real'}, {'coeff': 89, 'attr': 'real'}, {'coeff': 90, 'attr': 'real'}, {'coeff': 91, 'attr': 'real'}, {'coeff': 92, 'attr': 'real'}, {'coeff': 93, 'attr': 'real'}, {'coeff': 94, 'attr': 'real'}, {'coeff': 95, 'attr': 'real'}, {'coeff': 96, 'attr': 'real'}, {'coeff': 97, 'attr': 'real'}, {'coeff': 98, 'attr': 'real'}, {'coeff': 99, 'attr': 'real'}, {'coeff': 0, 'attr': 'imag'}, {'coeff': 1, 'attr': 'imag'}, {'coeff': 2, 'attr': 'imag'}, {'coeff': 3, 'attr': 'imag'}, {'coeff': 4, 'attr': 'imag'}, {'coeff': 5, 'attr': 'imag'}, {'coeff': 6, 'attr': 'imag'}, {'coeff': 7, 'attr': 'imag'}, {'coeff': 8, 'attr': 'imag'}, {'coeff': 9, 'attr': 'imag'}, {'coeff': 10, 'attr': 'imag'}, {'coeff': 11, 'attr': 'imag'}, {'coeff': 12, 'attr': 'imag'}, {'coeff': 13, 'attr': 'imag'}, {'coeff': 14, 'attr': 'imag'}, {'coeff': 15, 'attr': 'imag'}, {'coeff': 16, 'attr': 'imag'}, {'coeff': 17, 'attr': 'imag'}, {'coeff': 18, 'attr': 'imag'}, {'coeff': 19, 'attr': 'imag'}, {'coeff': 20, 'attr': 'imag'}, {'coeff': 21, 'attr': 'imag'}, {'coeff': 22, 'attr': 'imag'}, {'coeff': 23, 'attr': 'imag'}, {'coeff': 24, 'attr': 'imag'}, {'coeff': 25, 'attr': 'imag'}, {'coeff': 26, 'attr': 'imag'}, {'coeff': 27, 'attr': 'imag'}, {'coeff': 28, 'attr': 'imag'}, {'coeff': 29, 'attr': 'imag'}, {'coeff': 30, 'attr': 'imag'}, {'coeff': 31, 'attr': 'imag'}, {'coeff': 32, 'attr': 'imag'}, {'coeff': 33, 'attr': 'imag'}, {'coeff': 34, 'attr': 'imag'}, {'coeff': 35, 'attr': 'imag'}, {'coeff': 36, 'attr': 'imag'}, {'coeff': 37, 'attr': 'imag'}, {'coeff': 38, 'attr': 'imag'}, {'coeff': 39, 'attr': 'imag'}, {'coeff': 40, 'attr': 'imag'}, {'coeff': 41, 'attr': 'imag'}, {'coeff': 42, 'attr': 'imag'}, {'coeff': 43, 'attr': 'imag'}, {'coeff': 44, 'attr': 'imag'}, {'coeff': 45, 'attr': 'imag'}, {'coeff': 46, 'attr': 'imag'}, {'coeff': 47, 'attr': 'imag'}, {'coeff': 48, 'attr': 'imag'}, {'coeff': 49, 'attr': 'imag'}, {'coeff': 50, 'attr': 'imag'}, {'coeff': 51, 'attr': 'imag'}, {'coeff': 52, 'attr': 'imag'}, {'coeff': 53, 'attr': 'imag'}, {'coeff': 54, 'attr': 'imag'}, {'coeff': 55, 'attr': 'imag'}, {'coeff': 56, 'attr': 'imag'}, {'coeff': 57, 'attr': 'imag'}, {'coeff': 58, 'attr': 'imag'}, {'coeff': 59, 'attr': 'imag'}, {'coeff': 60, 'attr': 'imag'}, {'coeff': 61, 'attr': 'imag'}, {'coeff': 62, 'attr': 'imag'}, {'coeff': 63, 'attr': 'imag'}, {'coeff': 64, 'attr': 'imag'}, {'coeff': 65, 'attr': 'imag'}, {'coeff': 66, 'attr': 'imag'}, {'coeff': 67, 'attr': 'imag'}, {'coeff': 68, 'attr': 'imag'}, {'coeff': 69, 'attr': 'imag'}, {'coeff': 70, 'attr': 'imag'}, {'coeff': 71, 'attr': 'imag'}, {'coeff': 72, 'attr': 'imag'}, {'coeff': 73, 'attr': 'imag'}, {'coeff': 74, 'attr': 'imag'}, {'coeff': 75, 'attr': 'imag'}, {'coeff': 76, 'attr': 'imag'}, {'coeff': 77, 'attr': 'imag'}, {'coeff': 78, 'attr': 'imag'}, {'coeff': 79, 'attr': 'imag'}, {'coeff': 80, 'attr': 'imag'}, {'coeff': 81, 'attr': 'imag'}, {'coeff': 82, 'attr': 'imag'}, {'coeff': 83, 'attr': 'imag'}, {'coeff': 84, 'attr': 'imag'}, {'coeff': 85, 'attr': 'imag'}, {'coeff': 86, 'attr': 'imag'}, {'coeff': 87, 'attr': 'imag'}, {'coeff': 88, 'attr': 'imag'}, {'coeff': 89, 'attr': 'imag'}, {'coeff': 90, 'attr': 'imag'}, {'coeff': 91, 'attr': 'imag'}, {'coeff': 92, 'attr': 'imag'}, {'coeff': 93, 'attr': 'imag'}, {'coeff': 94, 'attr': 'imag'}, {'coeff': 95, 'attr': 'imag'}, {'coeff': 96, 'attr': 'imag'}, {'coeff': 97, 'attr': 'imag'}, {'coeff': 98, 'attr': 'imag'}, {'coeff': 99, 'attr': 'imag'}, {'coeff': 0, 'attr': 'abs'}, {'coeff': 1, 'attr': 'abs'}, {'coeff': 2, 'attr': 'abs'}, {'coeff': 3, 'attr': 'abs'}, {'coeff': 4, 'attr': 'abs'}, {'coeff': 5, 'attr': 'abs'}, {'coeff': 6, 'attr': 'abs'}, {'coeff': 7, 'attr': 'abs'}, {'coeff': 8, 'attr': 'abs'}, {'coeff': 9, 'attr': 'abs'}, {'coeff': 10, 'attr': 'abs'}, {'coeff': 11, 'attr': 'abs'}, {'coeff': 12, 'attr': 'abs'}, {'coeff': 13, 'attr': 'abs'}, {'coeff': 14, 'attr': 'abs'}, {'coeff': 15, 'attr': 'abs'}, {'coeff': 16, 'attr': 'abs'}, {'coeff': 17, 'attr': 'abs'}, {'coeff': 18, 'attr': 'abs'}, {'coeff': 19, 'attr': 'abs'}, {'coeff': 20, 'attr': 'abs'}, {'coeff': 21, 'attr': 'abs'}, {'coeff': 22, 'attr': 'abs'}, {'coeff': 23, 'attr': 'abs'}, {'coeff': 24, 'attr': 'abs'}, {'coeff': 25, 'attr': 'abs'}, {'coeff': 26, 'attr': 'abs'}, {'coeff': 27, 'attr': 'abs'}, {'coeff': 28, 'attr': 'abs'}, {'coeff': 29, 'attr': 'abs'}, {'coeff': 30, 'attr': 'abs'}, {'coeff': 31, 'attr': 'abs'}, {'coeff': 32, 'attr': 'abs'}, {'coeff': 33, 'attr': 'abs'}, {'coeff': 34, 'attr': 'abs'}, {'coeff': 35, 'attr': 'abs'}, {'coeff': 36, 'attr': 'abs'}, {'coeff': 37, 'attr': 'abs'}, {'coeff': 38, 'attr': 'abs'}, {'coeff': 39, 'attr': 'abs'}, {'coeff': 40, 'attr': 'abs'}, {'coeff': 41, 'attr': 'abs'}, {'coeff': 42, 'attr': 'abs'}, {'coeff': 43, 'attr': 'abs'}, {'coeff': 44, 'attr': 'abs'}, {'coeff': 45, 'attr': 'abs'}, {'coeff': 46, 'attr': 'abs'}, {'coeff': 47, 'attr': 'abs'}, {'coeff': 48, 'attr': 'abs'}, {'coeff': 49, 'attr': 'abs'}, {'coeff': 50, 'attr': 'abs'}, {'coeff': 51, 'attr': 'abs'}, {'coeff': 52, 'attr': 'abs'}, {'coeff': 53, 'attr': 'abs'}, {'coeff': 54, 'attr': 'abs'}, {'coeff': 55, 'attr': 'abs'}, {'coeff': 56, 'attr': 'abs'}, {'coeff': 57, 'attr': 'abs'}, {'coeff': 58, 'attr': 'abs'}, {'coeff': 59, 'attr': 'abs'}, {'coeff': 60, 'attr': 'abs'}, {'coeff': 61, 'attr': 'abs'}, {'coeff': 62, 'attr': 'abs'}, {'coeff': 63, 'attr': 'abs'}, {'coeff': 64, 'attr': 'abs'}, {'coeff': 65, 'attr': 'abs'}, {'coeff': 66, 'attr': 'abs'}, {'coeff': 67, 'attr': 'abs'}, {'coeff': 68, 'attr': 'abs'}, {'coeff': 69, 'attr': 'abs'}, {'coeff': 70, 'attr': 'abs'}, {'coeff': 71, 'attr': 'abs'}, {'coeff': 72, 'attr': 'abs'}, {'coeff': 73, 'attr': 'abs'}, {'coeff': 74, 'attr': 'abs'}, {'coeff': 75, 'attr': 'abs'}, {'coeff': 76, 'attr': 'abs'}, {'coeff': 77, 'attr': 'abs'}, {'coeff': 78, 'attr': 'abs'}, {'coeff': 79, 'attr': 'abs'}, {'coeff': 80, 'attr': 'abs'}, {'coeff': 81, 'attr': 'abs'}, {'coeff': 82, 'attr': 'abs'}, {'coeff': 83, 'attr': 'abs'}, {'coeff': 84, 'attr': 'abs'}, {'coeff': 85, 'attr': 'abs'}, {'coeff': 86, 'attr': 'abs'}, {'coeff': 87, 'attr': 'abs'}, {'coeff': 88, 'attr': 'abs'}, {'coeff': 89, 'attr': 'abs'}, {'coeff': 90, 'attr': 'abs'}, {'coeff': 91, 'attr': 'abs'}, {'coeff': 92, 'attr': 'abs'}, {'coeff': 93, 'attr': 'abs'}, {'coeff': 94, 'attr': 'abs'}, {'coeff': 95, 'attr': 'abs'}, {'coeff': 96, 'attr': 'abs'}, {'coeff': 97, 'attr': 'abs'}, {'coeff': 98, 'attr': 'abs'}, {'coeff': 99, 'attr': 'abs'}, {'coeff': 0, 'attr': 'angle'}, {'coeff': 1, 'attr': 'angle'}, {'coeff': 2, 'attr': 'angle'}, {'coeff': 3, 'attr': 'angle'}, {'coeff': 4, 'attr': 'angle'}, {'coeff': 5, 'attr': 'angle'}, {'coeff': 6, 'attr': 'angle'}, {'coeff': 7, 'attr': 'angle'}, {'coeff': 8, 'attr': 'angle'}, {'coeff': 9, 'attr': 'angle'}, {'coeff': 10, 'attr': 'angle'}, {'coeff': 11, 'attr': 'angle'}, {'coeff': 12, 'attr': 'angle'}, {'coeff': 13, 'attr': 'angle'}, {'coeff': 14, 'attr': 'angle'}, {'coeff': 15, 'attr': 'angle'}, {'coeff': 16, 'attr': 'angle'}, {'coeff': 17, 'attr': 'angle'}, {'coeff': 18, 'attr': 'angle'}, {'coeff': 19, 'attr': 'angle'}, {'coeff': 20, 'attr': 'angle'}, {'coeff': 21, 'attr': 'angle'}, {'coeff': 22, 'attr': 'angle'}, {'coeff': 23, 'attr': 'angle'}, {'coeff': 24, 'attr': 'angle'}, {'coeff': 25, 'attr': 'angle'}, {'coeff': 26, 'attr': 'angle'}, {'coeff': 27, 'attr': 'angle'}, {'coeff': 28, 'attr': 'angle'}, {'coeff': 29, 'attr': 'angle'}, {'coeff': 30, 'attr': 'angle'}, {'coeff': 31, 'attr': 'angle'}, {'coeff': 32, 'attr': 'angle'}, {'coeff': 33, 'attr': 'angle'}, {'coeff': 34, 'attr': 'angle'}, {'coeff': 35, 'attr': 'angle'}, {'coeff': 36, 'attr': 'angle'}, {'coeff': 37, 'attr': 'angle'}, {'coeff': 38, 'attr': 'angle'}, {'coeff': 39, 'attr': 'angle'}, {'coeff': 40, 'attr': 'angle'}, {'coeff': 41, 'attr': 'angle'}, {'coeff': 42, 'attr': 'angle'}, {'coeff': 43, 'attr': 'angle'}, {'coeff': 44, 'attr': 'angle'}, {'coeff': 45, 'attr': 'angle'}, {'coeff': 46, 'attr': 'angle'}, {'coeff': 47, 'attr': 'angle'}, {'coeff': 48, 'attr': 'angle'}, {'coeff': 49, 'attr': 'angle'}, {'coeff': 50, 'attr': 'angle'}, {'coeff': 51, 'attr': 'angle'}, {'coeff': 52, 'attr': 'angle'}, {'coeff': 53, 'attr': 'angle'}, {'coeff': 54, 'attr': 'angle'}, {'coeff': 55, 'attr': 'angle'}, {'coeff': 56, 'attr': 'angle'}, {'coeff': 57, 'attr': 'angle'}, {'coeff': 58, 'attr': 'angle'}, {'coeff': 59, 'attr': 'angle'}, {'coeff': 60, 'attr': 'angle'}, {'coeff': 61, 'attr': 'angle'}, {'coeff': 62, 'attr': 'angle'}, {'coeff': 63, 'attr': 'angle'}, {'coeff': 64, 'attr': 'angle'}, {'coeff': 65, 'attr': 'angle'}, {'coeff': 66, 'attr': 'angle'}, {'coeff': 67, 'attr': 'angle'}, {'coeff': 68, 'attr': 'angle'}, {'coeff': 69, 'attr': 'angle'}, {'coeff': 70, 'attr': 'angle'}, {'coeff': 71, 'attr': 'angle'}, {'coeff': 72, 'attr': 'angle'}, {'coeff': 73, 'attr': 'angle'}, {'coeff': 74, 'attr': 'angle'}, {'coeff': 75, 'attr': 'angle'}, {'coeff': 76, 'attr': 'angle'}, {'coeff': 77, 'attr': 'angle'}, {'coeff': 78, 'attr': 'angle'}, {'coeff': 79, 'attr': 'angle'}, {'coeff': 80, 'attr': 'angle'}, {'coeff': 81, 'attr': 'angle'}, {'coeff': 82, 'attr': 'angle'}, {'coeff': 83, 'attr': 'angle'}, {'coeff': 84, 'attr': 'angle'}, {'coeff': 85, 'attr': 'angle'}, {'coeff': 86, 'attr': 'angle'}, {'coeff': 87, 'attr': 'angle'}, {'coeff': 88, 'attr': 'angle'}, {'coeff': 89, 'attr': 'angle'}, {'coeff': 90, 'attr': 'angle'}, {'coeff': 91, 'attr': 'angle'}, {'coeff': 92, 'attr': 'angle'}, {'coeff': 93, 'attr': 'angle'}, {'coeff': 94, 'attr': 'angle'}, {'coeff': 95, 'attr': 'angle'}, {'coeff': 96, 'attr': 'angle'}, {'coeff': 97, 'attr': 'angle'}, {'coeff': 98, 'attr': 'angle'}, {'coeff': 99, 'attr': 'angle'}], 'fft_aggregated': [{'aggtype': 'centroid'}, {'aggtype': 'variance'}, {'aggtype': 'skew'}, {'aggtype': 'kurtosis'}], 'value_count': [{'value': 0}, {'value': 1}, {'value': -1}], 'range_count': [{'min': -1, 'max': 1}, {'min': -1000000000000.0, 'max': 0}, {'min': 0, 'max': 1000000000000.0}], 'friedrich_coefficients': [{'coeff': 0, 'm': 3, 'r': 30}, {'coeff': 1, 'm': 3, 'r': 30}, {'coeff': 2, 'm': 3, 'r': 30}, {'coeff': 3, 'm': 3, 'r': 30}], 'max_langevin_fixed_point': [{'m': 3, 'r': 30}], 'linear_trend': [{'attr': 'pvalue'}, {'attr': 'rvalue'}, {'attr': 'intercept'}, {'attr': 'slope'}, {'attr': 'stderr'}], 'agg_linear_trend': [{'attr': 'rvalue', 'chunk_len': 5, 'f_agg': 'max'}, {'attr': 'rvalue', 'chunk_len': 5, 'f_agg': 'min'}, {'attr': 'rvalue', 'chunk_len': 5, 'f_agg': 'mean'}, {'attr': 'rvalue', 'chunk_len': 5, 'f_agg': 'var'}, {'attr': 'rvalue', 'chunk_len': 10, 'f_agg': 'max'}, {'attr': 'rvalue', 'chunk_len': 10, 'f_agg': 'min'}, {'attr': 'rvalue', 'chunk_len': 10, 'f_agg': 'mean'}, {'attr': 'rvalue', 'chunk_len': 10, 'f_agg': 'var'}, {'attr': 'rvalue', 'chunk_len': 50, 'f_agg': 'max'}, {'attr': 'rvalue', 'chunk_len': 50, 'f_agg': 'min'}, {'attr': 'rvalue', 'chunk_len': 50, 'f_agg': 'mean'}, {'attr': 'rvalue', 'chunk_len': 50, 'f_agg': 'var'}, {'attr': 'intercept', 'chunk_len': 5, 'f_agg': 'max'}, {'attr': 'intercept', 'chunk_len': 5, 'f_agg': 'min'}, {'attr': 'intercept', 'chunk_len': 5, 'f_agg': 'mean'}, {'attr': 'intercept', 'chunk_len': 5, 'f_agg': 'var'}, {'attr': 'intercept', 'chunk_len': 10, 'f_agg': 'max'}, {'attr': 'intercept', 'chunk_len': 10, 'f_agg': 'min'}, {'attr': 'intercept', 'chunk_len': 10, 'f_agg': 'mean'}, {'attr': 'intercept', 'chunk_len': 10, 'f_agg': 'var'}, {'attr': 'intercept', 'chunk_len': 50, 'f_agg': 'max'}, {'attr': 'intercept', 'chunk_len': 50, 'f_agg': 'min'}, {'attr': 'intercept', 'chunk_len': 50, 'f_agg': 'mean'}, {'attr': 'intercept', 'chunk_len': 50, 'f_agg': 'var'}, {'attr': 'slope', 'chunk_len': 5, 'f_agg': 'max'}, {'attr': 'slope', 'chunk_len': 5, 'f_agg': 'min'}, {'attr': 'slope', 'chunk_len': 5, 'f_agg': 'mean'}, {'attr': 'slope', 'chunk_len': 5, 'f_agg': 'var'}, {'attr': 'slope', 'chunk_len': 10, 'f_agg': 'max'}, {'attr': 'slope', 'chunk_len': 10, 'f_agg': 'min'}, {'attr': 'slope', 'chunk_len': 10, 'f_agg': 'mean'}, {'attr': 'slope', 'chunk_len': 10, 'f_agg': 'var'}, {'attr': 'slope', 'chunk_len': 50, 'f_agg': 'max'}, {'attr': 'slope', 'chunk_len': 50, 'f_agg': 'min'}, {'attr': 'slope', 'chunk_len': 50, 'f_agg': 'mean'}, {'attr': 'slope', 'chunk_len': 50, 'f_agg': 'var'}, {'attr': 'stderr', 'chunk_len': 5, 'f_agg': 'max'}, {'attr': 'stderr', 'chunk_len': 5, 'f_agg': 'min'}, {'attr': 'stderr', 'chunk_len': 5, 'f_agg': 'mean'}, {'attr': 'stderr', 'chunk_len': 5, 'f_agg': 'var'}, {'attr': 'stderr', 'chunk_len': 10, 'f_agg': 'max'}, {'attr': 'stderr', 'chunk_len': 10, 'f_agg': 'min'}, {'attr': 'stderr', 'chunk_len': 10, 'f_agg': 'mean'}, {'attr': 'stderr', 'chunk_len': 10, 'f_agg': 'var'}, {'attr': 'stderr', 'chunk_len': 50, 'f_agg': 'max'}, {'attr': 'stderr', 'chunk_len': 50, 'f_agg': 'min'}, {'attr': 'stderr', 'chunk_len': 50, 'f_agg': 'mean'}, {'attr': 'stderr', 'chunk_len': 50, 'f_agg': 'var'}], 'augmented_dickey_fuller': [{'attr': 'teststat'}, {'attr': 'pvalue'}, {'attr': 'usedlag'}], 'number_crossing_m': [{'m': 0}, {'m': -1}, {'m': 1}], 'energy_ratio_by_chunks': [{'num_segments': 10, 'segment_focus': 0}, {'num_segments': 10, 'segment_focus': 1}, {'num_segments': 10, 'segment_focus': 2}, {'num_segments': 10, 'segment_focus': 3}, {'num_segments': 10, 'segment_focus': 4}, {'num_segments': 10, 'segment_focus': 5}, {'num_segments': 10, 'segment_focus': 6}, {'num_segments': 10, 'segment_focus': 7}, {'num_segments': 10, 'segment_focus': 8}, {'num_segments': 10, 'segment_focus': 9}], 'ratio_beyond_r_sigma': [{'r': 0.5}, {'r': 1}, {'r': 1.5}, {'r': 2}, {'r': 2.5}, {'r': 3}, {'r': 5}, {'r': 6}, {'r': 7}, {'r': 10}], 'linear_trend_timewise': [{'attr': 'pvalue'}, {'attr': 'rvalue'}, {'attr': 'intercept'}, {'attr': 'slope'}, {'attr': 'stderr'}], 'count_above': [{'t': 0}], 'count_below': [{'t': 0}], 'lempel_ziv_complexity': [{'bins': 2}, {'bins': 3}, {'bins': 5}, {'bins': 10}, {'bins': 100}], 'fourier_entropy': [{'bins': 2}, {'bins': 3}, {'bins': 5}, {'bins': 10}, {'bins': 100}], 'permutation_entropy': [{'tau': 1, 'dimension': 3}, {'tau': 1, 'dimension': 4}, {'tau': 1, 'dimension': 5}, {'tau': 1, 'dimension': 6}, {'tau': 1, 'dimension': 7}], 'query_similarity_count': [{'query': None, 'threshold': 0.0}], 'mean_n_absolute_max': [{'number_of_maxima': 7}]}"
      ]
     },
     "execution_count": 13,
     "metadata": {},
     "output_type": "execute_result"
    }
   ],
   "source": [
    "settings_efficient = settings.EfficientFCParameters()\n",
    "settings_efficient"
   ]
  },
  {
   "cell_type": "code",
   "execution_count": 14,
   "metadata": {},
   "outputs": [],
   "source": [
    "data_clean = data_with_macro.drop(['Date', 'Outcome', 'Income', 'Date_short', 'day', 'tax_day'], axis=1)"
   ]
  },
  {
   "cell_type": "code",
   "execution_count": 15,
   "metadata": {},
   "outputs": [
    {
     "name": "stdout",
     "output_type": "stream",
     "text": [
      "(4629, 2)\n"
     ]
    },
    {
     "data": {
      "text/html": [
       "<div>\n",
       "<style scoped>\n",
       "    .dataframe tbody tr th:only-of-type {\n",
       "        vertical-align: middle;\n",
       "    }\n",
       "\n",
       "    .dataframe tbody tr th {\n",
       "        vertical-align: top;\n",
       "    }\n",
       "\n",
       "    .dataframe thead th {\n",
       "        text-align: right;\n",
       "    }\n",
       "</style>\n",
       "<table border=\"1\" class=\"dataframe\">\n",
       "  <thead>\n",
       "    <tr style=\"text-align: right;\">\n",
       "      <th></th>\n",
       "      <th>0</th>\n",
       "      <th>1</th>\n",
       "    </tr>\n",
       "  </thead>\n",
       "  <tbody>\n",
       "    <tr>\n",
       "      <th>0</th>\n",
       "      <td>-0.155904</td>\n",
       "      <td>0</td>\n",
       "    </tr>\n",
       "    <tr>\n",
       "      <th>1</th>\n",
       "      <td>10.000000</td>\n",
       "      <td>0</td>\n",
       "    </tr>\n",
       "    <tr>\n",
       "      <th>2</th>\n",
       "      <td>5.000000</td>\n",
       "      <td>0</td>\n",
       "    </tr>\n",
       "    <tr>\n",
       "      <th>3</th>\n",
       "      <td>-0.125572</td>\n",
       "      <td>1</td>\n",
       "    </tr>\n",
       "    <tr>\n",
       "      <th>4</th>\n",
       "      <td>10.000000</td>\n",
       "      <td>1</td>\n",
       "    </tr>\n",
       "  </tbody>\n",
       "</table>\n",
       "</div>"
      ],
      "text/plain": [
       "           0  1\n",
       "0  -0.155904  0\n",
       "1  10.000000  0\n",
       "2   5.000000  0\n",
       "3  -0.125572  1\n",
       "4  10.000000  1"
      ]
     },
     "execution_count": 15,
     "metadata": {},
     "output_type": "execute_result"
    }
   ],
   "source": [
    "data_long = pd.DataFrame({0: data_clean.values.flatten(),\n",
    "                          1: np.arange(data_clean.shape[0]).repeat(data_clean.shape[1])})\n",
    "print(data_long.shape)\n",
    "data_long.head()"
   ]
  },
  {
   "cell_type": "code",
   "execution_count": 16,
   "metadata": {},
   "outputs": [
    {
     "name": "stderr",
     "output_type": "stream",
     "text": [
      "Feature Extraction: 100%|██████████| 20/20 [00:12<00:00,  1.59it/s]\n"
     ]
    },
    {
     "name": "stdout",
     "output_type": "stream",
     "text": [
      "(1543, 777)\n"
     ]
    }
   ],
   "source": [
    "X = extract_features(data_long, column_id=1, impute_function=impute, default_fc_parameters=settings_efficient)\n",
    "print(X.shape)"
   ]
  },
  {
   "cell_type": "code",
   "execution_count": 17,
   "metadata": {},
   "outputs": [],
   "source": [
    "def primary_feature_filtering(df, nans_thrs = 0.5, std_thrs = 0):\n",
    "    features = df.columns\n",
    "    shape = df.shape[0]\n",
    "    excluded_by_nans = []\n",
    "    excluded_by_std = []\n",
    "\n",
    "    for f in features:\n",
    "        if df[f].isnull().sum() / shape > nans_thrs:\n",
    "            excluded_by_nans.append(f)\n",
    "        if df[f].std() <= std_thrs:\n",
    "            excluded_by_std.append(f)\n",
    "\n",
    "    clean_df = df.drop(excluded_by_std + excluded_by_nans, axis=1)\n",
    "    print(f'Num cols excluded by null share: {len(excluded_by_nans)}')\n",
    "    print(f'Num cols excluded by standard deviation: {len(excluded_by_std)}')\n",
    "    print(f'Clean df shape: {clean_df.shape}')\n",
    "    \n",
    "    return excluded_by_nans, excluded_by_std, clean_df"
   ]
  },
  {
   "cell_type": "code",
   "execution_count": 18,
   "metadata": {},
   "outputs": [
    {
     "name": "stdout",
     "output_type": "stream",
     "text": [
      "Num cols excluded by null share: 0\n",
      "Num cols excluded by standard deviation: 679\n",
      "Clean df shape: (1543, 98)\n"
     ]
    }
   ],
   "source": [
    "excluded_by_nans, excluded_by_std, X_clean = primary_feature_filtering(X, nans_thrs = 0.5, std_thrs = 0.1)"
   ]
  },
  {
   "cell_type": "code",
   "execution_count": 19,
   "metadata": {},
   "outputs": [
    {
     "data": {
      "text/html": [
       "<div>\n",
       "<style scoped>\n",
       "    .dataframe tbody tr th:only-of-type {\n",
       "        vertical-align: middle;\n",
       "    }\n",
       "\n",
       "    .dataframe tbody tr th {\n",
       "        vertical-align: top;\n",
       "    }\n",
       "\n",
       "    .dataframe thead th {\n",
       "        text-align: right;\n",
       "    }\n",
       "</style>\n",
       "<table border=\"1\" class=\"dataframe\">\n",
       "  <thead>\n",
       "    <tr style=\"text-align: right;\">\n",
       "      <th></th>\n",
       "      <th>0__sum_values</th>\n",
       "      <th>0__abs_energy</th>\n",
       "      <th>0__mean_abs_change</th>\n",
       "      <th>0__mean_change</th>\n",
       "      <th>0__mean_second_derivative_central</th>\n",
       "      <th>0__median</th>\n",
       "      <th>0__mean</th>\n",
       "      <th>0__standard_deviation</th>\n",
       "      <th>0__variance</th>\n",
       "      <th>0__skewness</th>\n",
       "      <th>...</th>\n",
       "      <th>0__linear_trend__attr_\"stderr\"</th>\n",
       "      <th>0__number_crossing_m__m_0</th>\n",
       "      <th>0__energy_ratio_by_chunks__num_segments_10__segment_focus_1</th>\n",
       "      <th>0__energy_ratio_by_chunks__num_segments_10__segment_focus_2</th>\n",
       "      <th>0__ratio_beyond_r_sigma__r_0.5</th>\n",
       "      <th>0__ratio_beyond_r_sigma__r_1</th>\n",
       "      <th>0__count_above__t_0</th>\n",
       "      <th>0__count_below__t_0</th>\n",
       "      <th>0__lempel_ziv_complexity__bins_3</th>\n",
       "      <th>0__lempel_ziv_complexity__bins_5</th>\n",
       "    </tr>\n",
       "  </thead>\n",
       "  <tbody>\n",
       "    <tr>\n",
       "      <th>0</th>\n",
       "      <td>14.844096</td>\n",
       "      <td>125.024306</td>\n",
       "      <td>7.577952</td>\n",
       "      <td>2.577952</td>\n",
       "      <td>-7.577952</td>\n",
       "      <td>5.0</td>\n",
       "      <td>4.948032</td>\n",
       "      <td>4.146293</td>\n",
       "      <td>17.191747</td>\n",
       "      <td>-0.046046</td>\n",
       "      <td>...</td>\n",
       "      <td>4.375133</td>\n",
       "      <td>1.0</td>\n",
       "      <td>0.799844</td>\n",
       "      <td>0.199961</td>\n",
       "      <td>0.666667</td>\n",
       "      <td>0.666667</td>\n",
       "      <td>0.666667</td>\n",
       "      <td>0.333333</td>\n",
       "      <td>1.000000</td>\n",
       "      <td>1.000000</td>\n",
       "    </tr>\n",
       "    <tr>\n",
       "      <th>1</th>\n",
       "      <td>14.874428</td>\n",
       "      <td>125.015768</td>\n",
       "      <td>7.562786</td>\n",
       "      <td>2.562786</td>\n",
       "      <td>-7.562786</td>\n",
       "      <td>5.0</td>\n",
       "      <td>4.958143</td>\n",
       "      <td>4.133853</td>\n",
       "      <td>17.088745</td>\n",
       "      <td>-0.037201</td>\n",
       "      <td>...</td>\n",
       "      <td>4.366377</td>\n",
       "      <td>1.0</td>\n",
       "      <td>0.799899</td>\n",
       "      <td>0.199975</td>\n",
       "      <td>0.666667</td>\n",
       "      <td>0.666667</td>\n",
       "      <td>0.666667</td>\n",
       "      <td>0.333333</td>\n",
       "      <td>1.000000</td>\n",
       "      <td>1.000000</td>\n",
       "    </tr>\n",
       "    <tr>\n",
       "      <th>2</th>\n",
       "      <td>15.007767</td>\n",
       "      <td>125.000060</td>\n",
       "      <td>7.496117</td>\n",
       "      <td>2.496117</td>\n",
       "      <td>-7.496117</td>\n",
       "      <td>5.0</td>\n",
       "      <td>5.002589</td>\n",
       "      <td>4.079313</td>\n",
       "      <td>16.640791</td>\n",
       "      <td>0.002332</td>\n",
       "      <td>...</td>\n",
       "      <td>4.327885</td>\n",
       "      <td>0.0</td>\n",
       "      <td>0.800000</td>\n",
       "      <td>0.200000</td>\n",
       "      <td>0.666667</td>\n",
       "      <td>0.666667</td>\n",
       "      <td>1.000000</td>\n",
       "      <td>0.000000</td>\n",
       "      <td>1.000000</td>\n",
       "      <td>1.000000</td>\n",
       "    </tr>\n",
       "    <tr>\n",
       "      <th>3</th>\n",
       "      <td>15.800391</td>\n",
       "      <td>125.640625</td>\n",
       "      <td>7.099805</td>\n",
       "      <td>2.099805</td>\n",
       "      <td>-7.099805</td>\n",
       "      <td>5.0</td>\n",
       "      <td>5.266797</td>\n",
       "      <td>3.760460</td>\n",
       "      <td>14.141059</td>\n",
       "      <td>0.259805</td>\n",
       "      <td>...</td>\n",
       "      <td>4.099074</td>\n",
       "      <td>0.0</td>\n",
       "      <td>0.795921</td>\n",
       "      <td>0.198980</td>\n",
       "      <td>0.666667</td>\n",
       "      <td>0.666667</td>\n",
       "      <td>1.000000</td>\n",
       "      <td>0.000000</td>\n",
       "      <td>1.000000</td>\n",
       "      <td>1.000000</td>\n",
       "    </tr>\n",
       "    <tr>\n",
       "      <th>4</th>\n",
       "      <td>14.980279</td>\n",
       "      <td>125.000389</td>\n",
       "      <td>7.509861</td>\n",
       "      <td>2.509861</td>\n",
       "      <td>-7.509861</td>\n",
       "      <td>5.0</td>\n",
       "      <td>4.993426</td>\n",
       "      <td>4.090537</td>\n",
       "      <td>16.732490</td>\n",
       "      <td>-0.005905</td>\n",
       "      <td>...</td>\n",
       "      <td>4.335820</td>\n",
       "      <td>1.0</td>\n",
       "      <td>0.799998</td>\n",
       "      <td>0.199999</td>\n",
       "      <td>0.666667</td>\n",
       "      <td>0.666667</td>\n",
       "      <td>0.666667</td>\n",
       "      <td>0.333333</td>\n",
       "      <td>1.000000</td>\n",
       "      <td>1.000000</td>\n",
       "    </tr>\n",
       "    <tr>\n",
       "      <th>...</th>\n",
       "      <td>...</td>\n",
       "      <td>...</td>\n",
       "      <td>...</td>\n",
       "      <td>...</td>\n",
       "      <td>...</td>\n",
       "      <td>...</td>\n",
       "      <td>...</td>\n",
       "      <td>...</td>\n",
       "      <td>...</td>\n",
       "      <td>...</td>\n",
       "      <td>...</td>\n",
       "      <td>...</td>\n",
       "      <td>...</td>\n",
       "      <td>...</td>\n",
       "      <td>...</td>\n",
       "      <td>...</td>\n",
       "      <td>...</td>\n",
       "      <td>...</td>\n",
       "      <td>...</td>\n",
       "      <td>...</td>\n",
       "      <td>...</td>\n",
       "    </tr>\n",
       "    <tr>\n",
       "      <th>1538</th>\n",
       "      <td>10.300000</td>\n",
       "      <td>53.890000</td>\n",
       "      <td>2.900000</td>\n",
       "      <td>2.900000</td>\n",
       "      <td>-1.600000</td>\n",
       "      <td>4.5</td>\n",
       "      <td>3.433333</td>\n",
       "      <td>2.485067</td>\n",
       "      <td>6.175556</td>\n",
       "      <td>-1.383386</td>\n",
       "      <td>...</td>\n",
       "      <td>0.923760</td>\n",
       "      <td>1.0</td>\n",
       "      <td>0.375765</td>\n",
       "      <td>0.624235</td>\n",
       "      <td>0.666667</td>\n",
       "      <td>0.333333</td>\n",
       "      <td>1.000000</td>\n",
       "      <td>0.333333</td>\n",
       "      <td>0.666667</td>\n",
       "      <td>1.000000</td>\n",
       "    </tr>\n",
       "    <tr>\n",
       "      <th>1539</th>\n",
       "      <td>10.300000</td>\n",
       "      <td>53.890000</td>\n",
       "      <td>2.900000</td>\n",
       "      <td>2.900000</td>\n",
       "      <td>-1.600000</td>\n",
       "      <td>4.5</td>\n",
       "      <td>3.433333</td>\n",
       "      <td>2.485067</td>\n",
       "      <td>6.175556</td>\n",
       "      <td>-1.383386</td>\n",
       "      <td>...</td>\n",
       "      <td>0.923760</td>\n",
       "      <td>1.0</td>\n",
       "      <td>0.375765</td>\n",
       "      <td>0.624235</td>\n",
       "      <td>0.666667</td>\n",
       "      <td>0.333333</td>\n",
       "      <td>1.000000</td>\n",
       "      <td>0.333333</td>\n",
       "      <td>0.666667</td>\n",
       "      <td>1.000000</td>\n",
       "    </tr>\n",
       "    <tr>\n",
       "      <th>1540</th>\n",
       "      <td>9.282321</td>\n",
       "      <td>54.925672</td>\n",
       "      <td>3.408840</td>\n",
       "      <td>3.408840</td>\n",
       "      <td>-2.108840</td>\n",
       "      <td>4.5</td>\n",
       "      <td>3.094107</td>\n",
       "      <td>2.955514</td>\n",
       "      <td>8.735060</td>\n",
       "      <td>-1.484124</td>\n",
       "      <td>...</td>\n",
       "      <td>1.217539</td>\n",
       "      <td>1.0</td>\n",
       "      <td>0.368680</td>\n",
       "      <td>0.612464</td>\n",
       "      <td>0.666667</td>\n",
       "      <td>0.333333</td>\n",
       "      <td>0.666667</td>\n",
       "      <td>0.333333</td>\n",
       "      <td>0.666667</td>\n",
       "      <td>0.666667</td>\n",
       "    </tr>\n",
       "    <tr>\n",
       "      <th>1541</th>\n",
       "      <td>10.040313</td>\n",
       "      <td>53.957437</td>\n",
       "      <td>3.029843</td>\n",
       "      <td>3.029843</td>\n",
       "      <td>-1.729843</td>\n",
       "      <td>4.5</td>\n",
       "      <td>3.346771</td>\n",
       "      <td>2.604791</td>\n",
       "      <td>6.784936</td>\n",
       "      <td>-1.414137</td>\n",
       "      <td>...</td>\n",
       "      <td>0.998726</td>\n",
       "      <td>1.0</td>\n",
       "      <td>0.375296</td>\n",
       "      <td>0.623454</td>\n",
       "      <td>0.666667</td>\n",
       "      <td>0.333333</td>\n",
       "      <td>0.666667</td>\n",
       "      <td>0.333333</td>\n",
       "      <td>0.666667</td>\n",
       "      <td>1.000000</td>\n",
       "    </tr>\n",
       "    <tr>\n",
       "      <th>1542</th>\n",
       "      <td>10.295122</td>\n",
       "      <td>53.890024</td>\n",
       "      <td>2.902439</td>\n",
       "      <td>2.902439</td>\n",
       "      <td>-1.602439</td>\n",
       "      <td>4.5</td>\n",
       "      <td>3.431707</td>\n",
       "      <td>2.487313</td>\n",
       "      <td>6.186726</td>\n",
       "      <td>-1.384003</td>\n",
       "      <td>...</td>\n",
       "      <td>0.925169</td>\n",
       "      <td>1.0</td>\n",
       "      <td>0.375765</td>\n",
       "      <td>0.624234</td>\n",
       "      <td>0.666667</td>\n",
       "      <td>0.333333</td>\n",
       "      <td>0.666667</td>\n",
       "      <td>0.333333</td>\n",
       "      <td>0.666667</td>\n",
       "      <td>1.000000</td>\n",
       "    </tr>\n",
       "  </tbody>\n",
       "</table>\n",
       "<p>1543 rows × 98 columns</p>\n",
       "</div>"
      ],
      "text/plain": [
       "      0__sum_values  0__abs_energy  0__mean_abs_change  0__mean_change  \\\n",
       "0         14.844096     125.024306            7.577952        2.577952   \n",
       "1         14.874428     125.015768            7.562786        2.562786   \n",
       "2         15.007767     125.000060            7.496117        2.496117   \n",
       "3         15.800391     125.640625            7.099805        2.099805   \n",
       "4         14.980279     125.000389            7.509861        2.509861   \n",
       "...             ...            ...                 ...             ...   \n",
       "1538      10.300000      53.890000            2.900000        2.900000   \n",
       "1539      10.300000      53.890000            2.900000        2.900000   \n",
       "1540       9.282321      54.925672            3.408840        3.408840   \n",
       "1541      10.040313      53.957437            3.029843        3.029843   \n",
       "1542      10.295122      53.890024            2.902439        2.902439   \n",
       "\n",
       "      0__mean_second_derivative_central  0__median   0__mean  \\\n",
       "0                             -7.577952        5.0  4.948032   \n",
       "1                             -7.562786        5.0  4.958143   \n",
       "2                             -7.496117        5.0  5.002589   \n",
       "3                             -7.099805        5.0  5.266797   \n",
       "4                             -7.509861        5.0  4.993426   \n",
       "...                                 ...        ...       ...   \n",
       "1538                          -1.600000        4.5  3.433333   \n",
       "1539                          -1.600000        4.5  3.433333   \n",
       "1540                          -2.108840        4.5  3.094107   \n",
       "1541                          -1.729843        4.5  3.346771   \n",
       "1542                          -1.602439        4.5  3.431707   \n",
       "\n",
       "      0__standard_deviation  0__variance  0__skewness  ...  \\\n",
       "0                  4.146293    17.191747    -0.046046  ...   \n",
       "1                  4.133853    17.088745    -0.037201  ...   \n",
       "2                  4.079313    16.640791     0.002332  ...   \n",
       "3                  3.760460    14.141059     0.259805  ...   \n",
       "4                  4.090537    16.732490    -0.005905  ...   \n",
       "...                     ...          ...          ...  ...   \n",
       "1538               2.485067     6.175556    -1.383386  ...   \n",
       "1539               2.485067     6.175556    -1.383386  ...   \n",
       "1540               2.955514     8.735060    -1.484124  ...   \n",
       "1541               2.604791     6.784936    -1.414137  ...   \n",
       "1542               2.487313     6.186726    -1.384003  ...   \n",
       "\n",
       "      0__linear_trend__attr_\"stderr\"  0__number_crossing_m__m_0  \\\n",
       "0                           4.375133                        1.0   \n",
       "1                           4.366377                        1.0   \n",
       "2                           4.327885                        0.0   \n",
       "3                           4.099074                        0.0   \n",
       "4                           4.335820                        1.0   \n",
       "...                              ...                        ...   \n",
       "1538                        0.923760                        1.0   \n",
       "1539                        0.923760                        1.0   \n",
       "1540                        1.217539                        1.0   \n",
       "1541                        0.998726                        1.0   \n",
       "1542                        0.925169                        1.0   \n",
       "\n",
       "      0__energy_ratio_by_chunks__num_segments_10__segment_focus_1  \\\n",
       "0                                                        0.799844   \n",
       "1                                                        0.799899   \n",
       "2                                                        0.800000   \n",
       "3                                                        0.795921   \n",
       "4                                                        0.799998   \n",
       "...                                                           ...   \n",
       "1538                                                     0.375765   \n",
       "1539                                                     0.375765   \n",
       "1540                                                     0.368680   \n",
       "1541                                                     0.375296   \n",
       "1542                                                     0.375765   \n",
       "\n",
       "      0__energy_ratio_by_chunks__num_segments_10__segment_focus_2  \\\n",
       "0                                                        0.199961   \n",
       "1                                                        0.199975   \n",
       "2                                                        0.200000   \n",
       "3                                                        0.198980   \n",
       "4                                                        0.199999   \n",
       "...                                                           ...   \n",
       "1538                                                     0.624235   \n",
       "1539                                                     0.624235   \n",
       "1540                                                     0.612464   \n",
       "1541                                                     0.623454   \n",
       "1542                                                     0.624234   \n",
       "\n",
       "      0__ratio_beyond_r_sigma__r_0.5  0__ratio_beyond_r_sigma__r_1  \\\n",
       "0                           0.666667                      0.666667   \n",
       "1                           0.666667                      0.666667   \n",
       "2                           0.666667                      0.666667   \n",
       "3                           0.666667                      0.666667   \n",
       "4                           0.666667                      0.666667   \n",
       "...                              ...                           ...   \n",
       "1538                        0.666667                      0.333333   \n",
       "1539                        0.666667                      0.333333   \n",
       "1540                        0.666667                      0.333333   \n",
       "1541                        0.666667                      0.333333   \n",
       "1542                        0.666667                      0.333333   \n",
       "\n",
       "      0__count_above__t_0  0__count_below__t_0  \\\n",
       "0                0.666667             0.333333   \n",
       "1                0.666667             0.333333   \n",
       "2                1.000000             0.000000   \n",
       "3                1.000000             0.000000   \n",
       "4                0.666667             0.333333   \n",
       "...                   ...                  ...   \n",
       "1538             1.000000             0.333333   \n",
       "1539             1.000000             0.333333   \n",
       "1540             0.666667             0.333333   \n",
       "1541             0.666667             0.333333   \n",
       "1542             0.666667             0.333333   \n",
       "\n",
       "      0__lempel_ziv_complexity__bins_3  0__lempel_ziv_complexity__bins_5  \n",
       "0                             1.000000                          1.000000  \n",
       "1                             1.000000                          1.000000  \n",
       "2                             1.000000                          1.000000  \n",
       "3                             1.000000                          1.000000  \n",
       "4                             1.000000                          1.000000  \n",
       "...                                ...                               ...  \n",
       "1538                          0.666667                          1.000000  \n",
       "1539                          0.666667                          1.000000  \n",
       "1540                          0.666667                          0.666667  \n",
       "1541                          0.666667                          1.000000  \n",
       "1542                          0.666667                          1.000000  \n",
       "\n",
       "[1543 rows x 98 columns]"
      ]
     },
     "execution_count": 19,
     "metadata": {},
     "output_type": "execute_result"
    }
   ],
   "source": [
    "X_clean"
   ]
  },
  {
   "cell_type": "markdown",
   "metadata": {},
   "source": [
    "## Baseline"
   ]
  },
  {
   "cell_type": "code",
   "execution_count": 20,
   "metadata": {},
   "outputs": [],
   "source": [
    "X_clean['tax_day'] = data_with_macro['tax_day']\n",
    "X_clean['date'] = data_with_macro['Date']\n",
    "df_clean_with_target = X_clean.copy(deep=True)\n",
    "df_clean_with_target['target'] = data_with_macro['Balance']"
   ]
  },
  {
   "cell_type": "markdown",
   "metadata": {},
   "source": [
    "### intime/oot"
   ]
  },
  {
   "cell_type": "code",
   "execution_count": 21,
   "metadata": {},
   "outputs": [
    {
     "data": {
      "text/plain": [
       "'2017-01-09 00:00:00.000'"
      ]
     },
     "execution_count": 21,
     "metadata": {},
     "output_type": "execute_result"
    }
   ],
   "source": [
    "X_clean['date'].min()"
   ]
  },
  {
   "cell_type": "code",
   "execution_count": 22,
   "metadata": {},
   "outputs": [
    {
     "data": {
      "text/plain": [
       "'2021-03-31 00:00:00.000'"
      ]
     },
     "execution_count": 22,
     "metadata": {},
     "output_type": "execute_result"
    }
   ],
   "source": [
    "X_clean['date'].max()"
   ]
  },
  {
   "cell_type": "code",
   "execution_count": 23,
   "metadata": {},
   "outputs": [],
   "source": [
    "oot_start = '2021-01-01'\n",
    "intime_df = df_clean_with_target[df_clean_with_target['date'] < oot_start]#.drop('date_short', axis=1)\n",
    "oot_df = df_clean_with_target[df_clean_with_target['date'] >= oot_start]#.drop('date_short', axis=1)"
   ]
  },
  {
   "cell_type": "code",
   "execution_count": 24,
   "metadata": {},
   "outputs": [
    {
     "name": "stdout",
     "output_type": "stream",
     "text": [
      "intime shape: (1453, 101)\n",
      "oot shape: (90, 101)\n"
     ]
    }
   ],
   "source": [
    "print(f'intime shape: {intime_df.shape}')\n",
    "print(f'oot shape: {oot_df.shape}')"
   ]
  },
  {
   "cell_type": "code",
   "execution_count": 25,
   "metadata": {},
   "outputs": [],
   "source": [
    "X_train, X_val, y_train, y_val = train_test_split(intime_df.drop(['target', 'date'], axis=1), intime_df['target'], test_size=0.3, shuffle=False)"
   ]
  },
  {
   "cell_type": "code",
   "execution_count": 26,
   "metadata": {},
   "outputs": [],
   "source": [
    "df_train_for_prophet, df_val_for_prophet, _, _ = train_test_split(intime_df, intime_df['target'], test_size=0.3, shuffle=False)\n",
    "df_train_for_prophet = df_train_for_prophet.rename(columns={'date': 'ds', 'target': 'y'})\n",
    "df_val_for_prophet = df_val_for_prophet.rename(columns={'date': 'ds', 'target': 'y'})"
   ]
  },
  {
   "cell_type": "code",
   "execution_count": 27,
   "metadata": {},
   "outputs": [],
   "source": [
    "X_oot = oot_df.drop(['target', 'date'], axis=1)\n",
    "y_oot = oot_df['target']\n",
    "\n",
    "df_oot_for_prophet = oot_df.drop('target', axis=1).rename(columns={'date': 'ds'})"
   ]
  },
  {
   "cell_type": "code",
   "execution_count": 28,
   "metadata": {},
   "outputs": [
    {
     "name": "stdout",
     "output_type": "stream",
     "text": [
      "X_train shape: (1017, 99)\n",
      "X_val shape: (436, 99)\n",
      "X_oot shape: (90, 99)\n"
     ]
    }
   ],
   "source": [
    "print(f'X_train shape: {X_train.shape}')\n",
    "print(f'X_val shape: {X_val.shape}')\n",
    "print(f'X_oot shape: {X_oot.shape}')"
   ]
  },
  {
   "cell_type": "code",
   "execution_count": 29,
   "metadata": {},
   "outputs": [
    {
     "name": "stdout",
     "output_type": "stream",
     "text": [
      "train mae: 2.0395743467825497e-15\n",
      "val mae: 0.010541816128522336\n",
      "test mae: 0.22862032029254553\n"
     ]
    }
   ],
   "source": [
    "lr=LinearRegression()\n",
    "lr.fit(X_train, y_train)\n",
    "print(f'train mae: {mean_absolute_error(y_train, lr.predict(X_train))}')\n",
    "print(f'val mae: {mean_absolute_error(y_val, lr.predict(X_val))}')\n",
    "print(f'test mae: {mean_absolute_error(y_oot, lr.predict(X_oot))}')"
   ]
  },
  {
   "cell_type": "markdown",
   "metadata": {},
   "source": [
    "## Stationarity checks & ARIMA"
   ]
  },
  {
   "cell_type": "code",
   "execution_count": 30,
   "metadata": {},
   "outputs": [],
   "source": [
    "from statsmodels.graphics.tsaplots import plot_acf, plot_pacf\n"
   ]
  },
  {
   "cell_type": "code",
   "execution_count": 31,
   "metadata": {},
   "outputs": [
    {
     "data": {
      "image/png": "[encoded data removed]",
      "text/plain": [
       "<Figure size 432x288 with 1 Axes>"
      ]
     },
     "execution_count": 31,
     "metadata": {},
     "output_type": "execute_result"
    },
    {
     "data": {
      "image/png": "[encoded data removed]",
      "text/plain": [
       "<Figure size 432x288 with 1 Axes>"
      ]
     },
     "metadata": {
      "needs_background": "light"
     },
     "output_type": "display_data"
    }
   ],
   "source": [
    "plot_acf(data['Balance'])"
   ]
  },
  {
   "cell_type": "markdown",
   "metadata": {},
   "source": [
    "Полугодовая сезонность есть (видно по значимым лагам)"
   ]
  },
  {
   "cell_type": "code",
   "execution_count": 32,
   "metadata": {},
   "outputs": [
    {
     "data": {
      "image/png": "[encoded data removed]",
      "text/plain": [
       "<Figure size 432x288 with 1 Axes>"
      ]
     },
     "execution_count": 32,
     "metadata": {},
     "output_type": "execute_result"
    },
    {
     "data": {
      "image/png": "[encoded data removed]",
      "text/plain": [
       "<Figure size 432x288 with 1 Axes>"
      ]
     },
     "metadata": {
      "needs_background": "light"
     },
     "output_type": "display_data"
    }
   ],
   "source": [
    "plot_pacf(data['Balance'])"
   ]
  },
  {
   "cell_type": "markdown",
   "metadata": {},
   "source": [
    "Ряд вероятно не стационарен (по графикам), сделаем ADF test"
   ]
  },
  {
   "cell_type": "code",
   "execution_count": 33,
   "metadata": {},
   "outputs": [
    {
     "name": "stdout",
     "output_type": "stream",
     "text": [
      "p-value: 0.0009178315649530514\n"
     ]
    }
   ],
   "source": [
    "from statsmodels.tsa.stattools import adfuller\n",
    "adf_test = adfuller(data['Balance'])\n",
    "print(f'p-value: {adf_test[1]}')"
   ]
  },
  {
   "cell_type": "markdown",
   "metadata": {},
   "source": [
    "Тест отвергает нулевую гипотезу, что ряд нестационарен, значит можно делать авторегрессионную модель"
   ]
  },
  {
   "cell_type": "code",
   "execution_count": 34,
   "metadata": {},
   "outputs": [
    {
     "data": {
      "text/plain": [
       "ARIMA(order=(1, 1, 1), scoring_args={}, suppress_warnings=True,\n",
       "      with_intercept=False)"
      ]
     },
     "execution_count": 34,
     "metadata": {},
     "output_type": "execute_result"
    }
   ],
   "source": [
    "import pmdarima as pm\n",
    "auto_arima = pm.auto_arima(y_train, stepwise=True, seasonal=True, stationarity=True)\n",
    "auto_arima"
   ]
  },
  {
   "cell_type": "code",
   "execution_count": 35,
   "metadata": {},
   "outputs": [
    {
     "data": {
      "text/html": [
       "<table class=\"simpletable\">\n",
       "<caption>SARIMAX Results</caption>\n",
       "<tr>\n",
       "  <th>Dep. Variable:</th>           <td>y</td>        <th>  No. Observations:  </th>   <td>1017</td>  \n",
       "</tr>\n",
       "<tr>\n",
       "  <th>Model:</th>           <td>SARIMAX(1, 1, 1)</td> <th>  Log Likelihood     </th> <td>-162.104</td>\n",
       "</tr>\n",
       "<tr>\n",
       "  <th>Date:</th>            <td>Sun, 14 Apr 2024</td> <th>  AIC                </th>  <td>330.209</td>\n",
       "</tr>\n",
       "<tr>\n",
       "  <th>Time:</th>                <td>14:54:54</td>     <th>  BIC                </th>  <td>344.979</td>\n",
       "</tr>\n",
       "<tr>\n",
       "  <th>Sample:</th>                  <td>0</td>        <th>  HQIC               </th>  <td>335.818</td>\n",
       "</tr>\n",
       "<tr>\n",
       "  <th></th>                      <td> - 1017</td>     <th>                     </th>     <td> </td>   \n",
       "</tr>\n",
       "<tr>\n",
       "  <th>Covariance Type:</th>        <td>opg</td>       <th>                     </th>     <td> </td>   \n",
       "</tr>\n",
       "</table>\n",
       "<table class=\"simpletable\">\n",
       "<tr>\n",
       "     <td></td>       <th>coef</th>     <th>std err</th>      <th>z</th>      <th>P>|z|</th>  <th>[0.025</th>    <th>0.975]</th>  \n",
       "</tr>\n",
       "<tr>\n",
       "  <th>ar.L1</th>  <td>    0.0592</td> <td>    0.028</td> <td>    2.089</td> <td> 0.037</td> <td>    0.004</td> <td>    0.115</td>\n",
       "</tr>\n",
       "<tr>\n",
       "  <th>ma.L1</th>  <td>   -0.9657</td> <td>    0.009</td> <td> -111.201</td> <td> 0.000</td> <td>   -0.983</td> <td>   -0.949</td>\n",
       "</tr>\n",
       "<tr>\n",
       "  <th>sigma2</th> <td>    0.0804</td> <td>    0.001</td> <td>   56.416</td> <td> 0.000</td> <td>    0.078</td> <td>    0.083</td>\n",
       "</tr>\n",
       "</table>\n",
       "<table class=\"simpletable\">\n",
       "<tr>\n",
       "  <th>Ljung-Box (L1) (Q):</th>     <td>0.00</td> <th>  Jarque-Bera (JB):  </th> <td>5140.68</td>\n",
       "</tr>\n",
       "<tr>\n",
       "  <th>Prob(Q):</th>                <td>0.96</td> <th>  Prob(JB):          </th>  <td>0.00</td>  \n",
       "</tr>\n",
       "<tr>\n",
       "  <th>Heteroskedasticity (H):</th> <td>2.11</td> <th>  Skew:              </th>  <td>-0.93</td> \n",
       "</tr>\n",
       "<tr>\n",
       "  <th>Prob(H) (two-sided):</th>    <td>0.00</td> <th>  Kurtosis:          </th>  <td>13.86</td> \n",
       "</tr>\n",
       "</table><br/><br/>Warnings:<br/>[1] Covariance matrix calculated using the outer product of gradients (complex-step)."
      ],
      "text/latex": [
       "\\begin{center}\n",
       "\\begin{tabular}{lclc}\n",
       "\\toprule\n",
       "\\textbf{Dep. Variable:}          &        y         & \\textbf{  No. Observations:  } &    1017     \\\\\n",
       "\\textbf{Model:}                  & SARIMAX(1, 1, 1) & \\textbf{  Log Likelihood     } &  -162.104   \\\\\n",
       "\\textbf{Date:}                   & Sun, 14 Apr 2024 & \\textbf{  AIC                } &  330.209    \\\\\n",
       "\\textbf{Time:}                   &     14:54:54     & \\textbf{  BIC                } &  344.979    \\\\\n",
       "\\textbf{Sample:}                 &        0         & \\textbf{  HQIC               } &  335.818    \\\\\n",
       "\\textbf{}                        &      - 1017      & \\textbf{                     } &             \\\\\n",
       "\\textbf{Covariance Type:}        &       opg        & \\textbf{                     } &             \\\\\n",
       "\\bottomrule\n",
       "\\end{tabular}\n",
       "\\begin{tabular}{lcccccc}\n",
       "                & \\textbf{coef} & \\textbf{std err} & \\textbf{z} & \\textbf{P$> |$z$|$} & \\textbf{[0.025} & \\textbf{0.975]}  \\\\\n",
       "\\midrule\n",
       "\\textbf{ar.L1}  &       0.0592  &        0.028     &     2.089  &         0.037        &        0.004    &        0.115     \\\\\n",
       "\\textbf{ma.L1}  &      -0.9657  &        0.009     &  -111.201  &         0.000        &       -0.983    &       -0.949     \\\\\n",
       "\\textbf{sigma2} &       0.0804  &        0.001     &    56.416  &         0.000        &        0.078    &        0.083     \\\\\n",
       "\\bottomrule\n",
       "\\end{tabular}\n",
       "\\begin{tabular}{lclc}\n",
       "\\textbf{Ljung-Box (L1) (Q):}     & 0.00 & \\textbf{  Jarque-Bera (JB):  } & 5140.68  \\\\\n",
       "\\textbf{Prob(Q):}                & 0.96 & \\textbf{  Prob(JB):          } &   0.00   \\\\\n",
       "\\textbf{Heteroskedasticity (H):} & 2.11 & \\textbf{  Skew:              } &  -0.93   \\\\\n",
       "\\textbf{Prob(H) (two-sided):}    & 0.00 & \\textbf{  Kurtosis:          } &  13.86   \\\\\n",
       "\\bottomrule\n",
       "\\end{tabular}\n",
       "%\\caption{SARIMAX Results}\n",
       "\\end{center}\n",
       "\n",
       "Warnings: \\newline\n",
       " [1] Covariance matrix calculated using the outer product of gradients (complex-step)."
      ],
      "text/plain": [
       "<class 'statsmodels.iolib.summary.Summary'>\n",
       "\"\"\"\n",
       "                               SARIMAX Results                                \n",
       "==============================================================================\n",
       "Dep. Variable:                      y   No. Observations:                 1017\n",
       "Model:               SARIMAX(1, 1, 1)   Log Likelihood                -162.104\n",
       "Date:                Sun, 14 Apr 2024   AIC                            330.209\n",
       "Time:                        14:54:54   BIC                            344.979\n",
       "Sample:                             0   HQIC                           335.818\n",
       "                               - 1017                                         \n",
       "Covariance Type:                  opg                                         \n",
       "==============================================================================\n",
       "                 coef    std err          z      P>|z|      [0.025      0.975]\n",
       "------------------------------------------------------------------------------\n",
       "ar.L1          0.0592      0.028      2.089      0.037       0.004       0.115\n",
       "ma.L1         -0.9657      0.009   -111.201      0.000      -0.983      -0.949\n",
       "sigma2         0.0804      0.001     56.416      0.000       0.078       0.083\n",
       "===================================================================================\n",
       "Ljung-Box (L1) (Q):                   0.00   Jarque-Bera (JB):              5140.68\n",
       "Prob(Q):                              0.96   Prob(JB):                         0.00\n",
       "Heteroskedasticity (H):               2.11   Skew:                            -0.93\n",
       "Prob(H) (two-sided):                  0.00   Kurtosis:                        13.86\n",
       "===================================================================================\n",
       "\n",
       "Warnings:\n",
       "[1] Covariance matrix calculated using the outer product of gradients (complex-step).\n",
       "\"\"\""
      ]
     },
     "execution_count": 35,
     "metadata": {},
     "output_type": "execute_result"
    }
   ],
   "source": [
    "auto_arima.summary()\n"
   ]
  },
  {
   "cell_type": "code",
   "execution_count": 36,
   "metadata": {},
   "outputs": [
    {
     "data": {
      "text/plain": [
       "0.3290250486526747"
      ]
     },
     "execution_count": 36,
     "metadata": {},
     "output_type": "execute_result"
    }
   ],
   "source": [
    "forecast_test_auto = auto_arima.predict(n_periods=len(y_oot))\n",
    "mean_absolute_error(y_oot, forecast_test_auto)"
   ]
  },
  {
   "cell_type": "markdown",
   "metadata": {},
   "source": [
    "## Feature selection"
   ]
  },
  {
   "cell_type": "code",
   "execution_count": 37,
   "metadata": {},
   "outputs": [
    {
     "name": "stdout",
     "output_type": "stream",
     "text": [
      "Top Absolute Correlations\n",
      "0__mean_second_derivative_central                  0__linear_trend__attr_\"stderr\"                                    1.000000\n",
      "0__autocorrelation__lag_2                          0__agg_autocorrelation__f_agg_\"mean\"__maxlag_40                   1.000000\n",
      "                                                   0__agg_autocorrelation__f_agg_\"median\"__maxlag_40                 1.000000\n",
      "0__number_crossing_m__m_0                          0__count_below__t_0                                               1.000000\n",
      "0__mean_change                                     0__change_quantiles__f_agg_\"mean\"__isabs_False__qh_1.0__ql_0.0    1.000000\n",
      "                                                                                                                       ...   \n",
      "0__agg_autocorrelation__f_agg_\"median\"__maxlag_40  0__energy_ratio_by_chunks__num_segments_10__segment_focus_2       0.995542\n",
      "0__agg_autocorrelation__f_agg_\"mean\"__maxlag_40    0__energy_ratio_by_chunks__num_segments_10__segment_focus_2       0.995542\n",
      "0__autocorrelation__lag_2                          0__energy_ratio_by_chunks__num_segments_10__segment_focus_2       0.995542\n",
      "0__linear_trend__attr_\"pvalue\"                     0__energy_ratio_by_chunks__num_segments_10__segment_focus_1       0.995332\n",
      "0__maximum                                         0__friedrich_coefficients__coeff_3__m_3__r_30                     0.995100\n",
      "Length: 100, dtype: float64\n"
     ]
    }
   ],
   "source": [
    "def get_redundant_pairs(df):\n",
    "    '''Get diagonal and lower triangular pairs of correlation matrix'''\n",
    "    pairs_to_drop = set()\n",
    "    cols = df.columns\n",
    "    for i in range(0, df.shape[1]):\n",
    "        for j in range(0, i+1):\n",
    "            pairs_to_drop.add((cols[i], cols[j]))\n",
    "    return pairs_to_drop\n",
    "\n",
    "def get_top_abs_correlations(df, n=100):\n",
    "    au_corr = df.corr().abs().unstack()\n",
    "    labels_to_drop = get_redundant_pairs(df)\n",
    "    au_corr = au_corr.drop(labels=labels_to_drop).sort_values(ascending=False)\n",
    "    return au_corr[0:n]\n",
    "\n",
    "print(\"Top Absolute Correlations\")\n",
    "print(get_top_abs_correlations(intime_df.drop(columns=['date']), ))"
   ]
  },
  {
   "cell_type": "code",
   "execution_count": 38,
   "metadata": {},
   "outputs": [],
   "source": [
    "def custom_feature_selection(df):\n",
    "    # разделим таргет и признаки\n",
    "    y = df['target']\n",
    "    X = df.drop(columns=['target'])\n",
    "\n",
    "    # сначала уберем признаки в соответствии с корреляцией\n",
    "    au_corr = X.corr().abs().unstack()\n",
    "    labels_to_drop = get_redundant_pairs(X)\n",
    "    au_corr = au_corr.drop(labels=labels_to_drop).sort_values(ascending=False)\n",
    "    X_new = X.drop(columns=au_corr[au_corr > 0.99].index.get_level_values(0))\n",
    "\n",
    "    # теперь применим Lasso\n",
    "    lasso = Lasso(alpha=0.001)\n",
    "    model = SelectFromModel(lasso)\n",
    "    model.fit(X_new, y)\n",
    "\n",
    "    X_new = pd.DataFrame(model.transform(X_new), columns=model.get_feature_names_out(), index=X_new.index)\n",
    "\n",
    "\n",
    "    # применим RFE\n",
    "    estimator = SVR(kernel=\"linear\")\n",
    "    selector = RFE(estimator, n_features_to_select=5, step=1)\n",
    "    selector = selector.fit(X_new, y)\n",
    "\n",
    "    X_res = X_new[X_new.columns[selector.ranking_ == 1]]\n",
    "\n",
    "    return X_res.columns"
   ]
  },
  {
   "cell_type": "code",
   "execution_count": 42,
   "metadata": {},
   "outputs": [],
   "source": [
    "def correlation_between_features_selection(df, num_to_select=10):\n",
    "    # оставим с помощью корреляции только три фактора \n",
    "    X = df.drop(columns=['target'])\n",
    "    au_corr = X.corr().abs().unstack()\n",
    "    labels_to_drop = get_redundant_pairs(X)\n",
    "    au_corr = au_corr.drop(labels=labels_to_drop).sort_values(ascending=False)\n",
    "    \n",
    "    # сначала сделаем грубое отсечение\n",
    "    X_new = X.drop(columns=au_corr[au_corr > 0.9].index.get_level_values(0))\n",
    "\n",
    "    # остальное доберем последовательно\n",
    "    while len(X_new.columns) != num_to_select:\n",
    "        X_new = X_new.drop(columns=get_top_abs_correlations(X_new, n=1).index.get_level_values(0))\n",
    "    \n",
    "    return X_new.columns\n",
    "\n",
    "\n",
    "def correlation_between_features_and_target(df, corr_thr=0.5):\n",
    "    # оставим с помощью корреляции только три фактора \n",
    "    X = df.drop(columns=['target'])\n",
    "    y = df['target']\n",
    "    cols_to_drop = []\n",
    "    for col in X.columns:\n",
    "        if X[col].corr(y) <= corr_thr:\n",
    "            cols_to_drop.append(col)\n",
    "    X_new = X.drop(cols_to_drop, axis=1)\n",
    "    \n",
    "    return X_new.columns\n",
    "\n",
    "\n",
    "def rfe_selection(df, num_to_select=5):\n",
    "    X = df.drop(columns=['target'])\n",
    "    estimator = SVR(kernel=\"linear\")\n",
    "    selector = RFE(estimator, n_features_to_select=num_to_select, step=1)\n",
    "    selector = selector.fit(X, df['target'])\n",
    "\n",
    "    return X.columns[selector.ranking_ == 1]\n",
    "\n",
    "\n",
    "def lasso_selection(df, num_to_select=5):\n",
    "    X = df.drop(columns=['target'])\n",
    "    y = df['target']\n",
    "\n",
    "    lasso = Lasso(alpha=0.0001)\n",
    "    lasso.fit(X, y)\n",
    "\n",
    "    return X.columns[np.abs(lasso.coef_).argsort().argsort() >= len(X.columns) - 3]\n",
    "\n",
    "def catboost_selection(df, num_to_select=5):\n",
    "    X = df.drop(columns=['target'])\n",
    "    y = df['target']\n",
    "    train_pool = Pool(X, y)\n",
    "    ctb = CatBoostRegressor()\n",
    "    summary = ctb.select_features(train_pool,num_features_to_select=num_to_select, features_for_select= ['0-98'],\n",
    "                                  algorithm='RecursiveByShapValues', steps=2,\n",
    "                train_final_model=True, logging_level = 'Silent')\n",
    "    \n",
    "    return X.filter(X.columns[summary[\"selected_features\"]]).columns\n",
    "\n"
   ]
  },
  {
   "cell_type": "code",
   "execution_count": 43,
   "metadata": {},
   "outputs": [],
   "source": [
    "def get_stability(df, method):\n",
    "    tmp_res = method(resample(df, n_samples=1000))\n",
    "    cols = np.ma.masked_where(df.columns.isin(tmp_res), df.columns, copy=True)._mask\n",
    "    for i in range(2):\n",
    "        tmp_res = method(resample(df, n_samples=1000))\n",
    "        tmp_cols = np.ma.masked_where(df.columns.isin(tmp_res), df.columns, copy=True)._mask\n",
    "        cols = np.vstack([cols, tmp_cols])\n",
    "    return st.getStability(cols)"
   ]
  },
  {
   "cell_type": "code",
   "execution_count": 45,
   "metadata": {},
   "outputs": [
    {
     "name": "stdout",
     "output_type": "stream",
     "text": [
      "Custom Feature Selection Stability: 0.8596491228070176\n",
      "Features Correlation Selection Stability: 0.9259259259259259\n",
      "Correlation with Target Selection Stability: 0.9339788732394366\n",
      "RFE Selection Stability: 0.8596491228070176\n",
      "Lasso Selection Stability: 0.7709049255441007\n"
     ]
    },
    {
     "name": "stderr",
     "output_type": "stream",
     "text": [
      "/Users/veronikayashina/opt/anaconda3/lib/python3.8/site-packages/sklearn/linear_model/_coordinate_descent.py:647: ConvergenceWarning: Objective did not converge. You might want to increase the number of iterations, check the scale of the features or consider increasing regularisation. Duality gap: 9.746e-02, tolerance: 6.887e-03\n",
      "  model = cd_fast.enet_coordinate_descent(\n",
      "/Users/veronikayashina/opt/anaconda3/lib/python3.8/site-packages/sklearn/linear_model/_coordinate_descent.py:647: ConvergenceWarning: Objective did not converge. You might want to increase the number of iterations, check the scale of the features or consider increasing regularisation. Duality gap: 9.916e-02, tolerance: 7.812e-03\n",
      "  model = cd_fast.enet_coordinate_descent(\n",
      "/Users/veronikayashina/opt/anaconda3/lib/python3.8/site-packages/sklearn/linear_model/_coordinate_descent.py:647: ConvergenceWarning: Objective did not converge. You might want to increase the number of iterations, check the scale of the features or consider increasing regularisation. Duality gap: 9.799e-02, tolerance: 6.472e-03\n",
      "  model = cd_fast.enet_coordinate_descent(\n"
     ]
    },
    {
     "name": "stdout",
     "output_type": "stream",
     "text": [
      "Catboost Selection Stability: 0.7192982456140351\n"
     ]
    }
   ],
   "source": [
    "print('Custom Feature Selection Stability:', get_stability(intime_df.drop(columns=['date']), custom_feature_selection))\n",
    "print('Features Correlation Selection Stability:', get_stability(intime_df.drop(columns=['date']), correlation_between_features_selection))\n",
    "print('Correlation with Target Selection Stability:', get_stability(intime_df.drop(columns=['date']), correlation_between_features_and_target))\n",
    "print('RFE Selection Stability:', get_stability(intime_df.drop(columns=['date']), rfe_selection))\n",
    "print('Lasso Selection Stability:', get_stability(intime_df.drop(columns=['date']), lasso_selection))\n",
    "print('Catboost Selection Stability:', get_stability(intime_df.drop(columns=['date']), catboost_selection))"
   ]
  },
  {
   "cell_type": "markdown",
   "metadata": {},
   "source": [
    "### запускаем лучший отбор"
   ]
  },
  {
   "cell_type": "code",
   "execution_count": 46,
   "metadata": {},
   "outputs": [],
   "source": [
    "selected_features = correlation_between_features_and_target(intime_df.drop('date', axis=1))"
   ]
  },
  {
   "cell_type": "code",
   "execution_count": 47,
   "metadata": {},
   "outputs": [
    {
     "data": {
      "text/plain": [
       "Index(['0__minimum', '0__c3__lag_1', '0__quantile__q_0.1',\n",
       "       '0__range_count__max_1000000000000.0__min_0',\n",
       "       '0__linear_trend__attr_\"intercept\"', '0__count_above__t_0'],\n",
       "      dtype='object')"
      ]
     },
     "execution_count": 47,
     "metadata": {},
     "output_type": "execute_result"
    }
   ],
   "source": [
    "selected_features"
   ]
  },
  {
   "cell_type": "markdown",
   "metadata": {},
   "source": [
    "## Optuna hyperparams tuning"
   ]
  },
  {
   "cell_type": "markdown",
   "metadata": {},
   "source": [
    "### linreg"
   ]
  },
  {
   "cell_type": "code",
   "execution_count": 48,
   "metadata": {},
   "outputs": [],
   "source": [
    "X_train, X_val, X_oot = X_train[selected_features], X_val[selected_features], X_oot[selected_features]"
   ]
  },
  {
   "cell_type": "code",
   "execution_count": 49,
   "metadata": {},
   "outputs": [],
   "source": [
    "def objective_lr(trial):\n",
    "    \n",
    "    param = {\n",
    "        \"alpha\": trial.suggest_float(\"alpha\", 0.01, 1),\n",
    "        \"tol\": trial.suggest_float(\"tol\", 1e-4, 1e-1),\n",
    "        \"solver\": trial.suggest_categorical(\n",
    "            \"solver\", [\"auto\", 'svd', 'cholesky', 'sparse_cg', 'lsqr', 'sag']\n",
    "        ),\n",
    "        \"random_state\": 28\n",
    "        \n",
    "    }\n",
    "\n",
    "    lr = Ridge(**param)\n",
    "\n",
    "    lr.fit(X_train, y_train)\n",
    "\n",
    "    preds = lr.predict(X_val)\n",
    "    mae = mean_absolute_error(y_val, preds)\n",
    "    return mae"
   ]
  },
  {
   "cell_type": "code",
   "execution_count": 50,
   "metadata": {},
   "outputs": [
    {
     "name": "stderr",
     "output_type": "stream",
     "text": [
      "[I 2024-04-14 15:06:04,680] A new study created in memory with name: no-name-052d733f-1781-44b0-b055-cf8ee3ceec33\n"
     ]
    },
    {
     "name": "stderr",
     "output_type": "stream",
     "text": [
      "[I 2024-04-14 15:06:04,720] Trial 0 finished with value: 0.07697454500931683 and parameters: {'alpha': 0.8177967155851017, 'tol': 0.0763623890446557, 'solver': 'sparse_cg'}. Best is trial 0 with value: 0.07697454500931683.\n",
      "[I 2024-04-14 15:06:04,753] Trial 1 finished with value: 0.0032630772223356413 and parameters: {'alpha': 0.2577572215736086, 'tol': 0.046752064804033946, 'solver': 'svd'}. Best is trial 1 with value: 0.0032630772223356413.\n",
      "[I 2024-04-14 15:06:04,764] Trial 2 finished with value: 0.005429471810098524 and parameters: {'alpha': 0.44238751364365736, 'tol': 0.0019340287752513802, 'solver': 'cholesky'}. Best is trial 1 with value: 0.0032630772223356413.\n",
      "[I 2024-04-14 15:06:04,767] Trial 3 finished with value: 0.006386325297760127 and parameters: {'alpha': 0.5277043555385841, 'tol': 0.02760201717634389, 'solver': 'cholesky'}. Best is trial 1 with value: 0.0032630772223356413.\n",
      "[I 2024-04-14 15:06:04,779] Trial 4 finished with value: 0.06218610335823885 and parameters: {'alpha': 0.058517500858515, 'tol': 0.012343656345469592, 'solver': 'sag'}. Best is trial 1 with value: 0.0032630772223356413.\n",
      "[I 2024-04-14 15:06:04,783] Trial 5 finished with value: 0.006002296499617258 and parameters: {'alpha': 0.493173651115268, 'tol': 0.05447031404301299, 'solver': 'cholesky'}. Best is trial 1 with value: 0.0032630772223356413.\n",
      "[I 2024-04-14 15:06:04,789] Trial 6 finished with value: 0.009247909813327024 and parameters: {'alpha': 0.7979545586529059, 'tol': 0.05556699447295863, 'solver': 'svd'}. Best is trial 1 with value: 0.0032630772223356413.\n",
      "[I 2024-04-14 15:06:04,791] Trial 7 finished with value: 0.07697395488149189 and parameters: {'alpha': 0.21775156403182808, 'tol': 0.08262582388101075, 'solver': 'sparse_cg'}. Best is trial 1 with value: 0.0032630772223356413.\n",
      "[I 2024-04-14 15:06:04,796] Trial 8 finished with value: 0.009140487686226113 and parameters: {'alpha': 0.7873768761633628, 'tol': 0.08620620159471735, 'solver': 'auto'}. Best is trial 1 with value: 0.0032630772223356413.\n",
      "[I 2024-04-14 15:06:04,799] Trial 9 finished with value: 0.07697417135485266 and parameters: {'alpha': 0.43786180721432805, 'tol': 0.07731466733809926, 'solver': 'sparse_cg'}. Best is trial 1 with value: 0.0032630772223356413.\n",
      "[I 2024-04-14 15:06:04,819] Trial 10 finished with value: 0.003058507148684492 and parameters: {'alpha': 0.2409045716474563, 'tol': 0.039023597419643063, 'solver': 'svd'}. Best is trial 10 with value: 0.003058507148684492.\n",
      "[I 2024-04-14 15:06:04,829] Trial 11 finished with value: 0.0026357988787675717 and parameters: {'alpha': 0.2063865828912046, 'tol': 0.03467392887256957, 'solver': 'svd'}. Best is trial 11 with value: 0.0026357988787675717.\n",
      "[I 2024-04-14 15:06:04,839] Trial 12 finished with value: 0.07697381223538695 and parameters: {'alpha': 0.07270957523508978, 'tol': 0.03342187264312926, 'solver': 'lsqr'}. Best is trial 11 with value: 0.0026357988787675717.\n",
      "[I 2024-04-14 15:06:04,850] Trial 13 finished with value: 0.0032235590804667947 and parameters: {'alpha': 0.25449411558300045, 'tol': 0.03279254169910051, 'solver': 'svd'}. Best is trial 11 with value: 0.0026357988787675717.\n",
      "[I 2024-04-14 15:06:04,861] Trial 14 finished with value: 0.011229754752365746 and parameters: {'alpha': 0.9996656217234821, 'tol': 0.019075766889044055, 'solver': 'svd'}. Best is trial 11 with value: 0.0026357988787675717.\n",
      "[I 2024-04-14 15:06:04,872] Trial 15 finished with value: 0.0020547385255276114 and parameters: {'alpha': 0.1595970131521472, 'tol': 0.04643992442093928, 'solver': 'svd'}. Best is trial 15 with value: 0.0020547385255276114.\n",
      "[I 2024-04-14 15:06:04,882] Trial 16 finished with value: 0.001559256838346553 and parameters: {'alpha': 0.12028862272368837, 'tol': 0.06436957471714241, 'solver': 'auto'}. Best is trial 16 with value: 0.001559256838346553.\n",
      "[I 2024-04-14 15:06:04,893] Trial 17 finished with value: 0.00043585215381581027 and parameters: {'alpha': 0.033114036261748137, 'tol': 0.06389031464547773, 'solver': 'auto'}. Best is trial 17 with value: 0.00043585215381581027.\n",
      "[I 2024-04-14 15:06:04,903] Trial 18 finished with value: 0.0002871742040295765 and parameters: {'alpha': 0.021774518308017913, 'tol': 0.0647475282888767, 'solver': 'auto'}. Best is trial 18 with value: 0.0002871742040295765.\n",
      "[I 2024-04-14 15:06:04,913] Trial 19 finished with value: 0.00028789497868771845 and parameters: {'alpha': 0.021829381594030983, 'tol': 0.0950140734530325, 'solver': 'auto'}. Best is trial 18 with value: 0.0002871742040295765.\n",
      "[I 2024-04-14 15:06:04,923] Trial 20 finished with value: 0.004445979459017654 and parameters: {'alpha': 0.35714519586542315, 'tol': 0.09774329589271732, 'solver': 'auto'}. Best is trial 18 with value: 0.0002871742040295765.\n",
      "[I 2024-04-14 15:06:04,935] Trial 21 finished with value: 0.00020961385613109528 and parameters: {'alpha': 0.015877061408497622, 'tol': 0.06678692181592819, 'solver': 'auto'}. Best is trial 21 with value: 0.00020961385613109528.\n",
      "[I 2024-04-14 15:06:04,946] Trial 22 finished with value: 0.00016102039031894606 and parameters: {'alpha': 0.012188421413150536, 'tol': 0.09824462918651809, 'solver': 'auto'}. Best is trial 22 with value: 0.00016102039031894606.\n",
      "[I 2024-04-14 15:06:04,956] Trial 23 finished with value: 0.004248107367853396 and parameters: {'alpha': 0.3402854616349858, 'tol': 0.0668906305879509, 'solver': 'auto'}. Best is trial 22 with value: 0.00016102039031894606.\n",
      "[I 2024-04-14 15:06:04,966] Trial 24 finished with value: 0.0017117103376457059 and parameters: {'alpha': 0.13232624443108196, 'tol': 0.07361919648580667, 'solver': 'auto'}. Best is trial 22 with value: 0.00016102039031894606.\n",
      "[I 2024-04-14 15:06:04,979] Trial 25 finished with value: 0.07724011670703779 and parameters: {'alpha': 0.016678425240689673, 'tol': 0.08937994449168499, 'solver': 'sag'}. Best is trial 22 with value: 0.00016102039031894606.\n",
      "[I 2024-04-14 15:06:04,991] Trial 26 finished with value: 0.07697438822234277 and parameters: {'alpha': 0.6583740053321814, 'tol': 0.0694198745681705, 'solver': 'lsqr'}. Best is trial 22 with value: 0.00016102039031894606.\n",
      "[I 2024-04-14 15:06:05,001] Trial 27 finished with value: 0.001845873984641923 and parameters: {'alpha': 0.14296155524558324, 'tol': 0.09984182413109119, 'solver': 'auto'}. Best is trial 22 with value: 0.00016102039031894606.\n",
      "[I 2024-04-14 15:06:05,012] Trial 28 finished with value: 0.0040270941572322265 and parameters: {'alpha': 0.32156660474740517, 'tol': 0.05718792805523163, 'solver': 'auto'}. Best is trial 22 with value: 0.00016102039031894606.\n",
      "[I 2024-04-14 15:06:05,023] Trial 29 finished with value: 0.0012269434579256914 and parameters: {'alpha': 0.09422313833552022, 'tol': 0.0783465345928072, 'solver': 'auto'}. Best is trial 22 with value: 0.00016102039031894606.\n",
      "[I 2024-04-14 15:06:05,033] Trial 30 finished with value: 0.007538498204427359 and parameters: {'alpha': 0.6337082787829723, 'tol': 0.09091810828555777, 'solver': 'auto'}. Best is trial 22 with value: 0.00016102039031894606.\n",
      "[I 2024-04-14 15:06:05,043] Trial 31 finished with value: 0.0001988076509456906 and parameters: {'alpha': 0.015056365801415577, 'tol': 0.09406685367582156, 'solver': 'auto'}. Best is trial 22 with value: 0.00016102039031894606.\n",
      "[I 2024-04-14 15:06:05,055] Trial 32 finished with value: 0.0020474524463037005 and parameters: {'alpha': 0.15901508057048733, 'tol': 0.0828171449054109, 'solver': 'auto'}. Best is trial 22 with value: 0.00016102039031894606.\n",
      "[I 2024-04-14 15:06:05,066] Trial 33 finished with value: 0.00016440459119711334 and parameters: {'alpha': 0.012445153822055636, 'tol': 0.093353065504757, 'solver': 'auto'}. Best is trial 22 with value: 0.00016102039031894606.\n",
      "[I 2024-04-14 15:06:05,076] Trial 34 finished with value: 0.07724020901463044 and parameters: {'alpha': 0.0826838917571142, 'tol': 0.09161079197251795, 'solver': 'sag'}. Best is trial 22 with value: 0.00016102039031894606.\n",
      "[I 2024-04-14 15:06:05,087] Trial 35 finished with value: 0.07697393635737391 and parameters: {'alpha': 0.19891628556368895, 'tol': 0.08323705076730545, 'solver': 'lsqr'}. Best is trial 22 with value: 0.00016102039031894606.\n",
      "[I 2024-04-14 15:06:05,097] Trial 36 finished with value: 0.0010312102287180541 and parameters: {'alpha': 0.07898091395345651, 'tol': 0.09402951635222656, 'solver': 'cholesky'}. Best is trial 22 with value: 0.00016102039031894606.\n",
      "[I 2024-04-14 15:06:05,107] Trial 37 finished with value: 0.0769739138439816 and parameters: {'alpha': 0.1760247343446709, 'tol': 0.07294424378441725, 'solver': 'sparse_cg'}. Best is trial 22 with value: 0.00016102039031894606.\n",
      "[I 2024-04-14 15:06:05,117] Trial 38 finished with value: 0.0001393418879244457 and parameters: {'alpha': 0.010544399311418498, 'tol': 0.08689516583676543, 'solver': 'auto'}. Best is trial 38 with value: 0.0001393418879244457.\n",
      "[I 2024-04-14 15:06:05,127] Trial 39 finished with value: 0.0013697713599933065 and parameters: {'alpha': 0.10539700597717365, 'tol': 0.0994905787349749, 'solver': 'cholesky'}. Best is trial 38 with value: 0.0001393418879244457.\n",
      "[I 2024-04-14 15:06:05,136] Trial 40 finished with value: 0.011145201766811568 and parameters: {'alpha': 0.9907970078146668, 'tol': 0.08729719705403542, 'solver': 'auto'}. Best is trial 38 with value: 0.0001393418879244457.\n",
      "[I 2024-04-14 15:06:05,145] Trial 41 finished with value: 0.0007544321370817742 and parameters: {'alpha': 0.05756562753673346, 'tol': 0.07835119418634878, 'solver': 'auto'}. Best is trial 38 with value: 0.0001393418879244457.\n",
      "[I 2024-04-14 15:06:05,156] Trial 42 finished with value: 0.00014764074559364988 and parameters: {'alpha': 0.011173642680927853, 'tol': 0.08504293451168482, 'solver': 'auto'}. Best is trial 38 with value: 0.0001393418879244457.\n",
      "[I 2024-04-14 15:06:05,166] Trial 43 finished with value: 0.0008826126455632655 and parameters: {'alpha': 0.06746338550383077, 'tol': 0.09486767149064877, 'solver': 'auto'}. Best is trial 38 with value: 0.0001393418879244457.\n",
      "[I 2024-04-14 15:06:05,176] Trial 44 finished with value: 0.0769740410006188 and parameters: {'alpha': 0.30531740013185343, 'tol': 0.08527182326866913, 'solver': 'sparse_cg'}. Best is trial 38 with value: 0.0001393418879244457.\n",
      "[I 2024-04-14 15:06:05,188] Trial 45 finished with value: 0.07724025208893515 and parameters: {'alpha': 0.11348513545295845, 'tol': 0.08978071037238586, 'solver': 'sag'}. Best is trial 38 with value: 0.0001393418879244457.\n",
      "[I 2024-04-14 15:06:05,197] Trial 46 finished with value: 0.005101829663504934 and parameters: {'alpha': 0.4137192958973248, 'tol': 0.07989236356431335, 'solver': 'auto'}. Best is trial 38 with value: 0.0001393418879244457.\n",
      "[I 2024-04-14 15:06:05,207] Trial 47 finished with value: 0.00013892982638356955 and parameters: {'alpha': 0.010513159269229449, 'tol': 0.09518076081434193, 'solver': 'auto'}. Best is trial 47 with value: 0.00013892982638356955.\n",
      "[I 2024-04-14 15:06:05,217] Trial 48 finished with value: 0.0035634738410162763 and parameters: {'alpha': 0.2826810564882428, 'tol': 0.008786349413195942, 'solver': 'cholesky'}. Best is trial 47 with value: 0.00013892982638356955.\n",
      "[I 2024-04-14 15:06:05,227] Trial 49 finished with value: 0.07697392634820809 and parameters: {'alpha': 0.188738993542278, 'tol': 0.08604697214198881, 'solver': 'lsqr'}. Best is trial 47 with value: 0.00013892982638356955.\n",
      "[I 2024-04-14 15:06:05,240] Trial 50 finished with value: 0.006296960870904861 and parameters: {'alpha': 0.5196338957732969, 'tol': 0.07273369720608372, 'solver': 'auto'}. Best is trial 47 with value: 0.00013892982638356955.\n",
      "[I 2024-04-14 15:06:05,264] Trial 51 finished with value: 0.0006320654911965032 and parameters: {'alpha': 0.048148835492723044, 'tol': 0.09515836415851768, 'solver': 'auto'}. Best is trial 47 with value: 0.00013892982638356955.\n",
      "[I 2024-04-14 15:06:05,280] Trial 52 finished with value: 0.0007904524152327503 and parameters: {'alpha': 0.06034354119105104, 'tol': 0.09285076248248805, 'solver': 'auto'}. Best is trial 47 with value: 0.00013892982638356955.\n",
      "[I 2024-04-14 15:06:05,294] Trial 53 finished with value: 0.002991828064544148 and parameters: {'alpha': 0.23543241166477408, 'tol': 0.09734073356788488, 'solver': 'auto'}. Best is trial 47 with value: 0.00013892982638356955.\n",
      "[I 2024-04-14 15:06:05,307] Trial 54 finished with value: 0.00013979413475716696 and parameters: {'alpha': 0.010578686360070037, 'tol': 0.08733685196460038, 'solver': 'auto'}. Best is trial 47 with value: 0.00013892982638356955.\n",
      "[I 2024-04-14 15:06:05,320] Trial 55 finished with value: 0.001585290331000537 and parameters: {'alpha': 0.12234064122176903, 'tol': 0.08064835554687018, 'solver': 'auto'}. Best is trial 47 with value: 0.00013892982638356955.\n",
      "[I 2024-04-14 15:06:05,330] Trial 56 finished with value: 0.07697375156718626 and parameters: {'alpha': 0.011022549481465183, 'tol': 0.08772088162390383, 'solver': 'sparse_cg'}. Best is trial 47 with value: 0.00013892982638356955.\n",
      "[I 2024-04-14 15:06:05,340] Trial 57 finished with value: 0.0007836836162496063 and parameters: {'alpha': 0.059821318753914624, 'tol': 0.04776470153090744, 'solver': 'auto'}. Best is trial 47 with value: 0.00013892982638356955.\n",
      "[I 2024-04-14 15:06:05,357] Trial 58 finished with value: 0.001922139489140509 and parameters: {'alpha': 0.1490247662115563, 'tol': 0.07558688328926275, 'solver': 'svd'}. Best is trial 47 with value: 0.00013892982638356955.\n",
      "[I 2024-04-14 15:06:05,370] Trial 59 finished with value: 0.0012703351337000552 and parameters: {'alpha': 0.09761319125269367, 'tol': 0.0855751422140681, 'solver': 'auto'}. Best is trial 47 with value: 0.00013892982638356955.\n",
      "[I 2024-04-14 15:06:05,381] Trial 60 finished with value: 0.0006914865296665988 and parameters: {'alpha': 0.05271771629860049, 'tol': 0.09715112696740805, 'solver': 'auto'}. Best is trial 47 with value: 0.00013892982638356955.\n",
      "[I 2024-04-14 15:06:05,393] Trial 61 finished with value: 0.00027680096254175226 and parameters: {'alpha': 0.02098505498586062, 'tol': 0.09149854514337247, 'solver': 'auto'}. Best is trial 47 with value: 0.00013892982638356955.\n",
      "[I 2024-04-14 15:06:05,405] Trial 62 finished with value: 0.0001645001874599478 and parameters: {'alpha': 0.012452406289297908, 'tol': 0.0893636216967246, 'solver': 'auto'}. Best is trial 47 with value: 0.00013892982638356955.\n",
      "[I 2024-04-14 15:06:05,416] Trial 63 finished with value: 0.0012105729367345934 and parameters: {'alpha': 0.09294520518289388, 'tol': 0.08195525767749398, 'solver': 'auto'}. Best is trial 47 with value: 0.00013892982638356955.\n",
      "[I 2024-04-14 15:06:05,427] Trial 64 finished with value: 0.000565673221575836 and parameters: {'alpha': 0.043052618355995845, 'tol': 0.08929791272132345, 'solver': 'auto'}. Best is trial 47 with value: 0.00013892982638356955.\n",
      "[I 2024-04-14 15:06:05,438] Trial 65 finished with value: 0.0067579873551986275 and parameters: {'alpha': 0.561499958277155, 'tol': 0.09992297465644143, 'solver': 'auto'}. Best is trial 47 with value: 0.00013892982638356955.\n",
      "[I 2024-04-14 15:06:05,450] Trial 66 finished with value: 0.06392785097643293 and parameters: {'alpha': 0.853319242652379, 'tol': 0.03958948521199568, 'solver': 'sag'}. Best is trial 47 with value: 0.00013892982638356955.\n",
      "[I 2024-04-14 15:06:05,461] Trial 67 finished with value: 0.0018046965301883764 and parameters: {'alpha': 0.13969318864708244, 'tol': 0.08468039701793009, 'solver': 'auto'}. Best is trial 47 with value: 0.00013892982638356955.\n",
      "[I 2024-04-14 15:06:05,472] Trial 68 finished with value: 0.07697378006016661 and parameters: {'alpha': 0.03999401196391256, 'tol': 0.02299177870780888, 'solver': 'lsqr'}. Best is trial 47 with value: 0.00013892982638356955.\n",
      "[I 2024-04-14 15:06:05,482] Trial 69 finished with value: 0.0009953543017557044 and parameters: {'alpha': 0.07619752388813303, 'tol': 0.09634171711873266, 'solver': 'auto'}. Best is trial 47 with value: 0.00013892982638356955.\n",
      "[I 2024-04-14 15:06:05,493] Trial 70 finished with value: 0.0001346521835183481 and parameters: {'alpha': 0.01018887438591124, 'tol': 0.06072713486282211, 'solver': 'svd'}. Best is trial 70 with value: 0.0001346521835183481.\n",
      "[I 2024-04-14 15:06:05,505] Trial 71 finished with value: 0.000508884638183082 and parameters: {'alpha': 0.038700823921557034, 'tol': 0.05338836993888531, 'solver': 'svd'}. Best is trial 70 with value: 0.0001346521835183481.\n",
      "[I 2024-04-14 15:06:05,516] Trial 72 finished with value: 0.00021373433600718652 and parameters: {'alpha': 0.016190061044962914, 'tol': 0.06160990574163694, 'solver': 'svd'}. Best is trial 70 with value: 0.0001346521835183481.\n",
      "[I 2024-04-14 15:06:05,528] Trial 73 finished with value: 0.001465606706003646 and parameters: {'alpha': 0.11291901650571283, 'tol': 0.09228683395202944, 'solver': 'svd'}. Best is trial 70 with value: 0.0001346521835183481.\n",
      "[I 2024-04-14 15:06:05,540] Trial 74 finished with value: 0.00015028366633610673 and parameters: {'alpha': 0.01137406601652675, 'tol': 0.08988479505282998, 'solver': 'svd'}. Best is trial 70 with value: 0.0001346521835183481.\n",
      "[I 2024-04-14 15:06:05,551] Trial 75 finished with value: 0.0011110988604123388 and parameters: {'alpha': 0.08519221463345115, 'tol': 0.06943411585682313, 'solver': 'svd'}. Best is trial 70 with value: 0.0001346521835183481.\n",
      "[I 2024-04-14 15:06:05,563] Trial 76 finished with value: 0.0020511423026060654 and parameters: {'alpha': 0.15930977141200928, 'tol': 0.08782265779529436, 'solver': 'svd'}. Best is trial 70 with value: 0.0001346521835183481.\n",
      "[I 2024-04-14 15:06:05,575] Trial 77 finished with value: 0.0005907837789546283 and parameters: {'alpha': 0.04497900869831778, 'tol': 0.060541841493865364, 'solver': 'svd'}. Best is trial 70 with value: 0.0001346521835183481.\n",
      "[I 2024-04-14 15:06:05,586] Trial 78 finished with value: 0.0010127157411583397 and parameters: {'alpha': 0.07754490214051907, 'tol': 0.07580275758628861, 'solver': 'svd'}. Best is trial 70 with value: 0.0001346521835183481.\n",
      "[I 2024-04-14 15:06:05,597] Trial 79 finished with value: 0.00014010587288259283 and parameters: {'alpha': 0.010602320997501568, 'tol': 0.08315693006250238, 'solver': 'cholesky'}. Best is trial 70 with value: 0.0001346521835183481.\n",
      "[I 2024-04-14 15:06:05,609] Trial 80 finished with value: 0.0016319461565005224 and parameters: {'alpha': 0.1260218307479734, 'tol': 0.08306389410369834, 'solver': 'cholesky'}. Best is trial 70 with value: 0.0001346521835183481.\n",
      "[I 2024-04-14 15:06:05,621] Trial 81 finished with value: 0.0005275485703152044 and parameters: {'alpha': 0.040130332539116284, 'tol': 0.09264604401181048, 'solver': 'cholesky'}. Best is trial 70 with value: 0.0001346521835183481.\n",
      "[I 2024-04-14 15:06:05,632] Trial 82 finished with value: 0.0013259887758077123 and parameters: {'alpha': 0.10196712052632448, 'tol': 0.07986724276775006, 'solver': 'cholesky'}. Best is trial 70 with value: 0.0001346521835183481.\n",
      "[I 2024-04-14 15:06:05,643] Trial 83 finished with value: 0.00045094891536429815 and parameters: {'alpha': 0.034267994999714446, 'tol': 0.09562001519550008, 'solver': 'cholesky'}. Best is trial 70 with value: 0.0001346521835183481.\n",
      "[I 2024-04-14 15:06:05,655] Trial 84 finished with value: 0.07697380905660162 and parameters: {'alpha': 0.0694774049660247, 'tol': 0.08782915821251235, 'solver': 'sparse_cg'}. Best is trial 70 with value: 0.0001346521835183481.\n",
      "[I 2024-04-14 15:06:05,665] Trial 85 finished with value: 0.00014685159593024458 and parameters: {'alpha': 0.011113801038477393, 'tol': 0.04087278779515957, 'solver': 'svd'}. Best is trial 70 with value: 0.0001346521835183481.\n",
      "[I 2024-04-14 15:06:05,677] Trial 86 finished with value: 0.00014056321077250477 and parameters: {'alpha': 0.010636994737890364, 'tol': 0.039153051872678764, 'solver': 'svd'}. Best is trial 70 with value: 0.0001346521835183481.\n",
      "[I 2024-04-14 15:06:05,688] Trial 87 finished with value: 0.0007990202072775844 and parameters: {'alpha': 0.06100469599420445, 'tol': 0.04181610734166447, 'solver': 'svd'}. Best is trial 70 with value: 0.0001346521835183481.\n",
      "[I 2024-04-14 15:06:05,700] Trial 88 finished with value: 0.0022651252814344567 and parameters: {'alpha': 0.17645115139847545, 'tol': 0.02810168344541676, 'solver': 'svd'}. Best is trial 70 with value: 0.0001346521835183481.\n",
      "[I 2024-04-14 15:06:05,712] Trial 89 finished with value: 0.008736345029568913 and parameters: {'alpha': 0.7478959938940617, 'tol': 0.03644563566956894, 'solver': 'svd'}. Best is trial 70 with value: 0.0001346521835183481.\n",
      "[I 2024-04-14 15:06:05,724] Trial 90 finished with value: 0.0004507491676150395 and parameters: {'alpha': 0.03425272371205279, 'tol': 0.03147041488588545, 'solver': 'svd'}. Best is trial 70 with value: 0.0001346521835183481.\n",
      "[I 2024-04-14 15:06:05,737] Trial 91 finished with value: 0.00013553291888128386 and parameters: {'alpha': 0.010255639224959048, 'tol': 0.04206590155390695, 'solver': 'svd'}. Best is trial 70 with value: 0.0001346521835183481.\n",
      "[I 2024-04-14 15:06:05,748] Trial 92 finished with value: 0.00013676525891392568 and parameters: {'alpha': 0.010349060383982273, 'tol': 0.04288804308841453, 'solver': 'svd'}. Best is trial 70 with value: 0.0001346521835183481.\n",
      "[I 2024-04-14 15:06:05,760] Trial 93 finished with value: 0.0010246323818528058 and parameters: {'alpha': 0.07847009159074322, 'tol': 0.04259162132650852, 'solver': 'svd'}. Best is trial 70 with value: 0.0001346521835183481.\n",
      "[I 2024-04-14 15:06:05,772] Trial 94 finished with value: 0.0007315011125075585 and parameters: {'alpha': 0.0557985805875086, 'tol': 0.045457624303250344, 'solver': 'svd'}. Best is trial 70 with value: 0.0001346521835183481.\n",
      "[I 2024-04-14 15:06:05,784] Trial 95 finished with value: 0.0013275195525128286 and parameters: {'alpha': 0.10208697081215289, 'tol': 0.050053035736620954, 'solver': 'svd'}. Best is trial 70 with value: 0.0001346521835183481.\n",
      "[I 2024-04-14 15:06:05,797] Trial 96 finished with value: 0.0004236621128923486 and parameters: {'alpha': 0.03218260287949859, 'tol': 0.03767317548554712, 'solver': 'svd'}. Best is trial 70 with value: 0.0001346521835183481.\n",
      "[I 2024-04-14 15:06:05,809] Trial 97 finished with value: 0.005775024243584216 and parameters: {'alpha': 0.472921624342961, 'tol': 0.043307510187013995, 'solver': 'svd'}. Best is trial 70 with value: 0.0001346521835183481.\n",
      "[I 2024-04-14 15:06:05,821] Trial 98 finished with value: 0.06510053851362613 and parameters: {'alpha': 0.13190399279201737, 'tol': 0.05128074741386485, 'solver': 'sag'}. Best is trial 70 with value: 0.0001346521835183481.\n",
      "[I 2024-04-14 15:06:05,832] Trial 99 finished with value: 0.0008480669796275032 and parameters: {'alpha': 0.06479247083642739, 'tol': 0.04036672426188912, 'solver': 'cholesky'}. Best is trial 70 with value: 0.0001346521835183481.\n"
     ]
    },
    {
     "name": "stdout",
     "output_type": "stream",
     "text": [
      "Number of finished trials: 100\n",
      "Best trial:\n",
      "  Value: 0.0001346521835183481\n",
      "  Params: \n",
      "    alpha: 0.01018887438591124\n",
      "    tol: 0.06072713486282211\n",
      "    solver: svd\n"
     ]
    }
   ],
   "source": [
    "study = optuna.create_study(direction=\"minimize\")\n",
    "study.optimize(objective_lr, n_trials=100, timeout=600)\n",
    "\n",
    "print(\"Number of finished trials: {}\".format(len(study.trials)))\n",
    "\n",
    "print(\"Best trial:\")\n",
    "trial = study.best_trial\n",
    "\n",
    "print(\"  Value: {}\".format(trial.value))\n",
    "\n",
    "print(\"  Params: \")\n",
    "for key, value in trial.params.items():\n",
    "    print(\"    {}: {}\".format(key, value))"
   ]
  },
  {
   "cell_type": "code",
   "execution_count": 51,
   "metadata": {},
   "outputs": [
    {
     "name": "stdout",
     "output_type": "stream",
     "text": [
      "Train val MAE: 5.758392258127733e-05\n",
      "OOT MAE: 4.4334529104128945e-05\n",
      "Overfit check: 0.7699115849836834\n"
     ]
    }
   ],
   "source": [
    "params= study.best_params\n",
    "\n",
    "lr = Ridge(**params)\n",
    "\n",
    "lr.fit(pd.concat([X_train, X_val]), pd.concat([y_train, y_val]))\n",
    "\n",
    "y_train_val_pred = lr.predict(pd.concat([X_train, X_val]))\n",
    "y_oot_pred = lr.predict(X_oot)\n",
    "\n",
    "print(f'Train val MAE: {mean_absolute_error(pd.concat([y_train, y_val]), y_train_val_pred)}')\n",
    "print(f'OOT MAE: {mean_absolute_error(y_oot, y_oot_pred)}')\n",
    "print(f'Overfit check: {mean_absolute_error(y_oot, y_oot_pred) / mean_absolute_error(pd.concat([y_train, y_val]), y_train_val_pred)}')"
   ]
  },
  {
   "cell_type": "code",
   "execution_count": 58,
   "metadata": {},
   "outputs": [],
   "source": [
    "import pickle\n",
    "with open('fitted_model.pkl', 'wb') as f:\n",
    "    pickle.dump(lr, f)"
   ]
  },
  {
   "cell_type": "markdown",
   "metadata": {},
   "source": [
    "### catboost"
   ]
  },
  {
   "cell_type": "code",
   "execution_count": 52,
   "metadata": {},
   "outputs": [],
   "source": [
    "def objective_catboost(trial):\n",
    "    \n",
    "    param = {\n",
    "        \"colsample_bylevel\": trial.suggest_float(\"colsample_bylevel\", 0.01, 0.1),\n",
    "        \"depth\": trial.suggest_int(\"depth\", 1, 12),\n",
    "        \"bootstrap_type\": trial.suggest_categorical(\n",
    "            \"bootstrap_type\", [\"Bayesian\", \"Bernoulli\"]\n",
    "        ),\n",
    "        \"learning_rate\": trial.suggest_float(\"learning_rate\", 0.01, 0.1),\n",
    "        \"random_seed\": 28, \n",
    "        'reg_lambda': trial.suggest_float(\"reg_lambda\", 0.01, 1),\n",
    "        \"num_trees\": trial.suggest_int(\"num_trees\", 20, 200)\n",
    "    }\n",
    "\n",
    "    if param[\"bootstrap_type\"] == \"Bayesian\":\n",
    "        param[\"bagging_temperature\"] = trial.suggest_float(\"bagging_temperature\", 0, 10)\n",
    "    elif param[\"bootstrap_type\"] == \"Bernoulli\":\n",
    "        param[\"subsample\"] = trial.suggest_float(\"subsample\", 0.1, 1)\n",
    "\n",
    "    cat_reg = CatBoostRegressor(**param)\n",
    "\n",
    "    cat_reg.fit(X_train, y_train, eval_set=[(X_val, y_val)], verbose=0, early_stopping_rounds=100)\n",
    "\n",
    "    preds = cat_reg.predict(X_val)\n",
    "    mae = mean_absolute_error(y_val, preds)\n",
    "    return mae\n",
    "\n",
    "\n",
    "# if __name__ == \"__main__\":\n",
    "#     study = optuna.create_study(direction=\"maximize\")\n",
    "#     study.optimize(objective, n_trials=50, timeout=600)\n",
    "\n",
    "#     print(\"Number of finished trials: {}\".format(len(study.trials)))\n",
    "\n",
    "#     print(\"Best trial:\")\n",
    "#     trial = study.best_trial\n",
    "\n",
    "#     print(\"  Value: {}\".format(trial.value))\n",
    "\n",
    "#     print(\"  Params: \")\n",
    "#     for key, value in trial.params.items():\n",
    "#         print(\"    {}: {}\".format(key, value))"
   ]
  },
  {
   "cell_type": "code",
   "execution_count": 53,
   "metadata": {},
   "outputs": [
    {
     "name": "stderr",
     "output_type": "stream",
     "text": [
      "[I 2024-04-14 15:06:11,267] A new study created in memory with name: no-name-87c4d56c-b9c1-456b-9296-99280e9c843d\n"
     ]
    },
    {
     "name": "stderr",
     "output_type": "stream",
     "text": [
      "[I 2024-04-14 15:06:11,402] Trial 0 finished with value: 0.09014323567111573 and parameters: {'colsample_bylevel': 0.06225022622151022, 'depth': 8, 'bootstrap_type': 'Bayesian', 'learning_rate': 0.04831796248328432, 'reg_lambda': 0.027248445983186514, 'num_trees': 97, 'bagging_temperature': 6.291589294682327}. Best is trial 0 with value: 0.09014323567111573.\n",
      "[I 2024-04-14 15:06:11,436] Trial 1 finished with value: 0.10676149392294704 and parameters: {'colsample_bylevel': 0.019333038466790645, 'depth': 2, 'bootstrap_type': 'Bayesian', 'learning_rate': 0.04462432989546077, 'reg_lambda': 0.8699867051205064, 'num_trees': 169, 'bagging_temperature': 6.642659620492681}. Best is trial 0 with value: 0.09014323567111573.\n",
      "[I 2024-04-14 15:06:11,476] Trial 2 finished with value: 0.10694689216822693 and parameters: {'colsample_bylevel': 0.02939088365288877, 'depth': 11, 'bootstrap_type': 'Bayesian', 'learning_rate': 0.07514787751139618, 'reg_lambda': 0.07904179921898669, 'num_trees': 64, 'bagging_temperature': 1.642186635688614}. Best is trial 0 with value: 0.09014323567111573.\n",
      "[I 2024-04-14 15:06:11,520] Trial 3 finished with value: 0.11522600434071245 and parameters: {'colsample_bylevel': 0.08381939008990621, 'depth': 10, 'bootstrap_type': 'Bayesian', 'learning_rate': 0.01677371170126487, 'reg_lambda': 0.44305728958927, 'num_trees': 84, 'bagging_temperature': 8.242466978101188}. Best is trial 0 with value: 0.09014323567111573.\n",
      "[I 2024-04-14 15:06:11,557] Trial 4 finished with value: 0.08573794723041119 and parameters: {'colsample_bylevel': 0.041905596120720354, 'depth': 7, 'bootstrap_type': 'Bayesian', 'learning_rate': 0.050860244994541615, 'reg_lambda': 0.04563021351433273, 'num_trees': 187, 'bagging_temperature': 6.348172179758405}. Best is trial 4 with value: 0.08573794723041119.\n",
      "[I 2024-04-14 15:06:11,584] Trial 5 finished with value: 0.1167885338186536 and parameters: {'colsample_bylevel': 0.044650904306563, 'depth': 10, 'bootstrap_type': 'Bernoulli', 'learning_rate': 0.05981696551622324, 'reg_lambda': 0.08571093225800992, 'num_trees': 113, 'subsample': 0.5533970895276805}. Best is trial 4 with value: 0.08573794723041119.\n",
      "[I 2024-04-14 15:06:11,618] Trial 6 finished with value: 0.09771891256854849 and parameters: {'colsample_bylevel': 0.08877969852702805, 'depth': 11, 'bootstrap_type': 'Bernoulli', 'learning_rate': 0.0840521740185853, 'reg_lambda': 0.01142681041013273, 'num_trees': 178, 'subsample': 0.7367266365049658}. Best is trial 4 with value: 0.08573794723041119.\n",
      "[I 2024-04-14 15:06:11,631] Trial 7 finished with value: 0.10185852111170256 and parameters: {'colsample_bylevel': 0.08366667315900105, 'depth': 9, 'bootstrap_type': 'Bernoulli', 'learning_rate': 0.08760808632018131, 'reg_lambda': 0.3633706115131876, 'num_trees': 23, 'subsample': 0.6425076192411471}. Best is trial 4 with value: 0.08573794723041119.\n",
      "[I 2024-04-14 15:06:11,674] Trial 8 finished with value: 0.08040244936986352 and parameters: {'colsample_bylevel': 0.05425200391327652, 'depth': 6, 'bootstrap_type': 'Bayesian', 'learning_rate': 0.0731662149430589, 'reg_lambda': 0.052197204280539845, 'num_trees': 188, 'bagging_temperature': 2.7130593403648318}. Best is trial 8 with value: 0.08040244936986352.\n",
      "[I 2024-04-14 15:06:11,693] Trial 9 finished with value: 0.10933141836485022 and parameters: {'colsample_bylevel': 0.08448976666076005, 'depth': 1, 'bootstrap_type': 'Bayesian', 'learning_rate': 0.052592816897068656, 'reg_lambda': 0.20241712916689975, 'num_trees': 72, 'bagging_temperature': 3.316204861532012}. Best is trial 8 with value: 0.08040244936986352.\n",
      "[I 2024-04-14 15:06:11,741] Trial 10 finished with value: 0.11445413862484366 and parameters: {'colsample_bylevel': 0.06451227899288087, 'depth': 4, 'bootstrap_type': 'Bernoulli', 'learning_rate': 0.09698539316011409, 'reg_lambda': 0.7583587669402445, 'num_trees': 146, 'subsample': 0.19145499054363346}. Best is trial 8 with value: 0.08040244936986352.\n",
      "[I 2024-04-14 15:06:11,801] Trial 11 finished with value: 0.06626492024818122 and parameters: {'colsample_bylevel': 0.04028992160595169, 'depth': 6, 'bootstrap_type': 'Bayesian', 'learning_rate': 0.06783386811083619, 'reg_lambda': 0.278934826149921, 'num_trees': 198, 'bagging_temperature': 3.5853302380033076}. Best is trial 11 with value: 0.06626492024818122.\n",
      "[I 2024-04-14 15:06:11,854] Trial 12 finished with value: 0.07959123139006348 and parameters: {'colsample_bylevel': 0.05000056044843926, 'depth': 5, 'bootstrap_type': 'Bayesian', 'learning_rate': 0.06836631603538917, 'reg_lambda': 0.28519519413961436, 'num_trees': 145, 'bagging_temperature': 0.45651769183967694}. Best is trial 11 with value: 0.06626492024818122.\n",
      "[I 2024-04-14 15:06:11,906] Trial 13 finished with value: 0.11619745216496438 and parameters: {'colsample_bylevel': 0.03315599243213278, 'depth': 5, 'bootstrap_type': 'Bayesian', 'learning_rate': 0.03039864240780272, 'reg_lambda': 0.5835476378216604, 'num_trees': 139, 'bagging_temperature': 0.4732208650190246}. Best is trial 11 with value: 0.06626492024818122.\n",
      "[I 2024-04-14 15:06:11,964] Trial 14 finished with value: 0.10722953063845125 and parameters: {'colsample_bylevel': 0.06982520761750398, 'depth': 3, 'bootstrap_type': 'Bayesian', 'learning_rate': 0.06705336142299813, 'reg_lambda': 0.28348866432592673, 'num_trees': 151, 'bagging_temperature': 4.2084110445042064}. Best is trial 11 with value: 0.06626492024818122.\n",
      "[I 2024-04-14 15:06:12,011] Trial 15 finished with value: 0.1346209259583197 and parameters: {'colsample_bylevel': 0.012046127384532583, 'depth': 6, 'bootstrap_type': 'Bayesian', 'learning_rate': 0.03844940711593449, 'reg_lambda': 0.5940897983766013, 'num_trees': 130, 'bagging_temperature': 1.0967299463739262}. Best is trial 11 with value: 0.06626492024818122.\n",
      "[I 2024-04-14 15:06:12,065] Trial 16 finished with value: 0.09407501281683567 and parameters: {'colsample_bylevel': 0.0506687164356915, 'depth': 4, 'bootstrap_type': 'Bayesian', 'learning_rate': 0.06275756515281192, 'reg_lambda': 0.2170213211417999, 'num_trees': 166, 'bagging_temperature': 2.847308756360636}. Best is trial 11 with value: 0.06626492024818122.\n",
      "[I 2024-04-14 15:06:12,127] Trial 17 finished with value: 0.08583982509745348 and parameters: {'colsample_bylevel': 0.03581782416138749, 'depth': 7, 'bootstrap_type': 'Bayesian', 'learning_rate': 0.08062990610087319, 'reg_lambda': 0.44867429909741097, 'num_trees': 197, 'bagging_temperature': 4.883038773257777}. Best is trial 11 with value: 0.06626492024818122.\n",
      "[I 2024-04-14 15:06:12,172] Trial 18 finished with value: 0.10762223487659203 and parameters: {'colsample_bylevel': 0.023848070110197187, 'depth': 5, 'bootstrap_type': 'Bernoulli', 'learning_rate': 0.09395444341336036, 'reg_lambda': 0.3147221893191459, 'num_trees': 120, 'subsample': 0.9925550492085122}. Best is trial 11 with value: 0.06626492024818122.\n",
      "[I 2024-04-14 15:06:12,225] Trial 19 finished with value: 0.08146708014533258 and parameters: {'colsample_bylevel': 0.04463555143592515, 'depth': 8, 'bootstrap_type': 'Bayesian', 'learning_rate': 0.07039661388264667, 'reg_lambda': 0.6044717203834726, 'num_trees': 159, 'bagging_temperature': 9.942348209732565}. Best is trial 11 with value: 0.06626492024818122.\n",
      "[I 2024-04-14 15:06:12,289] Trial 20 finished with value: 0.10337762114516032 and parameters: {'colsample_bylevel': 0.06690810764154508, 'depth': 3, 'bootstrap_type': 'Bayesian', 'learning_rate': 0.0314434085230902, 'reg_lambda': 0.18799746945921675, 'num_trees': 199, 'bagging_temperature': 0.06694121142806958}. Best is trial 11 with value: 0.06626492024818122.\n",
      "[I 2024-04-14 15:06:12,346] Trial 21 finished with value: 0.08737079487215736 and parameters: {'colsample_bylevel': 0.05513130793021438, 'depth': 6, 'bootstrap_type': 'Bayesian', 'learning_rate': 0.07520998018822105, 'reg_lambda': 0.15518269501873488, 'num_trees': 174, 'bagging_temperature': 2.241290558575016}. Best is trial 11 with value: 0.06626492024818122.\n",
      "[I 2024-04-14 15:06:12,406] Trial 22 finished with value: 0.07647301434155884 and parameters: {'colsample_bylevel': 0.05476271955795052, 'depth': 5, 'bootstrap_type': 'Bayesian', 'learning_rate': 0.0702904465913847, 'reg_lambda': 0.36967806791427427, 'num_trees': 186, 'bagging_temperature': 3.8318386247312275}. Best is trial 11 with value: 0.06626492024818122.\n",
      "[I 2024-04-14 15:06:12,465] Trial 23 finished with value: 0.08260033938701582 and parameters: {'colsample_bylevel': 0.099968092138389, 'depth': 5, 'bootstrap_type': 'Bayesian', 'learning_rate': 0.060988204155205554, 'reg_lambda': 0.3712944771167112, 'num_trees': 156, 'bagging_temperature': 4.080849645116826}. Best is trial 11 with value: 0.06626492024818122.\n",
      "[I 2024-04-14 15:06:12,526] Trial 24 finished with value: 0.07885793237627013 and parameters: {'colsample_bylevel': 0.07402090617088965, 'depth': 4, 'bootstrap_type': 'Bayesian', 'learning_rate': 0.05757155938075484, 'reg_lambda': 0.4937079692969153, 'num_trees': 183, 'bagging_temperature': 5.386208352273575}. Best is trial 11 with value: 0.06626492024818122.\n",
      "[I 2024-04-14 15:06:12,588] Trial 25 finished with value: 0.07028162048028931 and parameters: {'colsample_bylevel': 0.07450597599235409, 'depth': 3, 'bootstrap_type': 'Bayesian', 'learning_rate': 0.0600750330644043, 'reg_lambda': 0.5119696975011158, 'num_trees': 184, 'bagging_temperature': 5.612926915011998}. Best is trial 11 with value: 0.06626492024818122.\n",
      "[I 2024-04-14 15:06:12,639] Trial 26 finished with value: 0.11079324172639837 and parameters: {'colsample_bylevel': 0.07418146511226878, 'depth': 1, 'bootstrap_type': 'Bernoulli', 'learning_rate': 0.07912741648254902, 'reg_lambda': 0.7010922512023694, 'num_trees': 200, 'subsample': 0.20460691528758518}. Best is trial 11 with value: 0.06626492024818122.\n",
      "[I 2024-04-14 15:06:12,676] Trial 27 finished with value: 0.113033368627327 and parameters: {'colsample_bylevel': 0.06110640799574713, 'depth': 3, 'bootstrap_type': 'Bayesian', 'learning_rate': 0.08789610708817192, 'reg_lambda': 0.38223312493740047, 'num_trees': 33, 'bagging_temperature': 5.185113036792942}. Best is trial 11 with value: 0.06626492024818122.\n",
      "[I 2024-04-14 15:06:12,733] Trial 28 finished with value: 0.10591711139945267 and parameters: {'colsample_bylevel': 0.058145976042414435, 'depth': 2, 'bootstrap_type': 'Bayesian', 'learning_rate': 0.04562314727549584, 'reg_lambda': 0.5334761512394295, 'num_trees': 176, 'bagging_temperature': 3.7268858954769306}. Best is trial 11 with value: 0.06626492024818122.\n",
      "[I 2024-04-14 15:06:12,786] Trial 29 finished with value: 0.09257523256811197 and parameters: {'colsample_bylevel': 0.07715943960931416, 'depth': 8, 'bootstrap_type': 'Bayesian', 'learning_rate': 0.06537513348130253, 'reg_lambda': 0.6791074780138564, 'num_trees': 132, 'bagging_temperature': 7.551070622698149}. Best is trial 11 with value: 0.06626492024818122.\n",
      "[I 2024-04-14 15:06:12,831] Trial 30 finished with value: 0.10769558052245616 and parameters: {'colsample_bylevel': 0.03720089386030019, 'depth': 7, 'bootstrap_type': 'Bayesian', 'learning_rate': 0.055949957909208724, 'reg_lambda': 0.430107727135456, 'num_trees': 92, 'bagging_temperature': 4.8120856842511905}. Best is trial 11 with value: 0.06626492024818122.\n",
      "[I 2024-04-14 15:06:12,893] Trial 31 finished with value: 0.07833974273087321 and parameters: {'colsample_bylevel': 0.07344393754327161, 'depth': 4, 'bootstrap_type': 'Bayesian', 'learning_rate': 0.05698120893654381, 'reg_lambda': 0.5081501925761692, 'num_trees': 186, 'bagging_temperature': 5.730525251026219}. Best is trial 11 with value: 0.06626492024818122.\n",
      "[I 2024-04-14 15:06:12,955] Trial 32 finished with value: 0.09486178768203865 and parameters: {'colsample_bylevel': 0.09260368059046259, 'depth': 2, 'bootstrap_type': 'Bayesian', 'learning_rate': 0.047704885140827186, 'reg_lambda': 0.49702840938609694, 'num_trees': 165, 'bagging_temperature': 5.41824942998363}. Best is trial 11 with value: 0.06626492024818122.\n",
      "[I 2024-04-14 15:06:13,016] Trial 33 finished with value: 0.08692727555386454 and parameters: {'colsample_bylevel': 0.07834509068828586, 'depth': 4, 'bootstrap_type': 'Bayesian', 'learning_rate': 0.040439466708250715, 'reg_lambda': 0.9450215442818057, 'num_trees': 189, 'bagging_temperature': 4.231524465721812}. Best is trial 11 with value: 0.06626492024818122.\n",
      "[I 2024-04-14 15:06:13,074] Trial 34 finished with value: 0.08309532034753707 and parameters: {'colsample_bylevel': 0.06862662439953489, 'depth': 5, 'bootstrap_type': 'Bayesian', 'learning_rate': 0.057436768585553084, 'reg_lambda': 0.317072762028615, 'num_trees': 168, 'bagging_temperature': 7.410840220500356}. Best is trial 11 with value: 0.06626492024818122.\n",
      "[I 2024-04-14 15:06:13,134] Trial 35 finished with value: 0.11420896833156081 and parameters: {'colsample_bylevel': 0.04991480688739994, 'depth': 3, 'bootstrap_type': 'Bayesian', 'learning_rate': 0.013244591091954944, 'reg_lambda': 0.8001663458849726, 'num_trees': 190, 'bagging_temperature': 5.937219786987163}. Best is trial 11 with value: 0.06626492024818122.\n",
      "[I 2024-04-14 15:06:13,199] Trial 36 finished with value: 0.08819268729433218 and parameters: {'colsample_bylevel': 0.06143354882165851, 'depth': 6, 'bootstrap_type': 'Bayesian', 'learning_rate': 0.051644177594967276, 'reg_lambda': 0.5390895495270897, 'num_trees': 178, 'bagging_temperature': 3.430425531547581}. Best is trial 11 with value: 0.06626492024818122.\n",
      "[I 2024-04-14 15:06:13,237] Trial 37 finished with value: 0.11631756072635904 and parameters: {'colsample_bylevel': 0.025082749616614074, 'depth': 4, 'bootstrap_type': 'Bayesian', 'learning_rate': 0.07479293805563102, 'reg_lambda': 0.4349293324817178, 'num_trees': 52, 'bagging_temperature': 5.886744201527955}. Best is trial 11 with value: 0.06626492024818122.\n",
      "[I 2024-04-14 15:06:13,291] Trial 38 finished with value: 0.12346895528205845 and parameters: {'colsample_bylevel': 0.04394254467905108, 'depth': 12, 'bootstrap_type': 'Bernoulli', 'learning_rate': 0.06298868403365367, 'reg_lambda': 0.6589470403766402, 'num_trees': 191, 'subsample': 0.9956868007283158}. Best is trial 11 with value: 0.06626492024818122.\n",
      "[I 2024-04-14 15:06:13,339] Trial 39 finished with value: 0.11120359291540005 and parameters: {'colsample_bylevel': 0.039035250201359055, 'depth': 2, 'bootstrap_type': 'Bayesian', 'learning_rate': 0.07059602813688408, 'reg_lambda': 0.23428688524547983, 'num_trees': 107, 'bagging_temperature': 4.684359007620998}. Best is trial 11 with value: 0.06626492024818122.\n",
      "[I 2024-04-14 15:06:13,408] Trial 40 finished with value: 0.07725966213684439 and parameters: {'colsample_bylevel': 0.08202522894611944, 'depth': 9, 'bootstrap_type': 'Bayesian', 'learning_rate': 0.041805407312094554, 'reg_lambda': 0.40057813759728567, 'num_trees': 160, 'bagging_temperature': 6.4995469156536245}. Best is trial 11 with value: 0.06626492024818122.\n",
      "[I 2024-04-14 15:06:13,478] Trial 41 finished with value: 0.07322069749756985 and parameters: {'colsample_bylevel': 0.08758577814335684, 'depth': 10, 'bootstrap_type': 'Bayesian', 'learning_rate': 0.03885972119994695, 'reg_lambda': 0.3862753874163636, 'num_trees': 179, 'bagging_temperature': 7.071857374998252}. Best is trial 11 with value: 0.06626492024818122.\n",
      "[I 2024-04-14 15:06:13,540] Trial 42 finished with value: 0.07611154144564082 and parameters: {'colsample_bylevel': 0.0927642564981249, 'depth': 9, 'bootstrap_type': 'Bayesian', 'learning_rate': 0.022628664675620483, 'reg_lambda': 0.39413208119813437, 'num_trees': 161, 'bagging_temperature': 6.90818613479032}. Best is trial 11 with value: 0.06626492024818122.\n",
      "[I 2024-04-14 15:06:13,608] Trial 43 finished with value: 0.07390220512817303 and parameters: {'colsample_bylevel': 0.09491019694133211, 'depth': 10, 'bootstrap_type': 'Bayesian', 'learning_rate': 0.022317322886329198, 'reg_lambda': 0.3508855351800508, 'num_trees': 173, 'bagging_temperature': 7.459842003806503}. Best is trial 11 with value: 0.06626492024818122.\n",
      "[I 2024-04-14 15:06:13,668] Trial 44 finished with value: 0.10036219951579865 and parameters: {'colsample_bylevel': 0.09558881337703433, 'depth': 10, 'bootstrap_type': 'Bernoulli', 'learning_rate': 0.021292961715923202, 'reg_lambda': 0.13581419405239198, 'num_trees': 173, 'subsample': 0.37362146605464763}. Best is trial 11 with value: 0.06626492024818122.\n",
      "[I 2024-04-14 15:06:13,727] Trial 45 finished with value: 0.08900215322661133 and parameters: {'colsample_bylevel': 0.08786334635319568, 'depth': 11, 'bootstrap_type': 'Bayesian', 'learning_rate': 0.02408927388191024, 'reg_lambda': 0.25731875761835493, 'num_trees': 151, 'bagging_temperature': 7.268705403411509}. Best is trial 11 with value: 0.06626492024818122.\n",
      "[I 2024-04-14 15:06:13,797] Trial 46 finished with value: 0.07884053221456348 and parameters: {'colsample_bylevel': 0.09065009872955829, 'depth': 9, 'bootstrap_type': 'Bayesian', 'learning_rate': 0.03303264243002972, 'reg_lambda': 0.32388193816569394, 'num_trees': 179, 'bagging_temperature': 8.900955290694895}. Best is trial 11 with value: 0.06626492024818122.\n",
      "[I 2024-04-14 15:06:13,866] Trial 47 finished with value: 0.08483376530323566 and parameters: {'colsample_bylevel': 0.09785557414092624, 'depth': 11, 'bootstrap_type': 'Bayesian', 'learning_rate': 0.025330494392201384, 'reg_lambda': 0.47134219569020547, 'num_trees': 167, 'bagging_temperature': 8.13482765473533}. Best is trial 11 with value: 0.06626492024818122.\n",
      "[I 2024-04-14 15:06:13,921] Trial 48 finished with value: 0.10380475095059699 and parameters: {'colsample_bylevel': 0.08644335322638816, 'depth': 12, 'bootstrap_type': 'Bayesian', 'learning_rate': 0.016232812958128104, 'reg_lambda': 0.2641612394024367, 'num_trees': 138, 'bagging_temperature': 8.161102018935383}. Best is trial 11 with value: 0.06626492024818122.\n",
      "[I 2024-04-14 15:06:13,988] Trial 49 finished with value: 0.1034743396682938 and parameters: {'colsample_bylevel': 0.09466338467216862, 'depth': 8, 'bootstrap_type': 'Bernoulli', 'learning_rate': 0.027700989054249617, 'reg_lambda': 0.3396491078001914, 'num_trees': 195, 'subsample': 0.8177377039867955}. Best is trial 11 with value: 0.06626492024818122.\n",
      "[I 2024-04-14 15:06:14,048] Trial 50 finished with value: 0.08383515077674679 and parameters: {'colsample_bylevel': 0.0817050228495001, 'depth': 10, 'bootstrap_type': 'Bayesian', 'learning_rate': 0.03740451664374986, 'reg_lambda': 0.3988094831542333, 'num_trees': 154, 'bagging_temperature': 6.981300252802099}. Best is trial 11 with value: 0.06626492024818122.\n",
      "[I 2024-04-14 15:06:14,119] Trial 51 finished with value: 0.08028462770222623 and parameters: {'colsample_bylevel': 0.08988397095245534, 'depth': 10, 'bootstrap_type': 'Bayesian', 'learning_rate': 0.019198387433620213, 'reg_lambda': 0.3407094401268114, 'num_trees': 184, 'bagging_temperature': 6.446815156088469}. Best is trial 11 with value: 0.06626492024818122.\n",
      "[I 2024-04-14 15:06:14,192] Trial 52 finished with value: 0.0728504606031662 and parameters: {'colsample_bylevel': 0.09458296942664281, 'depth': 9, 'bootstrap_type': 'Bayesian', 'learning_rate': 0.03371134683824796, 'reg_lambda': 0.4257247564101021, 'num_trees': 181, 'bagging_temperature': 8.70216752969528}. Best is trial 11 with value: 0.06626492024818122.\n",
      "[I 2024-04-14 15:06:14,255] Trial 53 finished with value: 0.09395609911104932 and parameters: {'colsample_bylevel': 0.09247746506991716, 'depth': 9, 'bootstrap_type': 'Bayesian', 'learning_rate': 0.012344152442954443, 'reg_lambda': 0.42418153184807367, 'num_trees': 172, 'bagging_temperature': 9.031717833437979}. Best is trial 11 with value: 0.06626492024818122.\n",
      "[I 2024-04-14 15:06:14,319] Trial 54 finished with value: 0.08164995200016402 and parameters: {'colsample_bylevel': 0.09800155573798401, 'depth': 8, 'bootstrap_type': 'Bayesian', 'learning_rate': 0.02823061083464513, 'reg_lambda': 0.5653959804737461, 'num_trees': 162, 'bagging_temperature': 7.750807573721398}. Best is trial 11 with value: 0.06626492024818122.\n",
      "[I 2024-04-14 15:06:14,385] Trial 55 finished with value: 0.07476284345427786 and parameters: {'colsample_bylevel': 0.08525534356526054, 'depth': 11, 'bootstrap_type': 'Bayesian', 'learning_rate': 0.036010149491045404, 'reg_lambda': 0.2830703278513917, 'num_trees': 181, 'bagging_temperature': 8.659376380313075}. Best is trial 11 with value: 0.06626492024818122.\n",
      "[I 2024-04-14 15:06:14,453] Trial 56 finished with value: 0.06598161563192215 and parameters: {'colsample_bylevel': 0.08629796208863462, 'depth': 12, 'bootstrap_type': 'Bayesian', 'learning_rate': 0.0362558024140273, 'reg_lambda': 0.10754689523473793, 'num_trees': 196, 'bagging_temperature': 8.895136742816012}. Best is trial 56 with value: 0.06598161563192215.\n",
      "[I 2024-04-14 15:06:14,521] Trial 57 finished with value: 0.07105393203059988 and parameters: {'colsample_bylevel': 0.08057022954951404, 'depth': 12, 'bootstrap_type': 'Bayesian', 'learning_rate': 0.042103212097788396, 'reg_lambda': 0.08755180541396546, 'num_trees': 195, 'bagging_temperature': 9.86882609192652}. Best is trial 56 with value: 0.06598161563192215.\n",
      "[I 2024-04-14 15:06:14,586] Trial 58 finished with value: 0.07055437883283958 and parameters: {'colsample_bylevel': 0.08063849708607518, 'depth': 12, 'bootstrap_type': 'Bayesian', 'learning_rate': 0.04370706741743613, 'reg_lambda': 0.1187685953381265, 'num_trees': 193, 'bagging_temperature': 9.961453670109483}. Best is trial 56 with value: 0.06598161563192215.\n",
      "[I 2024-04-14 15:06:14,647] Trial 59 finished with value: 0.10937826657829762 and parameters: {'colsample_bylevel': 0.07977223608886706, 'depth': 12, 'bootstrap_type': 'Bernoulli', 'learning_rate': 0.04376670670036651, 'reg_lambda': 0.09665481901159885, 'num_trees': 194, 'subsample': 0.3936523818597496}. Best is trial 56 with value: 0.06598161563192215.\n",
      "[I 2024-04-14 15:06:14,715] Trial 60 finished with value: 0.08420407421786183 and parameters: {'colsample_bylevel': 0.06992236978625346, 'depth': 12, 'bootstrap_type': 'Bayesian', 'learning_rate': 0.04880038038166221, 'reg_lambda': 0.03047641942851745, 'num_trees': 200, 'bagging_temperature': 9.96243242821817}. Best is trial 56 with value: 0.06598161563192215.\n",
      "[I 2024-04-14 15:06:14,783] Trial 61 finished with value: 0.0737134482422798 and parameters: {'colsample_bylevel': 0.08672271950435705, 'depth': 11, 'bootstrap_type': 'Bayesian', 'learning_rate': 0.033641128576387375, 'reg_lambda': 0.09506748988638497, 'num_trees': 194, 'bagging_temperature': 9.415111627423787}. Best is trial 56 with value: 0.06598161563192215.\n",
      "[I 2024-04-14 15:06:14,848] Trial 62 finished with value: 0.1053173512009364 and parameters: {'colsample_bylevel': 0.07630807251030226, 'depth': 12, 'bootstrap_type': 'Bayesian', 'learning_rate': 0.0528076638713566, 'reg_lambda': 0.162182373354996, 'num_trees': 183, 'bagging_temperature': 9.52552717613962}. Best is trial 56 with value: 0.06598161563192215.\n",
      "[I 2024-04-14 15:06:14,935] Trial 63 finished with value: 0.07311928671201512 and parameters: {'colsample_bylevel': 0.0828355465620554, 'depth': 11, 'bootstrap_type': 'Bayesian', 'learning_rate': 0.044552007910609384, 'reg_lambda': 0.1094289470048082, 'num_trees': 190, 'bagging_temperature': 8.518866685263138}. Best is trial 56 with value: 0.06598161563192215.\n",
      "[I 2024-04-14 15:06:15,000] Trial 64 finished with value: 0.07269186602320246 and parameters: {'colsample_bylevel': 0.0830497189515989, 'depth': 11, 'bootstrap_type': 'Bayesian', 'learning_rate': 0.043925997295231015, 'reg_lambda': 0.05614304317482191, 'num_trees': 191, 'bagging_temperature': 9.561853153797259}. Best is trial 56 with value: 0.06598161563192215.\n",
      "[I 2024-04-14 15:06:15,066] Trial 65 finished with value: 0.07748364122210065 and parameters: {'colsample_bylevel': 0.07981663844541854, 'depth': 12, 'bootstrap_type': 'Bayesian', 'learning_rate': 0.03539448235582108, 'reg_lambda': 0.03865095301667938, 'num_trees': 200, 'bagging_temperature': 9.488160689089899}. Best is trial 56 with value: 0.06598161563192215.\n",
      "[I 2024-04-14 15:06:15,130] Trial 66 finished with value: 0.08230402871085729 and parameters: {'colsample_bylevel': 0.07232137379517332, 'depth': 11, 'bootstrap_type': 'Bayesian', 'learning_rate': 0.04837250054711243, 'reg_lambda': 0.06965026604105592, 'num_trees': 193, 'bagging_temperature': 9.152383412419034}. Best is trial 56 with value: 0.06598161563192215.\n",
      "[I 2024-04-14 15:06:15,192] Trial 67 finished with value: 0.07558758868340777 and parameters: {'colsample_bylevel': 0.06567658232599118, 'depth': 12, 'bootstrap_type': 'Bayesian', 'learning_rate': 0.04075970090690473, 'reg_lambda': 0.17789091930261913, 'num_trees': 186, 'bagging_temperature': 9.672513021913511}. Best is trial 56 with value: 0.06598161563192215.\n",
      "[I 2024-04-14 15:06:15,256] Trial 68 finished with value: 0.10775960143989913 and parameters: {'colsample_bylevel': 0.07540785716362636, 'depth': 7, 'bootstrap_type': 'Bayesian', 'learning_rate': 0.053790197789726824, 'reg_lambda': 0.14438514752119858, 'num_trees': 194, 'bagging_temperature': 2.2765799184017785}. Best is trial 56 with value: 0.06598161563192215.\n",
      "[I 2024-04-14 15:06:15,300] Trial 69 finished with value: 0.12028279655017829 and parameters: {'colsample_bylevel': 0.032519031834188195, 'depth': 11, 'bootstrap_type': 'Bayesian', 'learning_rate': 0.029808056567679077, 'reg_lambda': 0.21921674216578355, 'num_trees': 73, 'bagging_temperature': 8.604108603188376}. Best is trial 56 with value: 0.06598161563192215.\n",
      "[I 2024-04-14 15:06:15,364] Trial 70 finished with value: 0.08246346818616036 and parameters: {'colsample_bylevel': 0.08443328625052547, 'depth': 12, 'bootstrap_type': 'Bayesian', 'learning_rate': 0.0599405063111417, 'reg_lambda': 0.012870621113549092, 'num_trees': 187, 'bagging_temperature': 9.883773430259179}. Best is trial 56 with value: 0.06598161563192215.\n",
      "[I 2024-04-14 15:06:15,428] Trial 71 finished with value: 0.07531784419614677 and parameters: {'colsample_bylevel': 0.08190284771663164, 'depth': 11, 'bootstrap_type': 'Bayesian', 'learning_rate': 0.04436230823569994, 'reg_lambda': 0.13462907971359656, 'num_trees': 190, 'bagging_temperature': 8.551502529216082}. Best is trial 56 with value: 0.06598161563192215.\n",
      "[I 2024-04-14 15:06:15,494] Trial 72 finished with value: 0.07190206460616319 and parameters: {'colsample_bylevel': 0.08308889405022266, 'depth': 12, 'bootstrap_type': 'Bayesian', 'learning_rate': 0.04547897437194956, 'reg_lambda': 0.10741333377380477, 'num_trees': 196, 'bagging_temperature': 9.232878646326265}. Best is trial 56 with value: 0.06598161563192215.\n",
      "[I 2024-04-14 15:06:15,561] Trial 73 finished with value: 0.08268512272288077 and parameters: {'colsample_bylevel': 0.07163187921555694, 'depth': 12, 'bootstrap_type': 'Bayesian', 'learning_rate': 0.04661701167002383, 'reg_lambda': 0.067721378792882, 'num_trees': 198, 'bagging_temperature': 9.214136271663213}. Best is trial 56 with value: 0.06598161563192215.\n",
      "[I 2024-04-14 15:06:15,625] Trial 74 finished with value: 0.07906184150801941 and parameters: {'colsample_bylevel': 0.07844873609304884, 'depth': 12, 'bootstrap_type': 'Bayesian', 'learning_rate': 0.04186444075499683, 'reg_lambda': 0.11867600675871288, 'num_trees': 178, 'bagging_temperature': 8.900114159714448}. Best is trial 56 with value: 0.06598161563192215.\n",
      "[I 2024-04-14 15:06:15,700] Trial 75 finished with value: 0.05988893077573199 and parameters: {'colsample_bylevel': 0.09046212237231291, 'depth': 12, 'bootstrap_type': 'Bayesian', 'learning_rate': 0.049708705137281754, 'reg_lambda': 0.1980898559392833, 'num_trees': 196, 'bagging_temperature': 9.645293922724978}. Best is trial 75 with value: 0.05988893077573199.\n",
      "[I 2024-04-14 15:06:15,781] Trial 76 finished with value: 0.07029669869271343 and parameters: {'colsample_bylevel': 0.08962462301666248, 'depth': 12, 'bootstrap_type': 'Bayesian', 'learning_rate': 0.05035709806720665, 'reg_lambda': 0.18811661046935402, 'num_trees': 200, 'bagging_temperature': 1.3887189589175626}. Best is trial 75 with value: 0.05988893077573199.\n",
      "[I 2024-04-14 15:06:15,842] Trial 77 finished with value: 0.1010218596045172 and parameters: {'colsample_bylevel': 0.0893750503726742, 'depth': 12, 'bootstrap_type': 'Bernoulli', 'learning_rate': 0.06635729036909263, 'reg_lambda': 0.18704945805482856, 'num_trees': 197, 'subsample': 0.39162308273137003}. Best is trial 75 with value: 0.05988893077573199.\n",
      "[I 2024-04-14 15:06:15,910] Trial 78 finished with value: 0.0720344691151903 and parameters: {'colsample_bylevel': 0.09072724042955502, 'depth': 12, 'bootstrap_type': 'Bayesian', 'learning_rate': 0.06275094089785488, 'reg_lambda': 0.21444820782660529, 'num_trees': 185, 'bagging_temperature': 1.17543257332667}. Best is trial 75 with value: 0.05988893077573199.\n",
      "[I 2024-04-14 15:06:15,974] Trial 79 finished with value: 0.11493257966806952 and parameters: {'colsample_bylevel': 0.08041293248888325, 'depth': 1, 'bootstrap_type': 'Bayesian', 'learning_rate': 0.04931364289193707, 'reg_lambda': 0.16721262542724646, 'num_trees': 200, 'bagging_temperature': 1.724007226358622}. Best is trial 75 with value: 0.05988893077573199.\n",
      "[I 2024-04-14 15:06:16,035] Trial 80 finished with value: 0.09396196048829389 and parameters: {'colsample_bylevel': 0.048308629610801054, 'depth': 12, 'bootstrap_type': 'Bayesian', 'learning_rate': 0.05490946666269525, 'reg_lambda': 0.24800842977184, 'num_trees': 171, 'bagging_temperature': 9.786269860587714}. Best is trial 75 with value: 0.05988893077573199.\n",
      "[I 2024-04-14 15:06:16,102] Trial 81 finished with value: 0.09473717969044904 and parameters: {'colsample_bylevel': 0.018244150788914847, 'depth': 12, 'bootstrap_type': 'Bayesian', 'learning_rate': 0.0628061323868853, 'reg_lambda': 0.20905678775206382, 'num_trees': 186, 'bagging_temperature': 0.5182567274308081}. Best is trial 75 with value: 0.05988893077573199.\n",
      "[I 2024-04-14 15:06:16,169] Trial 82 finished with value: 0.07128054971194467 and parameters: {'colsample_bylevel': 0.09114668698484135, 'depth': 12, 'bootstrap_type': 'Bayesian', 'learning_rate': 0.05775142761778147, 'reg_lambda': 0.12869147885290677, 'num_trees': 195, 'bagging_temperature': 1.4253555879035815}. Best is trial 75 with value: 0.05988893077573199.\n",
      "[I 2024-04-14 15:06:16,236] Trial 83 finished with value: 0.08350706755196213 and parameters: {'colsample_bylevel': 0.08538170696834096, 'depth': 11, 'bootstrap_type': 'Bayesian', 'learning_rate': 0.050878860639879606, 'reg_lambda': 0.12630466721282396, 'num_trees': 195, 'bagging_temperature': 2.901591518979224}. Best is trial 75 with value: 0.05988893077573199.\n",
      "[I 2024-04-14 15:06:16,303] Trial 84 finished with value: 0.08190848432466848 and parameters: {'colsample_bylevel': 0.0883534787216603, 'depth': 11, 'bootstrap_type': 'Bayesian', 'learning_rate': 0.05839766366479537, 'reg_lambda': 0.08641977373990264, 'num_trees': 191, 'bagging_temperature': 1.8615706023317733}. Best is trial 75 with value: 0.05988893077573199.\n",
      "[I 2024-04-14 15:06:16,367] Trial 85 finished with value: 0.0854383927122573 and parameters: {'colsample_bylevel': 0.07789229502665991, 'depth': 12, 'bootstrap_type': 'Bayesian', 'learning_rate': 0.05517858785724483, 'reg_lambda': 0.16663694222483694, 'num_trees': 200, 'bagging_temperature': 0.8411110384759803}. Best is trial 75 with value: 0.05988893077573199.\n",
      "[I 2024-04-14 15:06:16,449] Trial 86 finished with value: 0.07523162241023966 and parameters: {'colsample_bylevel': 0.09192065668978286, 'depth': 12, 'bootstrap_type': 'Bayesian', 'learning_rate': 0.05052623451576769, 'reg_lambda': 0.19615042879662958, 'num_trees': 195, 'bagging_temperature': 2.6033175591294695}. Best is trial 75 with value: 0.05988893077573199.\n",
      "[I 2024-04-14 15:06:16,508] Trial 87 finished with value: 0.09035516025492582 and parameters: {'colsample_bylevel': 0.09730043084915908, 'depth': 11, 'bootstrap_type': 'Bayesian', 'learning_rate': 0.03905407349382301, 'reg_lambda': 0.10390523778741848, 'num_trees': 116, 'bagging_temperature': 0.049830763838799585}. Best is trial 75 with value: 0.05988893077573199.\n",
      "[I 2024-04-14 15:06:16,591] Trial 88 finished with value: 0.09901085067673443 and parameters: {'colsample_bylevel': 0.05817577949776624, 'depth': 2, 'bootstrap_type': 'Bayesian', 'learning_rate': 0.04636003717511357, 'reg_lambda': 0.14590569885294838, 'num_trees': 176, 'bagging_temperature': 1.1680729287564882}. Best is trial 75 with value: 0.05988893077573199.\n",
      "[I 2024-04-14 15:06:16,652] Trial 89 finished with value: 0.07525074392369545 and parameters: {'colsample_bylevel': 0.08441421223737226, 'depth': 6, 'bootstrap_type': 'Bernoulli', 'learning_rate': 0.06518122971634686, 'reg_lambda': 0.05742453856309895, 'num_trees': 183, 'subsample': 0.13028570751360768}. Best is trial 75 with value: 0.05988893077573199.\n",
      "[I 2024-04-14 15:06:16,713] Trial 90 finished with value: 0.11310761316511059 and parameters: {'colsample_bylevel': 0.0993129058412429, 'depth': 3, 'bootstrap_type': 'Bayesian', 'learning_rate': 0.07274522124259981, 'reg_lambda': 0.23285515946247948, 'num_trees': 188, 'bagging_temperature': 1.460402428889394}. Best is trial 75 with value: 0.05988893077573199.\n",
      "[I 2024-04-14 15:06:16,781] Trial 91 finished with value: 0.06251738983871348 and parameters: {'colsample_bylevel': 0.09153677230857561, 'depth': 12, 'bootstrap_type': 'Bayesian', 'learning_rate': 0.06151603040066697, 'reg_lambda': 0.2909603863684079, 'num_trees': 184, 'bagging_temperature': 1.4273989743275797}. Best is trial 75 with value: 0.05988893077573199.\n",
      "[I 2024-04-14 15:06:16,864] Trial 92 finished with value: 0.081538731218661 and parameters: {'colsample_bylevel': 0.08922901166235847, 'depth': 12, 'bootstrap_type': 'Bayesian', 'learning_rate': 0.0684862033092282, 'reg_lambda': 0.3043801275994988, 'num_trees': 195, 'bagging_temperature': 2.0008348238209184}. Best is trial 75 with value: 0.05988893077573199.\n",
      "[I 2024-04-14 15:06:16,930] Trial 93 finished with value: 0.06694538480434235 and parameters: {'colsample_bylevel': 0.09368437940178563, 'depth': 12, 'bootstrap_type': 'Bayesian', 'learning_rate': 0.0588629859344815, 'reg_lambda': 0.2755574423382738, 'num_trees': 181, 'bagging_temperature': 1.45413271944725}. Best is trial 75 with value: 0.05988893077573199.\n",
      "[I 2024-04-14 15:06:16,998] Trial 94 finished with value: 0.06783954050171791 and parameters: {'colsample_bylevel': 0.0937695894198008, 'depth': 12, 'bootstrap_type': 'Bayesian', 'learning_rate': 0.05819496881532295, 'reg_lambda': 0.28525687329216864, 'num_trees': 176, 'bagging_temperature': 1.51843228160638}. Best is trial 75 with value: 0.05988893077573199.\n",
      "[I 2024-04-14 15:06:17,064] Trial 95 finished with value: 0.07515931625352211 and parameters: {'colsample_bylevel': 0.09646596045177741, 'depth': 11, 'bootstrap_type': 'Bayesian', 'learning_rate': 0.060021017437768685, 'reg_lambda': 0.2961375125541377, 'num_trees': 169, 'bagging_temperature': 0.8044993075163567}. Best is trial 75 with value: 0.05988893077573199.\n",
      "[I 2024-04-14 15:06:17,138] Trial 96 finished with value: 0.07123810198434546 and parameters: {'colsample_bylevel': 0.09437750282351945, 'depth': 12, 'bootstrap_type': 'Bayesian', 'learning_rate': 0.05251169526232016, 'reg_lambda': 0.2720661854903216, 'num_trees': 175, 'bagging_temperature': 3.4449498550123407}. Best is trial 75 with value: 0.05988893077573199.\n",
      "[I 2024-04-14 15:06:17,210] Trial 97 finished with value: 0.08368523831301475 and parameters: {'colsample_bylevel': 0.08729755575735251, 'depth': 10, 'bootstrap_type': 'Bayesian', 'learning_rate': 0.06164613669104842, 'reg_lambda': 0.2545547298393368, 'num_trees': 179, 'bagging_temperature': 3.1108356943666724}. Best is trial 75 with value: 0.05988893077573199.\n",
      "[I 2024-04-14 15:06:17,282] Trial 98 finished with value: 0.08506984346592554 and parameters: {'colsample_bylevel': 0.08601267529244813, 'depth': 11, 'bootstrap_type': 'Bayesian', 'learning_rate': 0.05869454334313612, 'reg_lambda': 0.23425500706874142, 'num_trees': 181, 'bagging_temperature': 2.153355861798921}. Best is trial 75 with value: 0.05988893077573199.\n",
      "[I 2024-04-14 15:06:17,332] Trial 99 finished with value: 0.08604424350540579 and parameters: {'colsample_bylevel': 0.09313247124073501, 'depth': 5, 'bootstrap_type': 'Bayesian', 'learning_rate': 0.06541035651581877, 'reg_lambda': 0.32297946372637676, 'num_trees': 51, 'bagging_temperature': 2.5029777242271574}. Best is trial 75 with value: 0.05988893077573199.\n"
     ]
    },
    {
     "name": "stdout",
     "output_type": "stream",
     "text": [
      "Number of finished trials: 100\n",
      "Best trial:\n",
      "  Value: 0.05988893077573199\n",
      "  Params: \n",
      "    colsample_bylevel: 0.09046212237231291\n",
      "    depth: 12\n",
      "    bootstrap_type: Bayesian\n",
      "    learning_rate: 0.049708705137281754\n",
      "    reg_lambda: 0.1980898559392833\n",
      "    num_trees: 196\n",
      "    bagging_temperature: 9.645293922724978\n"
     ]
    }
   ],
   "source": [
    "study = optuna.create_study(direction=\"minimize\")\n",
    "study.optimize(objective_catboost, n_trials=100, timeout=600)\n",
    "\n",
    "print(\"Number of finished trials: {}\".format(len(study.trials)))\n",
    "\n",
    "print(\"Best trial:\")\n",
    "trial = study.best_trial\n",
    "\n",
    "print(\"  Value: {}\".format(trial.value))\n",
    "\n",
    "print(\"  Params: \")\n",
    "for key, value in trial.params.items():\n",
    "    print(\"    {}: {}\".format(key, value))"
   ]
  },
  {
   "cell_type": "code",
   "execution_count": 54,
   "metadata": {},
   "outputs": [
    {
     "name": "stdout",
     "output_type": "stream",
     "text": [
      "Train val MAE: 0.06807496702861673\n",
      "OOT MAE: 0.09921845212444563\n",
      "Overfit check: 1.457488067276435\n"
     ]
    }
   ],
   "source": [
    "params= study.best_params\n",
    "\n",
    "ctb = CatBoostRegressor(**params)\n",
    "train_val_pool = Pool(pd.concat([X_train, X_val]), pd.concat([y_train, y_val]))\n",
    "ctb.fit(train_val_pool, verbose=0)\n",
    "\n",
    "y_train_val_pred = ctb.predict(pd.concat([X_train, X_val]))\n",
    "y_oot_pred = ctb.predict(X_oot)\n",
    "\n",
    "print(f'Train val MAE: {mean_absolute_error(pd.concat([y_train, y_val]), y_train_val_pred)}')\n",
    "print(f'OOT MAE: {mean_absolute_error(y_oot, y_oot_pred)}')\n",
    "print(f'Overfit check: {mean_absolute_error(y_oot, y_oot_pred)/mean_absolute_error(pd.concat([y_train, y_val]), y_train_val_pred)}')"
   ]
  },
  {
   "cell_type": "markdown",
   "metadata": {},
   "source": [
    "### prophet"
   ]
  },
  {
   "cell_type": "code",
   "execution_count": 55,
   "metadata": {},
   "outputs": [],
   "source": [
    "def objective_prophet(trial):\n",
    "    \n",
    "    params = {  \n",
    "    'changepoint_prior_scale': trial.suggest_float(\"changepoint_prior_scale\", 0.001, 0.5),\n",
    "    'seasonality_prior_scale': trial.suggest_float(\"seasonality_prior_scale\", 0.01, 10),\n",
    "    \"seasonality_mode\": trial.suggest_categorical('seasonality_mode', ['additive', 'multiplicative']),\n",
    "}\n",
    "\n",
    "    model = Prophet(**params)\n",
    "    for col in X_train.columns:\n",
    "        model.add_regressor(col, standardize=False)\n",
    "        model.add_seasonality(\n",
    "        name='half_year', period=31*6, fourier_order=3) #по ACF выяснили, что есть полугодовая сезонность\n",
    "\n",
    "    model.fit(df_train_for_prophet)\n",
    "\n",
    "    preds = model.predict(df_val_for_prophet)['yhat']\n",
    "    mae = mean_absolute_error(y_val, preds)\n",
    "    return mae"
   ]
  },
  {
   "cell_type": "code",
   "execution_count": 56,
   "metadata": {},
   "outputs": [
    {
     "name": "stderr",
     "output_type": "stream",
     "text": [
      "[I 2024-04-14 15:07:02,529] A new study created in memory with name: no-name-5e6efc5e-71cc-4069-bc4d-0f95a0a6e6b9\n",
      "15:07:04 - cmdstanpy - INFO - Chain [1] start processing\n",
      "15:07:06 - cmdstanpy - INFO - Chain [1] done processing\n",
      "[I 2024-04-14 15:07:06,838] Trial 0 finished with value: 0.002241605780823138 and parameters: {'changepoint_prior_scale': 0.21942678603147384, 'seasonality_prior_scale': 5.7567147264962495, 'seasonality_mode': 'additive'}. Best is trial 0 with value: 0.002241605780823138.\n",
      "15:07:06 - cmdstanpy - INFO - Chain [1] start processing\n",
      "15:07:08 - cmdstanpy - INFO - Chain [1] done processing\n",
      "[I 2024-04-14 15:07:08,280] Trial 1 finished with value: 0.0004987929098840337 and parameters: {'changepoint_prior_scale': 0.018015801584479532, 'seasonality_prior_scale': 2.1810044700756364, 'seasonality_mode': 'additive'}. Best is trial 1 with value: 0.0004987929098840337.\n",
      "15:07:08 - cmdstanpy - INFO - Chain [1] start processing\n",
      "15:07:09 - cmdstanpy - INFO - Chain [1] done processing\n",
      "[I 2024-04-14 15:07:09,705] Trial 2 finished with value: 0.004331446543062704 and parameters: {'changepoint_prior_scale': 0.3802159201279848, 'seasonality_prior_scale': 4.556717079727634, 'seasonality_mode': 'additive'}. Best is trial 1 with value: 0.0004987929098840337.\n",
      "15:07:09 - cmdstanpy - INFO - Chain [1] start processing\n",
      "15:07:10 - cmdstanpy - INFO - Chain [1] done processing\n",
      "[I 2024-04-14 15:07:10,803] Trial 3 finished with value: 0.036857644560016736 and parameters: {'changepoint_prior_scale': 0.16386361617830483, 'seasonality_prior_scale': 8.833405380980174, 'seasonality_mode': 'multiplicative'}. Best is trial 1 with value: 0.0004987929098840337.\n",
      "15:07:10 - cmdstanpy - INFO - Chain [1] start processing\n",
      "15:07:11 - cmdstanpy - INFO - Chain [1] done processing\n",
      "[I 2024-04-14 15:07:11,832] Trial 4 finished with value: 0.03583300694658425 and parameters: {'changepoint_prior_scale': 0.13856783432645897, 'seasonality_prior_scale': 7.630413781491578, 'seasonality_mode': 'multiplicative'}. Best is trial 1 with value: 0.0004987929098840337.\n",
      "15:07:11 - cmdstanpy - INFO - Chain [1] start processing\n",
      "15:07:12 - cmdstanpy - INFO - Chain [1] done processing\n",
      "[I 2024-04-14 15:07:12,867] Trial 5 finished with value: 0.03672281092389407 and parameters: {'changepoint_prior_scale': 0.4162628334945814, 'seasonality_prior_scale': 6.502685423691365, 'seasonality_mode': 'multiplicative'}. Best is trial 1 with value: 0.0004987929098840337.\n",
      "15:07:12 - cmdstanpy - INFO - Chain [1] start processing\n",
      "15:07:13 - cmdstanpy - INFO - Chain [1] done processing\n",
      "[I 2024-04-14 15:07:13,928] Trial 6 finished with value: 0.03631522172368154 and parameters: {'changepoint_prior_scale': 0.28164839776534445, 'seasonality_prior_scale': 1.4612868319615628, 'seasonality_mode': 'multiplicative'}. Best is trial 1 with value: 0.0004987929098840337.\n",
      "15:07:14 - cmdstanpy - INFO - Chain [1] start processing\n",
      "15:07:14 - cmdstanpy - INFO - Chain [1] done processing\n",
      "[I 2024-04-14 15:07:14,735] Trial 7 finished with value: 0.036101924545171346 and parameters: {'changepoint_prior_scale': 0.27878710441648796, 'seasonality_prior_scale': 0.575668870694512, 'seasonality_mode': 'multiplicative'}. Best is trial 1 with value: 0.0004987929098840337.\n",
      "15:07:14 - cmdstanpy - INFO - Chain [1] start processing\n",
      "15:07:16 - cmdstanpy - INFO - Chain [1] done processing\n",
      "[I 2024-04-14 15:07:16,150] Trial 8 finished with value: 0.002777344600413099 and parameters: {'changepoint_prior_scale': 0.3755080732352215, 'seasonality_prior_scale': 7.418367423428395, 'seasonality_mode': 'additive'}. Best is trial 1 with value: 0.0004987929098840337.\n",
      "15:07:16 - cmdstanpy - INFO - Chain [1] start processing\n",
      "15:07:17 - cmdstanpy - INFO - Chain [1] done processing\n",
      "[I 2024-04-14 15:07:17,185] Trial 9 finished with value: 0.03647315025374547 and parameters: {'changepoint_prior_scale': 0.19204629330046297, 'seasonality_prior_scale': 6.061846071903077, 'seasonality_mode': 'multiplicative'}. Best is trial 1 with value: 0.0004987929098840337.\n",
      "15:07:17 - cmdstanpy - INFO - Chain [1] start processing\n",
      "15:07:18 - cmdstanpy - INFO - Chain [1] done processing\n",
      "[I 2024-04-14 15:07:18,606] Trial 10 finished with value: 0.0008511264601861637 and parameters: {'changepoint_prior_scale': 0.007189051437334792, 'seasonality_prior_scale': 3.08408037743638, 'seasonality_mode': 'additive'}. Best is trial 1 with value: 0.0004987929098840337.\n",
      "15:07:18 - cmdstanpy - INFO - Chain [1] start processing\n",
      "15:07:19 - cmdstanpy - INFO - Chain [1] done processing\n",
      "[I 2024-04-14 15:07:20,011] Trial 11 finished with value: 0.0014123902401257929 and parameters: {'changepoint_prior_scale': 0.03709159339477568, 'seasonality_prior_scale': 2.946197964463664, 'seasonality_mode': 'additive'}. Best is trial 1 with value: 0.0004987929098840337.\n",
      "15:07:20 - cmdstanpy - INFO - Chain [1] start processing\n",
      "15:07:21 - cmdstanpy - INFO - Chain [1] done processing\n",
      "[I 2024-04-14 15:07:21,430] Trial 12 finished with value: 0.0011582575226199443 and parameters: {'changepoint_prior_scale': 0.003707346210160139, 'seasonality_prior_scale': 2.927338258442971, 'seasonality_mode': 'additive'}. Best is trial 1 with value: 0.0004987929098840337.\n",
      "15:07:21 - cmdstanpy - INFO - Chain [1] start processing\n",
      "15:07:22 - cmdstanpy - INFO - Chain [1] done processing\n",
      "[I 2024-04-14 15:07:22,847] Trial 13 finished with value: 0.0005201032123378578 and parameters: {'changepoint_prior_scale': 0.0811372473773425, 'seasonality_prior_scale': 3.612431509951061, 'seasonality_mode': 'additive'}. Best is trial 1 with value: 0.0004987929098840337.\n",
      "15:07:22 - cmdstanpy - INFO - Chain [1] start processing\n",
      "15:07:24 - cmdstanpy - INFO - Chain [1] done processing\n",
      "[I 2024-04-14 15:07:24,319] Trial 14 finished with value: 0.0014379709599475926 and parameters: {'changepoint_prior_scale': 0.09557395144181044, 'seasonality_prior_scale': 4.338044940057294, 'seasonality_mode': 'additive'}. Best is trial 1 with value: 0.0004987929098840337.\n",
      "15:07:24 - cmdstanpy - INFO - Chain [1] start processing\n",
      "15:07:25 - cmdstanpy - INFO - Chain [1] done processing\n",
      "[I 2024-04-14 15:07:25,783] Trial 15 finished with value: 0.000401610747726117 and parameters: {'changepoint_prior_scale': 0.08768037034897398, 'seasonality_prior_scale': 1.6027503958048896, 'seasonality_mode': 'additive'}. Best is trial 15 with value: 0.000401610747726117.\n",
      "15:07:25 - cmdstanpy - INFO - Chain [1] start processing\n",
      "15:07:27 - cmdstanpy - INFO - Chain [1] done processing\n",
      "[I 2024-04-14 15:07:27,226] Trial 16 finished with value: 0.002093879802811263 and parameters: {'changepoint_prior_scale': 0.08737855858474812, 'seasonality_prior_scale': 0.035652978918054856, 'seasonality_mode': 'additive'}. Best is trial 15 with value: 0.000401610747726117.\n",
      "15:07:27 - cmdstanpy - INFO - Chain [1] start processing\n",
      "15:07:28 - cmdstanpy - INFO - Chain [1] done processing\n",
      "[I 2024-04-14 15:07:28,705] Trial 17 finished with value: 0.003309250663319561 and parameters: {'changepoint_prior_scale': 0.49607019143220665, 'seasonality_prior_scale': 1.652762849450244, 'seasonality_mode': 'additive'}. Best is trial 15 with value: 0.000401610747726117.\n",
      "15:07:28 - cmdstanpy - INFO - Chain [1] start processing\n",
      "15:07:30 - cmdstanpy - INFO - Chain [1] done processing\n",
      "[I 2024-04-14 15:07:30,160] Trial 18 finished with value: 0.001850568570788159 and parameters: {'changepoint_prior_scale': 0.05931807054811199, 'seasonality_prior_scale': 1.7379025562008503, 'seasonality_mode': 'additive'}. Best is trial 15 with value: 0.000401610747726117.\n",
      "15:07:30 - cmdstanpy - INFO - Chain [1] start processing\n",
      "15:07:31 - cmdstanpy - INFO - Chain [1] done processing\n",
      "[I 2024-04-14 15:07:31,628] Trial 19 finished with value: 0.0027687169887644003 and parameters: {'changepoint_prior_scale': 0.13107660006287833, 'seasonality_prior_scale': 1.3534698028804617, 'seasonality_mode': 'additive'}. Best is trial 15 with value: 0.000401610747726117.\n",
      "15:07:31 - cmdstanpy - INFO - Chain [1] start processing\n",
      "15:07:32 - cmdstanpy - INFO - Chain [1] done processing\n",
      "[I 2024-04-14 15:07:33,073] Trial 20 finished with value: 0.002288301995600968 and parameters: {'changepoint_prior_scale': 0.21246673122544196, 'seasonality_prior_scale': 2.3866014950582985, 'seasonality_mode': 'additive'}. Best is trial 15 with value: 0.000401610747726117.\n",
      "15:07:33 - cmdstanpy - INFO - Chain [1] start processing\n",
      "15:07:34 - cmdstanpy - INFO - Chain [1] done processing\n",
      "[I 2024-04-14 15:07:34,484] Trial 21 finished with value: 0.0003410023963800232 and parameters: {'changepoint_prior_scale': 0.09123659409004792, 'seasonality_prior_scale': 4.145944070119201, 'seasonality_mode': 'additive'}. Best is trial 21 with value: 0.0003410023963800232.\n",
      "15:07:34 - cmdstanpy - INFO - Chain [1] start processing\n",
      "15:07:35 - cmdstanpy - INFO - Chain [1] done processing\n",
      "[I 2024-04-14 15:07:35,918] Trial 22 finished with value: 0.0002013274807913724 and parameters: {'changepoint_prior_scale': 0.12051000441299159, 'seasonality_prior_scale': 4.073657018550335, 'seasonality_mode': 'additive'}. Best is trial 22 with value: 0.0002013274807913724.\n",
      "15:07:36 - cmdstanpy - INFO - Chain [1] start processing\n",
      "15:07:37 - cmdstanpy - INFO - Chain [1] done processing\n",
      "[I 2024-04-14 15:07:37,330] Trial 23 finished with value: 0.001558443585222875 and parameters: {'changepoint_prior_scale': 0.12272096349707395, 'seasonality_prior_scale': 5.1858497591292485, 'seasonality_mode': 'additive'}. Best is trial 22 with value: 0.0002013274807913724.\n",
      "15:07:37 - cmdstanpy - INFO - Chain [1] start processing\n",
      "15:07:38 - cmdstanpy - INFO - Chain [1] done processing\n",
      "[I 2024-04-14 15:07:38,729] Trial 24 finished with value: 0.0015138503710925776 and parameters: {'changepoint_prior_scale': 0.15697384648753598, 'seasonality_prior_scale': 3.8772656272293466, 'seasonality_mode': 'additive'}. Best is trial 22 with value: 0.0002013274807913724.\n",
      "15:07:38 - cmdstanpy - INFO - Chain [1] start processing\n",
      "15:07:40 - cmdstanpy - INFO - Chain [1] done processing\n",
      "[I 2024-04-14 15:07:40,137] Trial 25 finished with value: 0.0005748636965868647 and parameters: {'changepoint_prior_scale': 0.057653679609458594, 'seasonality_prior_scale': 5.189833725514701, 'seasonality_mode': 'additive'}. Best is trial 22 with value: 0.0002013274807913724.\n",
      "15:07:40 - cmdstanpy - INFO - Chain [1] start processing\n",
      "15:07:41 - cmdstanpy - INFO - Chain [1] done processing\n",
      "[I 2024-04-14 15:07:41,539] Trial 26 finished with value: 0.0016257735196694642 and parameters: {'changepoint_prior_scale': 0.249113988756264, 'seasonality_prior_scale': 3.8743552703364132, 'seasonality_mode': 'additive'}. Best is trial 22 with value: 0.0002013274807913724.\n",
      "15:07:41 - cmdstanpy - INFO - Chain [1] start processing\n",
      "15:07:42 - cmdstanpy - INFO - Chain [1] done processing\n",
      "[I 2024-04-14 15:07:42,935] Trial 27 finished with value: 0.0015791683472567836 and parameters: {'changepoint_prior_scale': 0.11109442806659281, 'seasonality_prior_scale': 6.9775472628734025, 'seasonality_mode': 'additive'}. Best is trial 22 with value: 0.0002013274807913724.\n",
      "15:07:43 - cmdstanpy - INFO - Chain [1] start processing\n",
      "15:07:44 - cmdstanpy - INFO - Chain [1] done processing\n",
      "[I 2024-04-14 15:07:44,337] Trial 28 finished with value: 0.0013722514104788947 and parameters: {'changepoint_prior_scale': 0.17614808847282395, 'seasonality_prior_scale': 9.31486585172038, 'seasonality_mode': 'additive'}. Best is trial 22 with value: 0.0002013274807913724.\n",
      "15:07:44 - cmdstanpy - INFO - Chain [1] start processing\n",
      "15:07:45 - cmdstanpy - INFO - Chain [1] done processing\n",
      "[I 2024-04-14 15:07:45,735] Trial 29 finished with value: 0.0026425795827312503 and parameters: {'changepoint_prior_scale': 0.23582210679883622, 'seasonality_prior_scale': 5.630375975264643, 'seasonality_mode': 'additive'}. Best is trial 22 with value: 0.0002013274807913724.\n",
      "15:07:45 - cmdstanpy - INFO - Chain [1] start processing\n",
      "15:07:47 - cmdstanpy - INFO - Chain [1] done processing\n",
      "[I 2024-04-14 15:07:47,138] Trial 30 finished with value: 0.0007975558591762239 and parameters: {'changepoint_prior_scale': 0.04503497770415256, 'seasonality_prior_scale': 0.5678150146097543, 'seasonality_mode': 'additive'}. Best is trial 22 with value: 0.0002013274807913724.\n",
      "15:07:47 - cmdstanpy - INFO - Chain [1] start processing\n",
      "15:07:48 - cmdstanpy - INFO - Chain [1] done processing\n",
      "[I 2024-04-14 15:07:48,553] Trial 31 finished with value: 0.00273255155955913 and parameters: {'changepoint_prior_scale': 0.031480919405088494, 'seasonality_prior_scale': 2.3051201848504843, 'seasonality_mode': 'additive'}. Best is trial 22 with value: 0.0002013274807913724.\n",
      "15:07:48 - cmdstanpy - INFO - Chain [1] start processing\n",
      "15:07:49 - cmdstanpy - INFO - Chain [1] done processing\n",
      "[I 2024-04-14 15:07:49,952] Trial 32 finished with value: 0.00023098447640915694 and parameters: {'changepoint_prior_scale': 0.07699954011714973, 'seasonality_prior_scale': 2.317096876837507, 'seasonality_mode': 'additive'}. Best is trial 22 with value: 0.0002013274807913724.\n",
      "15:07:50 - cmdstanpy - INFO - Chain [1] start processing\n",
      "15:07:51 - cmdstanpy - INFO - Chain [1] done processing\n",
      "[I 2024-04-14 15:07:51,359] Trial 33 finished with value: 0.00044791942181885124 and parameters: {'changepoint_prior_scale': 0.07742616809091574, 'seasonality_prior_scale': 4.614492664910738, 'seasonality_mode': 'additive'}. Best is trial 22 with value: 0.0002013274807913724.\n",
      "15:07:51 - cmdstanpy - INFO - Chain [1] start processing\n",
      "15:07:52 - cmdstanpy - INFO - Chain [1] done processing\n",
      "[I 2024-04-14 15:07:52,759] Trial 34 finished with value: 0.0023025087112499296 and parameters: {'changepoint_prior_scale': 0.14887030001761903, 'seasonality_prior_scale': 3.3143370653253066, 'seasonality_mode': 'additive'}. Best is trial 22 with value: 0.0002013274807913724.\n",
      "15:07:52 - cmdstanpy - INFO - Chain [1] start processing\n",
      "15:07:54 - cmdstanpy - INFO - Chain [1] done processing\n",
      "[I 2024-04-14 15:07:54,156] Trial 35 finished with value: 0.00036092866929727895 and parameters: {'changepoint_prior_scale': 0.11230262366207337, 'seasonality_prior_scale': 4.147931992224626, 'seasonality_mode': 'additive'}. Best is trial 22 with value: 0.0002013274807913724.\n",
      "15:07:54 - cmdstanpy - INFO - Chain [1] start processing\n",
      "15:07:55 - cmdstanpy - INFO - Chain [1] done processing\n",
      "[I 2024-04-14 15:07:55,268] Trial 36 finished with value: 0.03648002986195995 and parameters: {'changepoint_prior_scale': 0.19357393914071447, 'seasonality_prior_scale': 4.2818317852390635, 'seasonality_mode': 'multiplicative'}. Best is trial 22 with value: 0.0002013274807913724.\n",
      "15:07:55 - cmdstanpy - INFO - Chain [1] start processing\n",
      "15:07:56 - cmdstanpy - INFO - Chain [1] done processing\n",
      "[I 2024-04-14 15:07:56,656] Trial 37 finished with value: 0.0010718044007136237 and parameters: {'changepoint_prior_scale': 0.11467518155662551, 'seasonality_prior_scale': 4.823360796657883, 'seasonality_mode': 'additive'}. Best is trial 22 with value: 0.0002013274807913724.\n",
      "15:07:56 - cmdstanpy - INFO - Chain [1] start processing\n",
      "15:07:57 - cmdstanpy - INFO - Chain [1] done processing\n",
      "[I 2024-04-14 15:07:57,679] Trial 38 finished with value: 0.036516587596645805 and parameters: {'changepoint_prior_scale': 0.3197915546605872, 'seasonality_prior_scale': 5.713677136955985, 'seasonality_mode': 'multiplicative'}. Best is trial 22 with value: 0.0002013274807913724.\n",
      "15:07:57 - cmdstanpy - INFO - Chain [1] start processing\n",
      "15:07:58 - cmdstanpy - INFO - Chain [1] done processing\n",
      "[I 2024-04-14 15:07:59,079] Trial 39 finished with value: 0.001015956470645762 and parameters: {'changepoint_prior_scale': 0.15249197595002947, 'seasonality_prior_scale': 8.25438268431284, 'seasonality_mode': 'additive'}. Best is trial 22 with value: 0.0002013274807913724.\n",
      "15:07:59 - cmdstanpy - INFO - Chain [1] start processing\n",
      "15:08:00 - cmdstanpy - INFO - Chain [1] done processing\n",
      "[I 2024-04-14 15:08:00,246] Trial 40 finished with value: 0.036039760948536566 and parameters: {'changepoint_prior_scale': 0.06603357433007066, 'seasonality_prior_scale': 6.520651186392105, 'seasonality_mode': 'multiplicative'}. Best is trial 22 with value: 0.0002013274807913724.\n",
      "15:08:00 - cmdstanpy - INFO - Chain [1] start processing\n",
      "15:08:01 - cmdstanpy - INFO - Chain [1] done processing\n",
      "[I 2024-04-14 15:08:01,661] Trial 41 finished with value: 0.000405440494345316 and parameters: {'changepoint_prior_scale': 0.10302923069752015, 'seasonality_prior_scale': 2.4128081033742106, 'seasonality_mode': 'additive'}. Best is trial 22 with value: 0.0002013274807913724.\n",
      "15:08:01 - cmdstanpy - INFO - Chain [1] start processing\n",
      "15:08:02 - cmdstanpy - INFO - Chain [1] done processing\n",
      "[I 2024-04-14 15:08:03,060] Trial 42 finished with value: 0.002896432911606224 and parameters: {'changepoint_prior_scale': 0.027391877650693675, 'seasonality_prior_scale': 0.890148766516204, 'seasonality_mode': 'additive'}. Best is trial 22 with value: 0.0002013274807913724.\n",
      "15:08:03 - cmdstanpy - INFO - Chain [1] start processing\n",
      "15:08:04 - cmdstanpy - INFO - Chain [1] done processing\n",
      "[I 2024-04-14 15:08:04,467] Trial 43 finished with value: 0.0008170944321565406 and parameters: {'changepoint_prior_scale': 0.1292576090636023, 'seasonality_prior_scale': 2.726094089571196, 'seasonality_mode': 'additive'}. Best is trial 22 with value: 0.0002013274807913724.\n",
      "15:08:04 - cmdstanpy - INFO - Chain [1] start processing\n",
      "15:08:05 - cmdstanpy - INFO - Chain [1] done processing\n",
      "[I 2024-04-14 15:08:05,867] Trial 44 finished with value: 0.0002563051163647592 and parameters: {'changepoint_prior_scale': 0.09511408760477125, 'seasonality_prior_scale': 3.5835588046849045, 'seasonality_mode': 'additive'}. Best is trial 22 with value: 0.0002013274807913724.\n",
      "15:08:05 - cmdstanpy - INFO - Chain [1] start processing\n",
      "15:08:07 - cmdstanpy - INFO - Chain [1] done processing\n",
      "[I 2024-04-14 15:08:07,267] Trial 45 finished with value: 0.0017107773236979312 and parameters: {'changepoint_prior_scale': 0.1821485249860371, 'seasonality_prior_scale': 3.4611113626671526, 'seasonality_mode': 'additive'}. Best is trial 22 with value: 0.0002013274807913724.\n",
      "15:08:07 - cmdstanpy - INFO - Chain [1] start processing\n",
      "15:08:08 - cmdstanpy - INFO - Chain [1] done processing\n",
      "[I 2024-04-14 15:08:08,217] Trial 46 finished with value: 0.03660957606944703 and parameters: {'changepoint_prior_scale': 0.048832579140617886, 'seasonality_prior_scale': 5.110298822330499, 'seasonality_mode': 'multiplicative'}. Best is trial 22 with value: 0.0002013274807913724.\n",
      "15:08:08 - cmdstanpy - INFO - Chain [1] start processing\n",
      "15:08:09 - cmdstanpy - INFO - Chain [1] done processing\n",
      "[I 2024-04-14 15:08:09,624] Trial 47 finished with value: 0.0029814447818208873 and parameters: {'changepoint_prior_scale': 0.28362788632496044, 'seasonality_prior_scale': 3.905621860771774, 'seasonality_mode': 'additive'}. Best is trial 22 with value: 0.0002013274807913724.\n",
      "15:08:09 - cmdstanpy - INFO - Chain [1] start processing\n",
      "15:08:10 - cmdstanpy - INFO - Chain [1] done processing\n",
      "[I 2024-04-14 15:08:11,077] Trial 48 finished with value: 0.0009890768047781833 and parameters: {'changepoint_prior_scale': 0.202145849016115, 'seasonality_prior_scale': 4.193630422291677, 'seasonality_mode': 'additive'}. Best is trial 22 with value: 0.0002013274807913724.\n",
      "15:08:11 - cmdstanpy - INFO - Chain [1] start processing\n",
      "15:08:12 - cmdstanpy - INFO - Chain [1] done processing\n",
      "[I 2024-04-14 15:08:12,473] Trial 49 finished with value: 0.0024755742790015705 and parameters: {'changepoint_prior_scale': 0.020616193805163552, 'seasonality_prior_scale': 3.23537413454854, 'seasonality_mode': 'additive'}. Best is trial 22 with value: 0.0002013274807913724.\n",
      "15:08:12 - cmdstanpy - INFO - Chain [1] start processing\n",
      "15:08:13 - cmdstanpy - INFO - Chain [1] done processing\n",
      "[I 2024-04-14 15:08:13,876] Trial 50 finished with value: 0.002856389604336636 and parameters: {'changepoint_prior_scale': 0.16876598760271108, 'seasonality_prior_scale': 2.657551922554376, 'seasonality_mode': 'additive'}. Best is trial 22 with value: 0.0002013274807913724.\n",
      "15:08:13 - cmdstanpy - INFO - Chain [1] start processing\n",
      "15:08:15 - cmdstanpy - INFO - Chain [1] done processing\n",
      "[I 2024-04-14 15:08:15,280] Trial 51 finished with value: 0.0012814587441116374 and parameters: {'changepoint_prior_scale': 0.0885562006417244, 'seasonality_prior_scale': 2.0843793007991187, 'seasonality_mode': 'additive'}. Best is trial 22 with value: 0.0002013274807913724.\n",
      "15:08:15 - cmdstanpy - INFO - Chain [1] start processing\n",
      "15:08:16 - cmdstanpy - INFO - Chain [1] done processing\n",
      "[I 2024-04-14 15:08:16,673] Trial 52 finished with value: 0.0003265472080543142 and parameters: {'changepoint_prior_scale': 0.0988694469275386, 'seasonality_prior_scale': 1.2122144673459974, 'seasonality_mode': 'additive'}. Best is trial 22 with value: 0.0002013274807913724.\n",
      "15:08:16 - cmdstanpy - INFO - Chain [1] start processing\n",
      "15:08:17 - cmdstanpy - INFO - Chain [1] done processing\n",
      "[I 2024-04-14 15:08:18,097] Trial 53 finished with value: 0.000499816690088847 and parameters: {'changepoint_prior_scale': 0.13664046772343355, 'seasonality_prior_scale': 3.714671954815483, 'seasonality_mode': 'additive'}. Best is trial 22 with value: 0.0002013274807913724.\n",
      "15:08:18 - cmdstanpy - INFO - Chain [1] start processing\n",
      "15:08:19 - cmdstanpy - INFO - Chain [1] done processing\n",
      "[I 2024-04-14 15:08:19,499] Trial 54 finished with value: 0.0007828919801136707 and parameters: {'changepoint_prior_scale': 0.07010666483102561, 'seasonality_prior_scale': 0.9061497831011089, 'seasonality_mode': 'additive'}. Best is trial 22 with value: 0.0002013274807913724.\n",
      "15:08:19 - cmdstanpy - INFO - Chain [1] start processing\n",
      "15:08:20 - cmdstanpy - INFO - Chain [1] done processing\n",
      "[I 2024-04-14 15:08:20,900] Trial 55 finished with value: 0.0008630697665183519 and parameters: {'changepoint_prior_scale': 0.10441741210858888, 'seasonality_prior_scale': 1.8734162897549218, 'seasonality_mode': 'additive'}. Best is trial 22 with value: 0.0002013274807913724.\n",
      "15:08:20 - cmdstanpy - INFO - Chain [1] start processing\n",
      "15:08:22 - cmdstanpy - INFO - Chain [1] done processing\n",
      "[I 2024-04-14 15:08:22,321] Trial 56 finished with value: 0.00024291386938152566 and parameters: {'changepoint_prior_scale': 0.11567964781985765, 'seasonality_prior_scale': 4.540820300588804, 'seasonality_mode': 'additive'}. Best is trial 22 with value: 0.0002013274807913724.\n",
      "15:08:22 - cmdstanpy - INFO - Chain [1] start processing\n",
      "15:08:23 - cmdstanpy - INFO - Chain [1] done processing\n",
      "[I 2024-04-14 15:08:23,719] Trial 57 finished with value: 0.03629095697733422 and parameters: {'changepoint_prior_scale': 0.011413924665763173, 'seasonality_prior_scale': 4.7426316550304035, 'seasonality_mode': 'multiplicative'}. Best is trial 22 with value: 0.0002013274807913724.\n",
      "15:08:23 - cmdstanpy - INFO - Chain [1] start processing\n",
      "15:08:25 - cmdstanpy - INFO - Chain [1] done processing\n",
      "[I 2024-04-14 15:08:25,158] Trial 58 finished with value: 0.00022333111101287322 and parameters: {'changepoint_prior_scale': 0.09281386511267065, 'seasonality_prior_scale': 1.2693768367482667, 'seasonality_mode': 'additive'}. Best is trial 22 with value: 0.0002013274807913724.\n",
      "15:08:25 - cmdstanpy - INFO - Chain [1] start processing\n",
      "15:08:26 - cmdstanpy - INFO - Chain [1] done processing\n",
      "[I 2024-04-14 15:08:26,595] Trial 59 finished with value: 0.002826523237966499 and parameters: {'changepoint_prior_scale': 0.49819065897025006, 'seasonality_prior_scale': 1.0910344376339745, 'seasonality_mode': 'additive'}. Best is trial 22 with value: 0.0002013274807913724.\n",
      "15:08:26 - cmdstanpy - INFO - Chain [1] start processing\n",
      "15:08:27 - cmdstanpy - INFO - Chain [1] done processing\n",
      "[I 2024-04-14 15:08:28,025] Trial 60 finished with value: 0.0042480098234197895 and parameters: {'changepoint_prior_scale': 0.44399960148300144, 'seasonality_prior_scale': 0.3129040962268236, 'seasonality_mode': 'additive'}. Best is trial 22 with value: 0.0002013274807913724.\n",
      "15:08:28 - cmdstanpy - INFO - Chain [1] start processing\n",
      "15:08:29 - cmdstanpy - INFO - Chain [1] done processing\n",
      "[I 2024-04-14 15:08:29,624] Trial 61 finished with value: 0.002687837004726879 and parameters: {'changepoint_prior_scale': 0.09523532049627674, 'seasonality_prior_scale': 1.323468106392729, 'seasonality_mode': 'additive'}. Best is trial 22 with value: 0.0002013274807913724.\n",
      "15:08:29 - cmdstanpy - INFO - Chain [1] start processing\n",
      "15:08:30 - cmdstanpy - INFO - Chain [1] done processing\n",
      "[I 2024-04-14 15:08:31,038] Trial 62 finished with value: 0.0032670308644686674 and parameters: {'changepoint_prior_scale': 0.0738310603133071, 'seasonality_prior_scale': 1.9565742708558858, 'seasonality_mode': 'additive'}. Best is trial 22 with value: 0.0002013274807913724.\n",
      "15:08:31 - cmdstanpy - INFO - Chain [1] start processing\n",
      "15:08:32 - cmdstanpy - INFO - Chain [1] done processing\n",
      "[I 2024-04-14 15:08:32,460] Trial 63 finished with value: 0.00028765360055696225 and parameters: {'changepoint_prior_scale': 0.05319842756931028, 'seasonality_prior_scale': 3.0224808043271523, 'seasonality_mode': 'additive'}. Best is trial 22 with value: 0.0002013274807913724.\n",
      "15:08:32 - cmdstanpy - INFO - Chain [1] start processing\n",
      "15:08:33 - cmdstanpy - INFO - Chain [1] done processing\n",
      "[I 2024-04-14 15:08:33,899] Trial 64 finished with value: 0.0002765829606516268 and parameters: {'changepoint_prior_scale': 0.04986704925851289, 'seasonality_prior_scale': 2.886368909273819, 'seasonality_mode': 'additive'}. Best is trial 22 with value: 0.0002013274807913724.\n",
      "15:08:34 - cmdstanpy - INFO - Chain [1] start processing\n",
      "15:08:35 - cmdstanpy - INFO - Chain [1] done processing\n",
      "[I 2024-04-14 15:08:35,380] Trial 65 finished with value: 0.001633715803924968 and parameters: {'changepoint_prior_scale': 0.04568755893814738, 'seasonality_prior_scale': 2.8620777835247617, 'seasonality_mode': 'additive'}. Best is trial 22 with value: 0.0002013274807913724.\n",
      "15:08:35 - cmdstanpy - INFO - Chain [1] start processing\n",
      "15:08:36 - cmdstanpy - INFO - Chain [1] done processing\n",
      "[I 2024-04-14 15:08:36,791] Trial 66 finished with value: 0.0011120490150449988 and parameters: {'changepoint_prior_scale': 0.05728784517270205, 'seasonality_prior_scale': 3.144465394149405, 'seasonality_mode': 'additive'}. Best is trial 22 with value: 0.0002013274807913724.\n",
      "15:08:36 - cmdstanpy - INFO - Chain [1] start processing\n",
      "15:08:38 - cmdstanpy - INFO - Chain [1] done processing\n",
      "[I 2024-04-14 15:08:38,207] Trial 67 finished with value: 0.0009543897335151087 and parameters: {'changepoint_prior_scale': 0.006647990536469597, 'seasonality_prior_scale': 3.4347808375487374, 'seasonality_mode': 'additive'}. Best is trial 22 with value: 0.0002013274807913724.\n",
      "15:08:38 - cmdstanpy - INFO - Chain [1] start processing\n",
      "15:08:39 - cmdstanpy - INFO - Chain [1] done processing\n",
      "[I 2024-04-14 15:08:39,618] Trial 68 finished with value: 0.0014520987163482966 and parameters: {'changepoint_prior_scale': 0.04006624567987866, 'seasonality_prior_scale': 2.582793420474442, 'seasonality_mode': 'additive'}. Best is trial 22 with value: 0.0002013274807913724.\n",
      "15:08:39 - cmdstanpy - INFO - Chain [1] start processing\n",
      "15:08:40 - cmdstanpy - INFO - Chain [1] done processing\n",
      "[I 2024-04-14 15:08:41,044] Trial 69 finished with value: 0.00034630424690341744 and parameters: {'changepoint_prior_scale': 0.14330444525437436, 'seasonality_prior_scale': 2.9694148992957605, 'seasonality_mode': 'additive'}. Best is trial 22 with value: 0.0002013274807913724.\n",
      "15:08:41 - cmdstanpy - INFO - Chain [1] start processing\n",
      "15:08:42 - cmdstanpy - INFO - Chain [1] done processing\n",
      "[I 2024-04-14 15:08:42,457] Trial 70 finished with value: 0.0011078894106786006 and parameters: {'changepoint_prior_scale': 0.12104977264989365, 'seasonality_prior_scale': 2.216613698101609, 'seasonality_mode': 'additive'}. Best is trial 22 with value: 0.0002013274807913724.\n",
      "15:08:42 - cmdstanpy - INFO - Chain [1] start processing\n",
      "15:08:43 - cmdstanpy - INFO - Chain [1] done processing\n",
      "[I 2024-04-14 15:08:43,878] Trial 71 finished with value: 0.0026265321875737807 and parameters: {'changepoint_prior_scale': 0.0829838141966368, 'seasonality_prior_scale': 4.422619743677654, 'seasonality_mode': 'additive'}. Best is trial 22 with value: 0.0002013274807913724.\n",
      "15:08:43 - cmdstanpy - INFO - Chain [1] start processing\n",
      "15:08:45 - cmdstanpy - INFO - Chain [1] done processing\n",
      "[I 2024-04-14 15:08:45,319] Trial 72 finished with value: 0.000499220162621148 and parameters: {'changepoint_prior_scale': 0.05876432992765087, 'seasonality_prior_scale': 1.7300649217043806, 'seasonality_mode': 'additive'}. Best is trial 22 with value: 0.0002013274807913724.\n",
      "15:08:45 - cmdstanpy - INFO - Chain [1] start processing\n",
      "15:08:46 - cmdstanpy - INFO - Chain [1] done processing\n",
      "[I 2024-04-14 15:08:46,748] Trial 73 finished with value: 0.0008445134452795935 and parameters: {'changepoint_prior_scale': 0.07646725832510375, 'seasonality_prior_scale': 1.4200239278824685, 'seasonality_mode': 'additive'}. Best is trial 22 with value: 0.0002013274807913724.\n",
      "15:08:46 - cmdstanpy - INFO - Chain [1] start processing\n",
      "15:08:48 - cmdstanpy - INFO - Chain [1] done processing\n",
      "[I 2024-04-14 15:08:48,157] Trial 74 finished with value: 0.0006630963184406827 and parameters: {'changepoint_prior_scale': 0.10499878462269734, 'seasonality_prior_scale': 3.585977286051794, 'seasonality_mode': 'additive'}. Best is trial 22 with value: 0.0002013274807913724.\n",
      "15:08:48 - cmdstanpy - INFO - Chain [1] start processing\n",
      "15:08:49 - cmdstanpy - INFO - Chain [1] done processing\n",
      "[I 2024-04-14 15:08:49,614] Trial 75 finished with value: 0.0006520922106409855 and parameters: {'changepoint_prior_scale': 0.03268340526950379, 'seasonality_prior_scale': 3.963212665685244, 'seasonality_mode': 'additive'}. Best is trial 22 with value: 0.0002013274807913724.\n",
      "15:08:49 - cmdstanpy - INFO - Chain [1] start processing\n",
      "15:08:50 - cmdstanpy - INFO - Chain [1] done processing\n",
      "[I 2024-04-14 15:08:50,624] Trial 76 finished with value: 0.03649018847185386 and parameters: {'changepoint_prior_scale': 0.12592407053084592, 'seasonality_prior_scale': 5.389787421067554, 'seasonality_mode': 'multiplicative'}. Best is trial 22 with value: 0.0002013274807913724.\n",
      "15:08:50 - cmdstanpy - INFO - Chain [1] start processing\n",
      "15:08:51 - cmdstanpy - INFO - Chain [1] done processing\n",
      "[I 2024-04-14 15:08:52,082] Trial 77 finished with value: 0.0004902102347128828 and parameters: {'changepoint_prior_scale': 0.09431947760492801, 'seasonality_prior_scale': 2.5146733499287066, 'seasonality_mode': 'additive'}. Best is trial 22 with value: 0.0002013274807913724.\n",
      "15:08:52 - cmdstanpy - INFO - Chain [1] start processing\n",
      "15:08:53 - cmdstanpy - INFO - Chain [1] done processing\n",
      "[I 2024-04-14 15:08:53,501] Trial 78 finished with value: 0.0011300817548797577 and parameters: {'changepoint_prior_scale': 0.1582504839704123, 'seasonality_prior_scale': 0.3595626996624971, 'seasonality_mode': 'additive'}. Best is trial 22 with value: 0.0002013274807913724.\n",
      "15:08:53 - cmdstanpy - INFO - Chain [1] start processing\n",
      "15:08:54 - cmdstanpy - INFO - Chain [1] done processing\n",
      "[I 2024-04-14 15:08:54,972] Trial 79 finished with value: 0.0005573494047465884 and parameters: {'changepoint_prior_scale': 0.06604667229068616, 'seasonality_prior_scale': 3.0015248217869916, 'seasonality_mode': 'additive'}. Best is trial 22 with value: 0.0002013274807913724.\n",
      "15:08:55 - cmdstanpy - INFO - Chain [1] start processing\n",
      "15:08:56 - cmdstanpy - INFO - Chain [1] done processing\n",
      "[I 2024-04-14 15:08:56,409] Trial 80 finished with value: 0.00033902974024972607 and parameters: {'changepoint_prior_scale': 0.05255276728502176, 'seasonality_prior_scale': 1.0167888118988395, 'seasonality_mode': 'additive'}. Best is trial 22 with value: 0.0002013274807913724.\n",
      "15:08:56 - cmdstanpy - INFO - Chain [1] start processing\n",
      "15:08:57 - cmdstanpy - INFO - Chain [1] done processing\n",
      "[I 2024-04-14 15:08:57,880] Trial 81 finished with value: 0.0005982310695541652 and parameters: {'changepoint_prior_scale': 0.05292928483695673, 'seasonality_prior_scale': 1.1003629584327939, 'seasonality_mode': 'additive'}. Best is trial 22 with value: 0.0002013274807913724.\n",
      "15:08:57 - cmdstanpy - INFO - Chain [1] start processing\n",
      "15:08:59 - cmdstanpy - INFO - Chain [1] done processing\n",
      "[I 2024-04-14 15:08:59,326] Trial 82 finished with value: 0.00018254956895838432 and parameters: {'changepoint_prior_scale': 0.02638225915186143, 'seasonality_prior_scale': 1.5503618405886268, 'seasonality_mode': 'additive'}. Best is trial 82 with value: 0.00018254956895838432.\n",
      "15:08:59 - cmdstanpy - INFO - Chain [1] start processing\n",
      "15:09:00 - cmdstanpy - INFO - Chain [1] done processing\n",
      "[I 2024-04-14 15:09:00,870] Trial 83 finished with value: 0.0067681062049830725 and parameters: {'changepoint_prior_scale': 0.019564936250012342, 'seasonality_prior_scale': 0.7411425833162694, 'seasonality_mode': 'additive'}. Best is trial 82 with value: 0.00018254956895838432.\n",
      "15:09:00 - cmdstanpy - INFO - Chain [1] start processing\n",
      "15:09:02 - cmdstanpy - INFO - Chain [1] done processing\n",
      "[I 2024-04-14 15:09:02,352] Trial 84 finished with value: 0.00027162526933995805 and parameters: {'changepoint_prior_scale': 0.0010470119812701073, 'seasonality_prior_scale': 1.6760292133752426, 'seasonality_mode': 'additive'}. Best is trial 82 with value: 0.00018254956895838432.\n",
      "15:09:02 - cmdstanpy - INFO - Chain [1] start processing\n",
      "15:09:03 - cmdstanpy - INFO - Chain [1] done processing\n",
      "[I 2024-04-14 15:09:03,779] Trial 85 finished with value: 0.00011763226738783631 and parameters: {'changepoint_prior_scale': 0.0044746870420194, 'seasonality_prior_scale': 2.1542678993685804, 'seasonality_mode': 'additive'}. Best is trial 85 with value: 0.00011763226738783631.\n",
      "15:09:03 - cmdstanpy - INFO - Chain [1] start processing\n",
      "15:09:05 - cmdstanpy - INFO - Chain [1] done processing\n",
      "[I 2024-04-14 15:09:05,212] Trial 86 finished with value: 0.000694166256710894 and parameters: {'changepoint_prior_scale': 0.0018671388004029975, 'seasonality_prior_scale': 1.5793285787469027, 'seasonality_mode': 'additive'}. Best is trial 85 with value: 0.00011763226738783631.\n",
      "15:09:05 - cmdstanpy - INFO - Chain [1] start processing\n",
      "15:09:06 - cmdstanpy - INFO - Chain [1] done processing\n",
      "[I 2024-04-14 15:09:06,597] Trial 87 finished with value: 0.0007842335186094058 and parameters: {'changepoint_prior_scale': 0.026633313729830712, 'seasonality_prior_scale': 2.1560189576590547, 'seasonality_mode': 'additive'}. Best is trial 85 with value: 0.00011763226738783631.\n",
      "15:09:06 - cmdstanpy - INFO - Chain [1] start processing\n",
      "15:09:07 - cmdstanpy - INFO - Chain [1] done processing\n",
      "[I 2024-04-14 15:09:07,516] Trial 88 finished with value: 0.037185908815847206 and parameters: {'changepoint_prior_scale': 0.014454811441614007, 'seasonality_prior_scale': 1.9859566549832999, 'seasonality_mode': 'multiplicative'}. Best is trial 85 with value: 0.00011763226738783631.\n",
      "15:09:07 - cmdstanpy - INFO - Chain [1] start processing\n",
      "15:09:08 - cmdstanpy - INFO - Chain [1] done processing\n",
      "[I 2024-04-14 15:09:08,991] Trial 89 finished with value: 0.002411838730858301 and parameters: {'changepoint_prior_scale': 0.035472444074302834, 'seasonality_prior_scale': 2.3421882372027527, 'seasonality_mode': 'additive'}. Best is trial 85 with value: 0.00011763226738783631.\n",
      "15:09:09 - cmdstanpy - INFO - Chain [1] start processing\n",
      "15:09:10 - cmdstanpy - INFO - Chain [1] done processing\n",
      "[I 2024-04-14 15:09:10,480] Trial 90 finished with value: 0.0029482501769008893 and parameters: {'changepoint_prior_scale': 0.017641405987159194, 'seasonality_prior_scale': 9.905196625188129, 'seasonality_mode': 'additive'}. Best is trial 85 with value: 0.00011763226738783631.\n",
      "15:09:10 - cmdstanpy - INFO - Chain [1] start processing\n",
      "15:09:11 - cmdstanpy - INFO - Chain [1] done processing\n",
      "[I 2024-04-14 15:09:11,929] Trial 91 finished with value: 0.0033840752466090746 and parameters: {'changepoint_prior_scale': 0.001453985798057725, 'seasonality_prior_scale': 2.7876707582453073, 'seasonality_mode': 'additive'}. Best is trial 85 with value: 0.00011763226738783631.\n",
      "15:09:12 - cmdstanpy - INFO - Chain [1] start processing\n",
      "15:09:13 - cmdstanpy - INFO - Chain [1] done processing\n",
      "[I 2024-04-14 15:09:13,323] Trial 92 finished with value: 0.0013038401767747115 and parameters: {'changepoint_prior_scale': 0.03989927429893666, 'seasonality_prior_scale': 1.758124485654038, 'seasonality_mode': 'additive'}. Best is trial 85 with value: 0.00011763226738783631.\n",
      "15:09:13 - cmdstanpy - INFO - Chain [1] start processing\n",
      "15:09:14 - cmdstanpy - INFO - Chain [1] done processing\n",
      "[I 2024-04-14 15:09:14,725] Trial 93 finished with value: 0.00011275406485636632 and parameters: {'changepoint_prior_scale': 0.023515611024107232, 'seasonality_prior_scale': 3.166320718299142, 'seasonality_mode': 'additive'}. Best is trial 93 with value: 0.00011275406485636632.\n",
      "15:09:14 - cmdstanpy - INFO - Chain [1] start processing\n",
      "15:09:16 - cmdstanpy - INFO - Chain [1] done processing\n",
      "[I 2024-04-14 15:09:16,161] Trial 94 finished with value: 0.0003655984090542078 and parameters: {'changepoint_prior_scale': 0.02540269007305851, 'seasonality_prior_scale': 3.3167118604492547, 'seasonality_mode': 'additive'}. Best is trial 93 with value: 0.00011275406485636632.\n",
      "15:09:16 - cmdstanpy - INFO - Chain [1] start processing\n",
      "15:09:17 - cmdstanpy - INFO - Chain [1] done processing\n",
      "[I 2024-04-14 15:09:17,559] Trial 95 finished with value: 0.0005274854069108385 and parameters: {'changepoint_prior_scale': 0.06764398926764087, 'seasonality_prior_scale': 4.539238313114118, 'seasonality_mode': 'additive'}. Best is trial 93 with value: 0.00011275406485636632.\n",
      "15:09:17 - cmdstanpy - INFO - Chain [1] start processing\n",
      "15:09:18 - cmdstanpy - INFO - Chain [1] done processing\n",
      "[I 2024-04-14 15:09:18,963] Trial 96 finished with value: 0.0008813955123650856 and parameters: {'changepoint_prior_scale': 0.11562152275263089, 'seasonality_prior_scale': 1.4888176918211673, 'seasonality_mode': 'additive'}. Best is trial 93 with value: 0.00011275406485636632.\n",
      "15:09:19 - cmdstanpy - INFO - Chain [1] start processing\n",
      "15:09:20 - cmdstanpy - INFO - Chain [1] done processing\n",
      "[I 2024-04-14 15:09:20,387] Trial 97 finished with value: 0.007652851395849206 and parameters: {'changepoint_prior_scale': 0.3769770763919954, 'seasonality_prior_scale': 3.7946014996451103, 'seasonality_mode': 'additive'}. Best is trial 93 with value: 0.00011275406485636632.\n",
      "15:09:20 - cmdstanpy - INFO - Chain [1] start processing\n",
      "15:09:21 - cmdstanpy - INFO - Chain [1] done processing\n",
      "[I 2024-04-14 15:09:21,842] Trial 98 finished with value: 0.0027749061709877823 and parameters: {'changepoint_prior_scale': 0.3311497751153324, 'seasonality_prior_scale': 4.043496102238244, 'seasonality_mode': 'additive'}. Best is trial 93 with value: 0.00011275406485636632.\n",
      "15:09:21 - cmdstanpy - INFO - Chain [1] start processing\n",
      "15:09:23 - cmdstanpy - INFO - Chain [1] done processing\n",
      "[I 2024-04-14 15:09:23,272] Trial 99 finished with value: 0.00043203703945326956 and parameters: {'changepoint_prior_scale': 0.08219078270934589, 'seasonality_prior_scale': 3.5281448225762886, 'seasonality_mode': 'additive'}. Best is trial 93 with value: 0.00011275406485636632.\n"
     ]
    },
    {
     "name": "stdout",
     "output_type": "stream",
     "text": [
      "Number of finished trials: 100\n",
      "Best trial:\n",
      "  Value: 0.00011275406485636632\n",
      "  Params: \n",
      "    changepoint_prior_scale: 0.023515611024107232\n",
      "    seasonality_prior_scale: 3.166320718299142\n",
      "    seasonality_mode: additive\n"
     ]
    }
   ],
   "source": [
    "study = optuna.create_study(direction=\"minimize\")\n",
    "study.optimize(objective_prophet, n_trials=100, timeout=600)\n",
    "\n",
    "print(\"Number of finished trials: {}\".format(len(study.trials)))\n",
    "\n",
    "print(\"Best trial:\")\n",
    "trial = study.best_trial\n",
    "\n",
    "print(\"  Value: {}\".format(trial.value))\n",
    "\n",
    "print(\"  Params: \")\n",
    "for key, value in trial.params.items():\n",
    "    print(\"    {}: {}\".format(key, value))"
   ]
  },
  {
   "cell_type": "code",
   "execution_count": 57,
   "metadata": {},
   "outputs": [
    {
     "name": "stderr",
     "output_type": "stream",
     "text": [
      "15:09:23 - cmdstanpy - INFO - Chain [1] start processing\n",
      "15:09:25 - cmdstanpy - INFO - Chain [1] done processing\n"
     ]
    },
    {
     "name": "stdout",
     "output_type": "stream",
     "text": [
      "Train val MAE: 0.00010318128162985821\n",
      "OOT MAE: 0.0006951000303589077\n",
      "Overfit check: 6.73668730780489\n"
     ]
    }
   ],
   "source": [
    "params= study.best_params\n",
    "\n",
    "model = Prophet(**params)\n",
    "for col in X_train.columns:\n",
    "    model.add_regressor(col, standardize=False)\n",
    "    model.add_seasonality(\n",
    "    name='half_year', period=31*6, fourier_order=3) \n",
    "\n",
    "model.fit(pd.concat([df_train_for_prophet, df_val_for_prophet]))\n",
    "y_train_val_pred = model.predict(pd.concat([df_train_for_prophet, df_val_for_prophet]))['yhat']\n",
    "y_oot_pred = model.predict(df_oot_for_prophet)['yhat']\n",
    "\n",
    "\n",
    "print(f'Train val MAE: {mean_absolute_error(pd.concat([y_train, y_val]), y_train_val_pred)}')\n",
    "print(f'OOT MAE: {mean_absolute_error(y_oot, y_oot_pred)}')\n",
    "print(f'Overfit check: {mean_absolute_error(y_oot, y_oot_pred) / mean_absolute_error(pd.concat([y_train, y_val]), y_train_val_pred)}')"
   ]
  },
  {
   "cell_type": "code",
   "execution_count": 117,
   "metadata": {},
   "outputs": [],
   "source": [
    "old_processed_data = pd.concat([X_train, X_val, X_oot])\n",
    "old_processed_data['target'] = pd.concat([y_train, y_val, y_oot])\n",
    "old_processed_data['date'] = pd.to_datetime(data['Date'])\n",
    "old_processed_data.to_parquet('Old_data_with_selected_features.parquet')"
   ]
  },
  {
   "cell_type": "code",
   "execution_count": 118,
   "metadata": {},
   "outputs": [
    {
     "data": {
      "text/plain": [
       "Timestamp('2021-03-31 00:00:00')"
      ]
     },
     "execution_count": 118,
     "metadata": {},
     "output_type": "execute_result"
    }
   ],
   "source": [
    "old_processed_data['date'].max()"
   ]
  },
  {
   "cell_type": "code",
   "execution_count": 119,
   "metadata": {},
   "outputs": [],
   "source": [
    "from datetime import timedelta\n",
    "new_date = old_processed_data['date'].max() - timedelta(days=30*3)\n"
   ]
  },
  {
   "cell_type": "code",
   "execution_count": 120,
   "metadata": {},
   "outputs": [
    {
     "data": {
      "text/plain": [
       "Timestamp('2020-12-31 00:00:00')"
      ]
     },
     "execution_count": 120,
     "metadata": {},
     "output_type": "execute_result"
    }
   ],
   "source": [
    "new_date"
   ]
  },
  {
   "cell_type": "markdown",
   "metadata": {},
   "source": [
    "## Model refit"
   ]
  },
  {
   "cell_type": "code",
   "execution_count": 59,
   "metadata": {},
   "outputs": [],
   "source": [
    "with open('fitted_model.pkl', 'rb') as f:\n",
    "    lr = pickle.load(f)\n",
    "\n",
    "# y_train_val_pred = lr.predict(pd.concat([X_train, X_val]))\n",
    "# y_oot_pred = lr.predict(X_oot)"
   ]
  },
  {
   "cell_type": "code",
   "execution_count": 60,
   "metadata": {},
   "outputs": [
    {
     "name": "stderr",
     "output_type": "stream",
     "text": [
      "/var/folders/y6/zdpx63b958z2m6m1927p8tcw0000gn/T/ipykernel_28801/3955951900.py:1: SettingWithCopyWarning: \n",
      "A value is trying to be set on a copy of a slice from a DataFrame.\n",
      "Try using .loc[row_indexer,col_indexer] = value instead\n",
      "\n",
      "See the caveats in the documentation: https://pandas.pydata.org/pandas-docs/stable/user_guide/indexing.html#returning-a-view-versus-a-copy\n",
      "  intime_df['model_pred'] = lr.predict(intime_df[selected_features])\n",
      "/var/folders/y6/zdpx63b958z2m6m1927p8tcw0000gn/T/ipykernel_28801/3955951900.py:2: SettingWithCopyWarning: \n",
      "A value is trying to be set on a copy of a slice from a DataFrame.\n",
      "Try using .loc[row_indexer,col_indexer] = value instead\n",
      "\n",
      "See the caveats in the documentation: https://pandas.pydata.org/pandas-docs/stable/user_guide/indexing.html#returning-a-view-versus-a-copy\n",
      "  oot_df['model_pred'] = lr.predict(oot_df[selected_features])\n"
     ]
    }
   ],
   "source": [
    "intime_df['model_pred'] = lr.predict(intime_df[selected_features])\n",
    "oot_df['model_pred'] = lr.predict(oot_df[selected_features])"
   ]
  },
  {
   "cell_type": "code",
   "execution_count": 63,
   "metadata": {},
   "outputs": [
    {
     "data": {
      "text/plain": [
       "Index(['0__sum_values', '0__abs_energy', '0__mean_abs_change',\n",
       "       '0__mean_change', '0__mean_second_derivative_central', '0__median',\n",
       "       '0__mean', '0__standard_deviation', '0__variance', '0__skewness',\n",
       "       ...\n",
       "       '0__ratio_beyond_r_sigma__r_0.5', '0__ratio_beyond_r_sigma__r_1',\n",
       "       '0__count_above__t_0', '0__count_below__t_0',\n",
       "       '0__lempel_ziv_complexity__bins_3', '0__lempel_ziv_complexity__bins_5',\n",
       "       'tax_day', 'date', 'target', 'model_pred'],\n",
       "      dtype='object', length=102)"
      ]
     },
     "execution_count": 63,
     "metadata": {},
     "output_type": "execute_result"
    }
   ],
   "source": [
    "intime_df.columns"
   ]
  },
  {
   "cell_type": "code",
   "execution_count": 64,
   "metadata": {},
   "outputs": [],
   "source": [
    "full_df = pd.concat([intime_df, oot_df])"
   ]
  },
  {
   "cell_type": "code",
   "execution_count": 69,
   "metadata": {},
   "outputs": [],
   "source": [
    "full_df['date'] = pd.to_datetime(full_df['date'])\n"
   ]
  },
  {
   "cell_type": "code",
   "execution_count": 65,
   "metadata": {},
   "outputs": [],
   "source": [
    "maes = []\n",
    "for d in list(sorted(full_df['date'].unique())):\n",
    "    y_true = full_df[full_df['date'] == d]['target']\n",
    "    y_pred = full_df[full_df['date'] == d]['model_pred']\n",
    "    maes.append(mean_absolute_error(y_true, y_pred))\n"
   ]
  },
  {
   "cell_type": "code",
   "execution_count": 77,
   "metadata": {},
   "outputs": [
    {
     "data": {
      "text/plain": [
       "[<matplotlib.lines.Line2D at 0x7feb43bac0a0>]"
      ]
     },
     "execution_count": 77,
     "metadata": {},
     "output_type": "execute_result"
    },
    {
     "data": {
      "image/png": "[encoded data removed]",
      "text/plain": [
       "<Figure size 1440x720 with 1 Axes>"
      ]
     },
     "metadata": {
      "needs_background": "light"
     },
     "output_type": "display_data"
    }
   ],
   "source": [
    "plt.figure(figsize=(20,10))\n",
    "plt.plot(list(sorted(full_df['date'].unique())), maes, color = 'r', linestyle= '--')"
   ]
  },
  {
   "cell_type": "markdown",
   "metadata": {},
   "source": [
    "Модель в целом не ухудшается со временем, ее можно дообучать не так часто. Выберем период дообучения - 1 квартал, чтобы добавлять по новых 3 месяца в выборку OOT."
   ]
  },
  {
   "cell_type": "code",
   "execution_count": 112,
   "metadata": {},
   "outputs": [
    {
     "data": {
      "text/plain": [
       "-0.34087161408409733"
      ]
     },
     "execution_count": 112,
     "metadata": {},
     "output_type": "execute_result"
    }
   ],
   "source": [
    "full_df.target.mean() - full_df.target.std()"
   ]
  },
  {
   "cell_type": "code",
   "execution_count": 113,
   "metadata": {},
   "outputs": [
    {
     "name": "stdout",
     "output_type": "stream",
     "text": [
      "changepoint, shift in data\n",
      "changepoint, shift in data\n",
      "changepoint, shift in data\n",
      "changepoint, shift in data\n",
      "changepoint, shift in data\n",
      "changepoint, shift in data\n",
      "changepoint, shift in data\n",
      "changepoint, shift in data\n",
      "changepoint, shift in data\n"
     ]
    },
    {
     "data": {
      "text/plain": [
       "Timestamp('2017-01-11 00:00:00')"
      ]
     },
     "execution_count": 113,
     "metadata": {},
     "output_type": "execute_result"
    }
   ],
   "source": [
    "alarm_changepoint(full_df)"
   ]
  },
  {
   "cell_type": "code",
   "execution_count": null,
   "metadata": {},
   "outputs": [],
   "source": []
  }
 ],
 "metadata": {
  "kernelspec": {
   "display_name": "Python 3",
   "language": "python",
   "name": "python3"
  },
  "language_info": {
   "codemirror_mode": {
    "name": "ipython",
    "version": 3
   },
   "file_extension": ".py",
   "mimetype": "text/x-python",
   "name": "python",
   "nbconvert_exporter": "python",
   "pygments_lexer": "ipython3",
   "version": "3.8.12"
  }
 },
 "nbformat": 4,
 "nbformat_minor": 2
}
